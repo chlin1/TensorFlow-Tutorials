{
  "nbformat": 4,
  "nbformat_minor": 0,
  "metadata": {
    "colab": {
      "name": "01_Simple_Linear_Model.ipynb",
      "version": "0.3.2",
      "provenance": [],
      "collapsed_sections": [],
      "toc_visible": true,
      "include_colab_link": true
    },
    "kernelspec": {
      "name": "python3",
      "display_name": "Python 3"
    },
    "accelerator": "GPU"
  },
  "cells": [
    {
      "cell_type": "markdown",
      "metadata": {
        "id": "view-in-github",
        "colab_type": "text"
      },
      "source": [
        "<a href=\"https://colab.research.google.com/github/chlin1/tensorflow_tutorial/blob/master/01_Simple_Linear_Model.ipynb\" target=\"_parent\"><img src=\"https://colab.research.google.com/assets/colab-badge.svg\" alt=\"Open In Colab\"/></a>"
      ]
    },
    {
      "metadata": {
        "id": "uMJqLd2pcplD",
        "colab_type": "text"
      },
      "cell_type": "markdown",
      "source": [
        "# TensorFlow Tutorial #01\n",
        "# Simple Linear Model\n",
        "\n",
        "by [Magnus Erik Hvass Pedersen](http://www.hvass-labs.org/)\n",
        "/ [GitHub](https://github.com/Hvass-Labs/TensorFlow-Tutorials) / [Videos on YouTube](https://www.youtube.com/playlist?list=PL9Hr9sNUjfsmEu1ZniY0XpHSzl5uihcXZ)"
      ]
    },
    {
      "metadata": {
        "id": "3MIDlYyacplK",
        "colab_type": "text"
      },
      "cell_type": "markdown",
      "source": [
        "## Introduction\n",
        "\n",
        "This tutorial demonstrates the basic workflow of using TensorFlow with a simple linear model. After loading the so-called MNIST data-set with images of hand-written digits, we define and optimize a simple mathematical model in TensorFlow. The results are then plotted and discussed.\n",
        "\n",
        "You should be familiar with basic linear algebra, Python and the Jupyter Notebook editor. It also helps if you have a basic understanding of Machine Learning and classification."
      ]
    },
    {
      "metadata": {
        "id": "akKBV7fFdylF",
        "colab_type": "code",
        "outputId": "367cfd1d-9969-473c-f64a-abf5ecc4da46",
        "colab": {
          "base_uri": "https://localhost:8080/",
          "height": 34
        }
      },
      "cell_type": "code",
      "source": [
        "import os\n",
        "work_dir = \"/content/TensorFlow-Tutorials/\"\n",
        "if os.getcwd() != work_dir:\n",
        "  !git clone https://github.com/Hvass-Labs/TensorFlow-Tutorials.git\n",
        "os.chdir(work_dir)"
      ],
      "execution_count": 0,
      "outputs": [
        {
          "output_type": "stream",
          "text": [
            "fatal: destination path 'TensorFlow-Tutorials' already exists and is not an empty directory.\n"
          ],
          "name": "stdout"
        }
      ]
    },
    {
      "metadata": {
        "id": "Y2EIsmA8cplM",
        "colab_type": "text"
      },
      "cell_type": "markdown",
      "source": [
        "## Imports"
      ]
    },
    {
      "metadata": {
        "id": "0M8TCvTycplO",
        "colab_type": "code",
        "colab": {}
      },
      "cell_type": "code",
      "source": [
        "%matplotlib inline\n",
        "import matplotlib.pyplot as plt\n",
        "import tensorflow as tf\n",
        "import numpy as np\n",
        "from sklearn.metrics import confusion_matrix"
      ],
      "execution_count": 0,
      "outputs": []
    },
    {
      "metadata": {
        "id": "DfdTY2wocple",
        "colab_type": "text"
      },
      "cell_type": "markdown",
      "source": [
        "This was developed using Python 3.6 (Anaconda) and TensorFlow version:"
      ]
    },
    {
      "metadata": {
        "id": "mSUzjqz5cplg",
        "colab_type": "code",
        "outputId": "712ce2e4-dafd-4c07-bdf6-78a804987da2",
        "colab": {
          "base_uri": "https://localhost:8080/",
          "height": 34
        }
      },
      "cell_type": "code",
      "source": [
        "tf.__version__"
      ],
      "execution_count": 0,
      "outputs": [
        {
          "output_type": "execute_result",
          "data": {
            "text/plain": [
              "'1.12.0'"
            ]
          },
          "metadata": {
            "tags": []
          },
          "execution_count": 453
        }
      ]
    },
    {
      "metadata": {
        "id": "gZSSGjYJcplo",
        "colab_type": "text"
      },
      "cell_type": "markdown",
      "source": [
        "## Load Data"
      ]
    },
    {
      "metadata": {
        "id": "tKEuC6Ricplq",
        "colab_type": "text"
      },
      "cell_type": "markdown",
      "source": [
        "The MNIST data-set is about 12 MB and will be downloaded automatically if it is not located in the given path."
      ]
    },
    {
      "metadata": {
        "id": "kFh7Cy9Zcplt",
        "colab_type": "code",
        "colab": {}
      },
      "cell_type": "code",
      "source": [
        "from mnist import MNIST\n",
        "data = MNIST(data_dir=\"data/MNIST/\")"
      ],
      "execution_count": 0,
      "outputs": []
    },
    {
      "metadata": {
        "id": "aKA6Amq_cplx",
        "colab_type": "text"
      },
      "cell_type": "markdown",
      "source": [
        "The MNIST data-set has now been loaded and consists of 70.000 images and class-numbers for the images. The data-set is split into 3 mutually exclusive sub-sets. We will only use the training and test-sets in this tutorial."
      ]
    },
    {
      "metadata": {
        "id": "ZKXcKZsOcpl0",
        "colab_type": "code",
        "outputId": "54bd630b-4edb-4d75-ec9b-abd3baa4762d",
        "colab": {
          "base_uri": "https://localhost:8080/",
          "height": 85
        }
      },
      "cell_type": "code",
      "source": [
        "print(\"Size of:\")\n",
        "print(\"- Training-set:\\t\\t{}\".format(data.num_train))\n",
        "print(\"- Validation-set:\\t{}\".format(data.num_val))\n",
        "print(\"- Test-set:\\t\\t{}\".format(data.num_test))"
      ],
      "execution_count": 0,
      "outputs": [
        {
          "output_type": "stream",
          "text": [
            "Size of:\n",
            "- Training-set:\t\t55000\n",
            "- Validation-set:\t5000\n",
            "- Test-set:\t\t10000\n"
          ],
          "name": "stdout"
        }
      ]
    },
    {
      "metadata": {
        "id": "Q8A-vfotcpl9",
        "colab_type": "text"
      },
      "cell_type": "markdown",
      "source": [
        "Copy some of the data-dimensions for convenience."
      ]
    },
    {
      "metadata": {
        "id": "5w8n1XrScpl_",
        "colab_type": "code",
        "colab": {}
      },
      "cell_type": "code",
      "source": [
        "# The images are stored in one-dimensional arrays of this length.\n",
        "img_size_flat = data.img_size_flat\n",
        "\n",
        "# Tuple with height and width of images used to reshape arrays.\n",
        "img_shape = data.img_shape\n",
        "\n",
        "# Number of classes, one class for each of 10 digits.\n",
        "num_classes = data.num_classes"
      ],
      "execution_count": 0,
      "outputs": []
    },
    {
      "metadata": {
        "id": "MaWiYnuPblpN",
        "colab_type": "code",
        "outputId": "9271104f-5fc9-45c7-b462-eb3df2ebc658",
        "colab": {
          "base_uri": "https://localhost:8080/",
          "height": 34
        }
      },
      "cell_type": "code",
      "source": [
        "data.y_test_cls"
      ],
      "execution_count": 0,
      "outputs": [
        {
          "output_type": "execute_result",
          "data": {
            "text/plain": [
              "array([7, 2, 1, ..., 4, 5, 6])"
            ]
          },
          "metadata": {
            "tags": []
          },
          "execution_count": 457
        }
      ]
    },
    {
      "metadata": {
        "id": "Xydiuw0WcpmD",
        "colab_type": "text"
      },
      "cell_type": "markdown",
      "source": [
        "### One-Hot Encoding"
      ]
    },
    {
      "metadata": {
        "id": "XEc11Nq2cpmG",
        "colab_type": "text"
      },
      "cell_type": "markdown",
      "source": [
        "The output-data is loaded as both integer class-numbers and so-called One-Hot encoded arrays. This means the class-numbers have been converted from a single integer to a vector whose length equals the number of possible classes. All elements of the vector are zero except for the $i$'th element which is 1 and means the class is $i$. For example, the One-Hot encoded labels for the first 5 images in the test-set are:"
      ]
    },
    {
      "metadata": {
        "id": "V2aPaLPWcpmI",
        "colab_type": "code",
        "outputId": "74414a42-2dd7-48b6-8687-dd58950cdf1a",
        "colab": {
          "base_uri": "https://localhost:8080/",
          "height": 102
        }
      },
      "cell_type": "code",
      "source": [
        "data.y_test[0:5, :]"
      ],
      "execution_count": 0,
      "outputs": [
        {
          "output_type": "execute_result",
          "data": {
            "text/plain": [
              "array([[0., 0., 0., 0., 0., 0., 0., 1., 0., 0.],\n",
              "       [0., 0., 1., 0., 0., 0., 0., 0., 0., 0.],\n",
              "       [0., 1., 0., 0., 0., 0., 0., 0., 0., 0.],\n",
              "       [1., 0., 0., 0., 0., 0., 0., 0., 0., 0.],\n",
              "       [0., 0., 0., 0., 1., 0., 0., 0., 0., 0.]])"
            ]
          },
          "metadata": {
            "tags": []
          },
          "execution_count": 458
        }
      ]
    },
    {
      "metadata": {
        "id": "kGnq-aglcpmS",
        "colab_type": "text"
      },
      "cell_type": "markdown",
      "source": [
        "We also need the classes as integers for various comparisons and performance measures. These can be found from the One-Hot encoded arrays by taking the index of the highest element using the `np.argmax()` function. But this has already been done for us when the data-set was loaded, so we can see the class-number for the first five images in the test-set. Compare these to the One-Hot encoded arrays above."
      ]
    },
    {
      "metadata": {
        "id": "5I90D94tcpmT",
        "colab_type": "code",
        "outputId": "ff055fc0-f15f-48a2-8955-0b76da2c7089",
        "colab": {
          "base_uri": "https://localhost:8080/",
          "height": 34
        }
      },
      "cell_type": "code",
      "source": [
        "data.y_test_cls[0:5]"
      ],
      "execution_count": 0,
      "outputs": [
        {
          "output_type": "execute_result",
          "data": {
            "text/plain": [
              "array([7, 2, 1, 0, 4])"
            ]
          },
          "metadata": {
            "tags": []
          },
          "execution_count": 459
        }
      ]
    },
    {
      "metadata": {
        "id": "9qWs66S1k3kw",
        "colab_type": "code",
        "outputId": "a1ef4d83-371e-47f1-eea6-5115d6938d08",
        "colab": {
          "base_uri": "https://localhost:8080/",
          "height": 34
        }
      },
      "cell_type": "code",
      "source": [
        "[np.argmax(data.y_test[x, :]) for x in range(5)]"
      ],
      "execution_count": 0,
      "outputs": [
        {
          "output_type": "execute_result",
          "data": {
            "text/plain": [
              "[7, 2, 1, 0, 4]"
            ]
          },
          "metadata": {
            "tags": []
          },
          "execution_count": 460
        }
      ]
    },
    {
      "metadata": {
        "id": "IJ7YLZ-hcpmh",
        "colab_type": "text"
      },
      "cell_type": "markdown",
      "source": [
        "### Helper-function for plotting images"
      ]
    },
    {
      "metadata": {
        "id": "T68aeo-1cpmj",
        "colab_type": "text"
      },
      "cell_type": "markdown",
      "source": [
        "Function used to plot 9 images in a 3x3 grid, and writing the true and predicted classes below each image."
      ]
    },
    {
      "metadata": {
        "id": "RgcnvwrJcpmk",
        "colab_type": "code",
        "colab": {}
      },
      "cell_type": "code",
      "source": [
        "def plot_images(images, cls_true, cls_pred=None):\n",
        "    assert len(images) == len(cls_true) == 9\n",
        "    \n",
        "    # Create figure with 3x3 sub-plots.\n",
        "    fig, axes = plt.subplots(3, 3)\n",
        "    fig.subplots_adjust(hspace=0.3, wspace=0.3)\n",
        "\n",
        "    for i, ax in enumerate(axes.flat):\n",
        "        # Plot image.\n",
        "        ax.imshow(images[i].reshape(img_shape), cmap='binary')\n",
        "\n",
        "        # Show true and predicted classes.\n",
        "        if cls_pred is None:\n",
        "            xlabel = \"True: {0}\".format(cls_true[i])\n",
        "        else:\n",
        "            xlabel = \"True: {0}, Pred: {1}\".format(cls_true[i], cls_pred[i])\n",
        "\n",
        "        ax.set_xlabel(xlabel)\n",
        "        \n",
        "        # Remove ticks from the plot.\n",
        "        ax.set_xticks([])\n",
        "        ax.set_yticks([])\n",
        "        \n",
        "    # Ensure the plot is shown correctly with multiple plots\n",
        "    # in a single Notebook cell.\n",
        "    plt.show()"
      ],
      "execution_count": 0,
      "outputs": []
    },
    {
      "metadata": {
        "id": "T6l5ovUYcpmp",
        "colab_type": "text"
      },
      "cell_type": "markdown",
      "source": [
        "### Plot a few images to see if data is correct"
      ]
    },
    {
      "metadata": {
        "id": "yMB0z0lGcpmr",
        "colab_type": "code",
        "outputId": "90d0edd4-96f2-437f-b316-c3f955d152c7",
        "colab": {
          "base_uri": "https://localhost:8080/",
          "height": 262
        }
      },
      "cell_type": "code",
      "source": [
        "# Get the first images from the test-set.\n",
        "images = data.x_test[0:9]\n",
        "\n",
        "# Get the true classes for those images.\n",
        "cls_true = data.y_test_cls[0:9]\n",
        "\n",
        "# Plot the images and labels using our helper-function above.\n",
        "plot_images(images=images, cls_true=cls_true)"
      ],
      "execution_count": 0,
      "outputs": [
        {
          "output_type": "display_data",
          "data": {
            "image/png": "[encoded data removed]",
            "text/plain": [
              "<matplotlib.figure.Figure at 0x7f30b0f23320>"
            ]
          },
          "metadata": {
            "tags": []
          }
        }
      ]
    },
    {
      "metadata": {
        "id": "0xzRGIeXcpmx",
        "colab_type": "text"
      },
      "cell_type": "markdown",
      "source": [
        "## TensorFlow Graph\n",
        "\n",
        "The entire purpose of TensorFlow is to have a so-called computational graph that can be executed much more efficiently than if the same calculations were to be performed directly in Python. TensorFlow can be more efficient than NumPy because TensorFlow knows the entire computation graph that must be executed, while NumPy only knows the computation of a single mathematical operation at a time.\n",
        "\n",
        "TensorFlow can also automatically calculate the gradients that are needed to optimize the variables of the graph so as to make the model perform better. This is because the graph is a combination of simple mathematical expressions so the gradient of the entire graph can be calculated using the chain-rule for derivatives.\n",
        "\n",
        "TensorFlow can also take advantage of multi-core CPUs as well as GPUs - and Google has even built special chips just for TensorFlow which are called TPUs (Tensor Processing Units) that are even faster than GPUs.\n",
        "\n",
        "A TensorFlow graph consists of the following parts which will be detailed below:\n",
        "\n",
        "* Placeholder variables used to feed input into the graph.\n",
        "* Model variables that are going to be optimized so as to make the model perform better.\n",
        "* The model which is essentially just a mathematical function that calculates some output given the input in the placeholder variables and the model variables.\n",
        "* A cost measure that can be used to guide the optimization of the variables.\n",
        "* An optimization method which updates the variables of the model.\n",
        "\n",
        "In addition, the TensorFlow graph may also contain various debugging statements e.g. for logging data to be displayed using TensorBoard, which is not covered in this tutorial."
      ]
    },
    {
      "metadata": {
        "id": "tcDQHQnjcpmz",
        "colab_type": "text"
      },
      "cell_type": "markdown",
      "source": [
        "### Placeholder variables"
      ]
    },
    {
      "metadata": {
        "id": "zPIFkoc5cpm1",
        "colab_type": "text"
      },
      "cell_type": "markdown",
      "source": [
        "Placeholder variables serve as the input to the graph that we may change each time we execute the graph. We call this feeding the placeholder variables and it is demonstrated further below.\n",
        "\n",
        "First we define the placeholder variable for the input images. This allows us to change the images that are input to the TensorFlow graph. This is a so-called tensor, which just means that it is a multi-dimensional vector or matrix. The data-type is set to `float32` and the shape is set to `[None, img_size_flat]`, where `None` means that the tensor may hold an arbitrary number of images with each image being a vector of length `img_size_flat`."
      ]
    },
    {
      "metadata": {
        "id": "SgxNd8wocpm3",
        "colab_type": "code",
        "colab": {}
      },
      "cell_type": "code",
      "source": [
        "x = tf.placeholder(tf.float32, [None, img_size_flat])"
      ],
      "execution_count": 0,
      "outputs": []
    },
    {
      "metadata": {
        "id": "XcsgdAL0cpm9",
        "colab_type": "text"
      },
      "cell_type": "markdown",
      "source": [
        "Next we have the placeholder variable for the true labels associated with the images that were input in the placeholder variable `x`. The shape of this placeholder variable is `[None, num_classes]` which means it may hold an arbitrary number of labels and each label is a vector of length `num_classes` which is 10 in this case."
      ]
    },
    {
      "metadata": {
        "id": "-LH46FO6cpnC",
        "colab_type": "code",
        "colab": {}
      },
      "cell_type": "code",
      "source": [
        "y_true = tf.placeholder(tf.float32, [None, num_classes])"
      ],
      "execution_count": 0,
      "outputs": []
    },
    {
      "metadata": {
        "id": "kt7H2IKvcpnH",
        "colab_type": "text"
      },
      "cell_type": "markdown",
      "source": [
        "Finally we have the placeholder variable for the true class of each image in the placeholder variable `x`. These are integers and the dimensionality of this placeholder variable is set to `[None]` which means the placeholder variable is a one-dimensional vector of arbitrary length."
      ]
    },
    {
      "metadata": {
        "id": "LQ4fS4XNcpnJ",
        "colab_type": "code",
        "colab": {}
      },
      "cell_type": "code",
      "source": [
        "y_true_cls = tf.placeholder(tf.int64, [None])"
      ],
      "execution_count": 0,
      "outputs": []
    },
    {
      "metadata": {
        "id": "4jI8kPQEcpnQ",
        "colab_type": "text"
      },
      "cell_type": "markdown",
      "source": [
        "### Variables to be optimized"
      ]
    },
    {
      "metadata": {
        "id": "Kk2O2qjVcpnU",
        "colab_type": "text"
      },
      "cell_type": "markdown",
      "source": [
        "Apart from the placeholder variables that were defined above and which serve as feeding input data into the model, there are also some model variables that must be changed by TensorFlow so as to make the model perform better on the training data.\n",
        "\n",
        "The first variable that must be optimized is called `weights` and is defined here as a TensorFlow variable that must be initialized with zeros and whose shape is `[img_size_flat, num_classes]`, so it is a 2-dimensional tensor (or matrix) with `img_size_flat` rows and `num_classes` columns."
      ]
    },
    {
      "metadata": {
        "id": "MFupO-9gcpnV",
        "colab_type": "code",
        "colab": {}
      },
      "cell_type": "code",
      "source": [
        "weights = tf.Variable(tf.zeros([img_size_flat, num_classes]))"
      ],
      "execution_count": 0,
      "outputs": []
    },
    {
      "metadata": {
        "id": "YWGWqxi_cpnf",
        "colab_type": "text"
      },
      "cell_type": "markdown",
      "source": [
        "The second variable that must be optimized is called `biases` and is defined as a 1-dimensional tensor (or vector) of length `num_classes`."
      ]
    },
    {
      "metadata": {
        "id": "MMLJsQUEcpng",
        "colab_type": "code",
        "colab": {}
      },
      "cell_type": "code",
      "source": [
        "biases = tf.Variable(tf.zeros([num_classes]))"
      ],
      "execution_count": 0,
      "outputs": []
    },
    {
      "metadata": {
        "id": "FiT6zyWFcpnl",
        "colab_type": "text"
      },
      "cell_type": "markdown",
      "source": [
        "### Model"
      ]
    },
    {
      "metadata": {
        "id": "WAQJCe3Ocpnm",
        "colab_type": "text"
      },
      "cell_type": "markdown",
      "source": [
        "This simple mathematical model multiplies the images in the placeholder variable `x` with the `weights` and then adds the `biases`.\n",
        "\n",
        "The result is a matrix of shape `[num_images, num_classes]` because `x` has shape `[num_images, img_size_flat]` and `weights` has shape `[img_size_flat, num_classes]`, so the multiplication of those two matrices is a matrix with shape `[num_images, num_classes]` and then the `biases` vector is added to each row of that matrix.\n",
        "\n",
        "Note that the name `logits` is typical TensorFlow terminology, but other people may call the variable something else."
      ]
    },
    {
      "metadata": {
        "id": "fyrH97W_cpnp",
        "colab_type": "code",
        "colab": {}
      },
      "cell_type": "code",
      "source": [
        "logits = tf.matmul(x, weights) + biases"
      ],
      "execution_count": 0,
      "outputs": []
    },
    {
      "metadata": {
        "id": "bPF1N3gacpnv",
        "colab_type": "text"
      },
      "cell_type": "markdown",
      "source": [
        "Now `logits` is a matrix with `num_images` rows and `num_classes` columns, where the element of the $i$'th row and $j$'th column is an estimate of how likely the $i$'th input image is to be of the $j$'th class.\n",
        "\n",
        "However, these estimates are a bit rough and difficult to interpret because the numbers may be very small or large, so we want to normalize them so that each row of the `logits` matrix sums to one, and each element is limited between zero and one. This is calculated using the so-called softmax function and the result is stored in `y_pred`."
      ]
    },
    {
      "metadata": {
        "id": "Btui3Q5xcpnw",
        "colab_type": "code",
        "colab": {}
      },
      "cell_type": "code",
      "source": [
        "y_pred = tf.nn.softmax(logits)"
      ],
      "execution_count": 0,
      "outputs": []
    },
    {
      "metadata": {
        "id": "jesFIs21cpn1",
        "colab_type": "text"
      },
      "cell_type": "markdown",
      "source": [
        "The predicted class can be calculated from the `y_pred` matrix by taking the index of the largest element in each row."
      ]
    },
    {
      "metadata": {
        "id": "4YxV_Q6icpn2",
        "colab_type": "code",
        "colab": {}
      },
      "cell_type": "code",
      "source": [
        "y_pred_cls = tf.argmax(y_pred, axis=1)"
      ],
      "execution_count": 0,
      "outputs": []
    },
    {
      "metadata": {
        "id": "UtU3ecmTcpn7",
        "colab_type": "text"
      },
      "cell_type": "markdown",
      "source": [
        "### Cost-function to be optimized"
      ]
    },
    {
      "metadata": {
        "id": "I7zu0s0-cpn9",
        "colab_type": "text"
      },
      "cell_type": "markdown",
      "source": [
        "To make the model better at classifying the input images, we must somehow change the variables for `weights` and `biases`. To do this we first need to know how well the model currently performs by comparing the predicted output of the model `y_pred` to the desired output `y_true`.\n",
        "\n",
        "The cross-entropy is a performance measure used in classification. The cross-entropy is a continuous function that is always positive and if the predicted output of the model exactly matches the desired output then the cross-entropy equals zero. The goal of optimization is therefore to minimize the cross-entropy so it gets as close to zero as possible by changing the `weights` and `biases` of the model.\n",
        "\n",
        "TensorFlow has a built-in function for calculating the cross-entropy. Note that it uses the values of the `logits` because it also calculates the softmax internally."
      ]
    },
    {
      "metadata": {
        "id": "t8tW0yw3cpn-",
        "colab_type": "code",
        "colab": {}
      },
      "cell_type": "code",
      "source": [
        "cross_entropy = tf.nn.softmax_cross_entropy_with_logits_v2(logits=logits,\n",
        "                                                           labels=y_true)"
      ],
      "execution_count": 0,
      "outputs": []
    },
    {
      "metadata": {
        "id": "1X9yY2pCcpoE",
        "colab_type": "text"
      },
      "cell_type": "markdown",
      "source": [
        "We have now calculated the cross-entropy for each of the image classifications so we have a measure of how well the model performs on each image individually. But in order to use the cross-entropy to guide the optimization of the model's variables we need a single scalar value, so we simply take the average of the cross-entropy for all the image classifications."
      ]
    },
    {
      "metadata": {
        "id": "CmNeue9OcpoG",
        "colab_type": "code",
        "colab": {}
      },
      "cell_type": "code",
      "source": [
        "cost = tf.reduce_mean(cross_entropy)"
      ],
      "execution_count": 0,
      "outputs": []
    },
    {
      "metadata": {
        "id": "eCI8KpVFcpoK",
        "colab_type": "text"
      },
      "cell_type": "markdown",
      "source": [
        "### Optimization method"
      ]
    },
    {
      "metadata": {
        "id": "ym7ZDrh6cpoO",
        "colab_type": "text"
      },
      "cell_type": "markdown",
      "source": [
        "Now that we have a cost measure that must be minimized, we can then create an optimizer. In this case it is the basic form of Gradient Descent where the step-size is set to 0.5.\n",
        "\n",
        "Note that optimization is not performed at this point. In fact, nothing is calculated at all, we just add the optimizer-object to the TensorFlow graph for later execution."
      ]
    },
    {
      "metadata": {
        "id": "GsYgToijcpoP",
        "colab_type": "code",
        "colab": {}
      },
      "cell_type": "code",
      "source": [
        "#optimizer = tf.train.GradientDescentOptimizer(learning_rate=0.5).minimize(cost)\n",
        "global_step = tf.Variable(0, name='global_step',trainable=False, dtype=tf.int64)\n",
        "optimizer = tf.train.AdagradDAOptimizer(learning_rate=0.5, global_step = global_step).minimize((cost))\n",
        "#optimizer = tf.train.AdamOptimizer(learning_rate=0.5).minimize((cost))"
      ],
      "execution_count": 0,
      "outputs": []
    },
    {
      "metadata": {
        "id": "jfoopNWEcpoX",
        "colab_type": "text"
      },
      "cell_type": "markdown",
      "source": [
        "### Performance measures"
      ]
    },
    {
      "metadata": {
        "id": "VHe5VjfdcpoZ",
        "colab_type": "text"
      },
      "cell_type": "markdown",
      "source": [
        "We need a few more performance measures to display the progress to the user.\n",
        "\n",
        "This is a vector of booleans whether the predicted class equals the true class of each image."
      ]
    },
    {
      "metadata": {
        "id": "3ftQnPMlcpog",
        "colab_type": "code",
        "colab": {}
      },
      "cell_type": "code",
      "source": [
        "correct_prediction = tf.equal(y_pred_cls, y_true_cls)"
      ],
      "execution_count": 0,
      "outputs": []
    },
    {
      "metadata": {
        "id": "4beJdxbEcpok",
        "colab_type": "text"
      },
      "cell_type": "markdown",
      "source": [
        "This calculates the classification accuracy by first type-casting the vector of booleans to floats, so that False becomes 0 and True becomes 1, and then calculating the average of these numbers."
      ]
    },
    {
      "metadata": {
        "id": "NfO8P8aHcpol",
        "colab_type": "code",
        "colab": {}
      },
      "cell_type": "code",
      "source": [
        "accuracy = tf.reduce_mean(tf.cast(correct_prediction, tf.float32))"
      ],
      "execution_count": 0,
      "outputs": []
    },
    {
      "metadata": {
        "id": "q-9jY2iM63GS",
        "colab_type": "code",
        "colab": {}
      },
      "cell_type": "code",
      "source": [
        "#tf.cast?"
      ],
      "execution_count": 0,
      "outputs": []
    },
    {
      "metadata": {
        "id": "v07dkbaEcpoo",
        "colab_type": "text"
      },
      "cell_type": "markdown",
      "source": [
        "## TensorFlow Run"
      ]
    },
    {
      "metadata": {
        "id": "SGLiPen5cpop",
        "colab_type": "text"
      },
      "cell_type": "markdown",
      "source": [
        "### Create TensorFlow session\n",
        "\n",
        "Once the TensorFlow graph has been created, we have to create a TensorFlow session which is used to execute the graph."
      ]
    },
    {
      "metadata": {
        "id": "dPk7vdFCcpor",
        "colab_type": "code",
        "colab": {}
      },
      "cell_type": "code",
      "source": [
        "session = tf.Session()"
      ],
      "execution_count": 0,
      "outputs": []
    },
    {
      "metadata": {
        "id": "thOW7tfgcpou",
        "colab_type": "text"
      },
      "cell_type": "markdown",
      "source": [
        "### Initialize variables\n",
        "\n",
        "The variables for `weights` and `biases` must be initialized before we start optimizing them."
      ]
    },
    {
      "metadata": {
        "id": "ZGRHw8sRcpov",
        "colab_type": "code",
        "colab": {}
      },
      "cell_type": "code",
      "source": [
        "session.run(tf.global_variables_initializer())"
      ],
      "execution_count": 0,
      "outputs": []
    },
    {
      "metadata": {
        "id": "7471YDEWcpo0",
        "colab_type": "text"
      },
      "cell_type": "markdown",
      "source": [
        "### Helper-function to perform optimization iterations"
      ]
    },
    {
      "metadata": {
        "id": "R315vADNcpo1",
        "colab_type": "text"
      },
      "cell_type": "markdown",
      "source": [
        "There are 55.000 images in the training-set. It takes a long time to calculate the gradient of the model using all these images. We therefore use Stochastic Gradient Descent which only uses a small batch of images in each iteration of the optimizer."
      ]
    },
    {
      "metadata": {
        "id": "CnAbhsl8cpo2",
        "colab_type": "code",
        "colab": {}
      },
      "cell_type": "code",
      "source": [
        "batch_size = 100"
      ],
      "execution_count": 0,
      "outputs": []
    },
    {
      "metadata": {
        "id": "d8DlPZnKcppA",
        "colab_type": "text"
      },
      "cell_type": "markdown",
      "source": [
        "Function for performing a number of optimization iterations so as to gradually improve the `weights` and `biases` of the model. In each iteration, a new batch of data is selected from the training-set and then TensorFlow executes the optimizer using those training samples."
      ]
    },
    {
      "metadata": {
        "id": "kcVtqCrWcppD",
        "colab_type": "code",
        "colab": {}
      },
      "cell_type": "code",
      "source": [
        "def optimize(num_iterations):\n",
        "    for i in range(num_iterations):\n",
        "        # Get a batch of training examples.\n",
        "        # x_batch now holds a batch of images and\n",
        "        # y_true_batch are the true labels for those images.\n",
        "        x_batch, y_true_batch, _ = data.random_batch(batch_size=batch_size)\n",
        "        \n",
        "        # Put the batch into a dict with the proper names\n",
        "        # for placeholder variables in the TensorFlow graph.\n",
        "        # Note that the placeholder for y_true_cls is not set\n",
        "        # because it is not used during training.\n",
        "        feed_dict_train = {x: x_batch,\n",
        "                           y_true: y_true_batch}\n",
        "\n",
        "        # Run the optimizer using this batch of training data.\n",
        "        # TensorFlow assigns the variables in feed_dict_train\n",
        "        # to the placeholder variables and then runs the optimizer.\n",
        "        session.run(optimizer, feed_dict=feed_dict_train)"
      ],
      "execution_count": 0,
      "outputs": []
    },
    {
      "metadata": {
        "id": "GFzxfaI08LS5",
        "colab_type": "code",
        "outputId": "54f3ac1e-bb6b-43aa-909e-4047543c4272",
        "colab": {
          "base_uri": "https://localhost:8080/",
          "height": 34
        }
      },
      "cell_type": "code",
      "source": [
        "# data.random_batch?\n",
        "data.img_size_flat"
      ],
      "execution_count": 0,
      "outputs": [
        {
          "output_type": "execute_result",
          "data": {
            "text/plain": [
              "784"
            ]
          },
          "metadata": {
            "tags": []
          },
          "execution_count": 481
        }
      ]
    },
    {
      "metadata": {
        "id": "LpVOr1QycppG",
        "colab_type": "text"
      },
      "cell_type": "markdown",
      "source": [
        "### Helper-functions to show performance"
      ]
    },
    {
      "metadata": {
        "id": "6rJHMuaMcppH",
        "colab_type": "text"
      },
      "cell_type": "markdown",
      "source": [
        "Dict with the test-set data to be used as input to the TensorFlow graph. Note that we must use the correct names for the placeholder variables in the TensorFlow graph."
      ]
    },
    {
      "metadata": {
        "id": "7ypB2JZWcppK",
        "colab_type": "code",
        "colab": {}
      },
      "cell_type": "code",
      "source": [
        "feed_dict_test = {x: data.x_test,\n",
        "                  y_true: data.y_test,\n",
        "                  y_true_cls: data.y_test_cls}"
      ],
      "execution_count": 0,
      "outputs": []
    },
    {
      "metadata": {
        "id": "szpx7uYEcppP",
        "colab_type": "text"
      },
      "cell_type": "markdown",
      "source": [
        "Function for printing the classification accuracy on the test-set."
      ]
    },
    {
      "metadata": {
        "id": "grq4OQorcppQ",
        "colab_type": "code",
        "colab": {}
      },
      "cell_type": "code",
      "source": [
        "def print_accuracy():\n",
        "    # Use TensorFlow to compute the accuracy.\n",
        "    acc = session.run(accuracy, feed_dict=feed_dict_test)\n",
        "    \n",
        "    # Print the accuracy.\n",
        "    print(\"Accuracy on test-set: {0:.1%}\".format(acc))"
      ],
      "execution_count": 0,
      "outputs": []
    },
    {
      "metadata": {
        "id": "Lfd1qrN0cppU",
        "colab_type": "text"
      },
      "cell_type": "markdown",
      "source": [
        "Function for printing and plotting the confusion matrix using scikit-learn."
      ]
    },
    {
      "metadata": {
        "id": "RmqcrbJfcppW",
        "colab_type": "code",
        "colab": {}
      },
      "cell_type": "code",
      "source": [
        "def print_confusion_matrix():\n",
        "    # Get the true classifications for the test-set.\n",
        "    cls_true = data.y_test_cls\n",
        "    \n",
        "    # Get the predicted classifications for the test-set.\n",
        "    cls_pred = session.run(y_pred_cls, feed_dict=feed_dict_test)\n",
        "\n",
        "    # Get the confusion matrix using sklearn.\n",
        "    cm = confusion_matrix(y_true=cls_true,\n",
        "                          y_pred=cls_pred)\n",
        "\n",
        "    # Print the confusion matrix as text.\n",
        "    print(cm)\n",
        "\n",
        "    # Plot the confusion matrix as an image.\n",
        "    plt.imshow(cm, interpolation='nearest', cmap=plt.cm.Blues)\n",
        "\n",
        "    # Make various adjustments to the plot.\n",
        "    plt.tight_layout()\n",
        "    plt.colorbar()\n",
        "    tick_marks = np.arange(num_classes)\n",
        "    plt.xticks(tick_marks, range(num_classes))\n",
        "    plt.yticks(tick_marks, range(num_classes))\n",
        "    plt.xlabel('Predicted')\n",
        "    plt.ylabel('True')\n",
        "    \n",
        "    # Ensure the plot is shown correctly with multiple plots\n",
        "    # in a single Notebook cell.\n",
        "    plt.show()"
      ],
      "execution_count": 0,
      "outputs": []
    },
    {
      "metadata": {
        "id": "VBLfwHGncppb",
        "colab_type": "text"
      },
      "cell_type": "markdown",
      "source": [
        "Function for plotting examples of images from the test-set that have been mis-classified."
      ]
    },
    {
      "metadata": {
        "id": "IFyc6Y1kcppc",
        "colab_type": "code",
        "colab": {}
      },
      "cell_type": "code",
      "source": [
        "def plot_example_errors():\n",
        "    # Use TensorFlow to get a list of boolean values\n",
        "    # whether each test-image has been correctly classified,\n",
        "    # and a list for the predicted class of each image.\n",
        "    correct, cls_pred = session.run([correct_prediction, y_pred_cls],\n",
        "                                    feed_dict=feed_dict_test)\n",
        "\n",
        "    # Negate the boolean array.\n",
        "    incorrect = (correct == False)\n",
        "    \n",
        "    # Get the images from the test-set that have been\n",
        "    # incorrectly classified.\n",
        "    images = data.x_test[incorrect]\n",
        "    \n",
        "    # Get the predicted classes for those images.\n",
        "    cls_pred = cls_pred[incorrect]\n",
        "\n",
        "    # Get the true classes for those images.\n",
        "    cls_true = data.y_test_cls[incorrect]\n",
        "    \n",
        "    # Plot the first 9 images.\n",
        "    plot_images(images=images[0:9],\n",
        "                cls_true=cls_true[0:9],\n",
        "                cls_pred=cls_pred[0:9])"
      ],
      "execution_count": 0,
      "outputs": []
    },
    {
      "metadata": {
        "id": "XWOWRISIcppg",
        "colab_type": "text"
      },
      "cell_type": "markdown",
      "source": [
        "### Helper-function to plot the model weights"
      ]
    },
    {
      "metadata": {
        "id": "9iEzZ2_icppj",
        "colab_type": "text"
      },
      "cell_type": "markdown",
      "source": [
        "Function for plotting the `weights` of the model. 10 images are plotted, one for each digit that the model is trained to recognize."
      ]
    },
    {
      "metadata": {
        "id": "4TK_2U2acppk",
        "colab_type": "code",
        "colab": {}
      },
      "cell_type": "code",
      "source": [
        "def plot_weights():\n",
        "    # Get the values for the weights from the TensorFlow variable.\n",
        "    w = session.run(weights)\n",
        "    \n",
        "    # Get the lowest and highest values for the weights.\n",
        "    # This is used to correct the colour intensity across\n",
        "    # the images so they can be compared with each other.\n",
        "    w_min = np.min(w)\n",
        "    w_max = np.max(w)\n",
        "\n",
        "    # Create figure with 3x4 sub-plots,\n",
        "    # where the last 2 sub-plots are unused.\n",
        "    fig, axes = plt.subplots(3, 4)\n",
        "    fig.subplots_adjust(hspace=0.3, wspace=0.3)\n",
        "\n",
        "    for i, ax in enumerate(axes.flat):\n",
        "        # Only use the weights for the first 10 sub-plots.\n",
        "        if i<10:\n",
        "            # Get the weights for the i'th digit and reshape it.\n",
        "            # Note that w.shape == (img_size_flat, 10)\n",
        "            image = w[:, i].reshape(img_shape)\n",
        "\n",
        "            # Set the label for the sub-plot.\n",
        "            ax.set_xlabel(\"Weights: {0}\".format(i))\n",
        "\n",
        "            # Plot the image.\n",
        "            ax.imshow(image, vmin=w_min, vmax=w_max, cmap='seismic')\n",
        "\n",
        "        # Remove ticks from each sub-plot.\n",
        "        ax.set_xticks([])\n",
        "        ax.set_yticks([])\n",
        "        \n",
        "    # Ensure the plot is shown correctly with multiple plots\n",
        "    # in a single Notebook cell.\n",
        "    plt.show()"
      ],
      "execution_count": 0,
      "outputs": []
    },
    {
      "metadata": {
        "id": "GLD3eVIkcppr",
        "colab_type": "text"
      },
      "cell_type": "markdown",
      "source": [
        "## Performance before any optimization\n",
        "\n",
        "The accuracy on the test-set is 9.8%. This is because the model has only been initialized and not optimized at all, so it always predicts that the image shows a zero digit, as demonstrated in the plot below, and it turns out that 9.8% of the images in the test-set happens to be zero digits."
      ]
    },
    {
      "metadata": {
        "id": "8zjCyUWEcpqj",
        "colab_type": "code",
        "outputId": "099c483d-51f8-4e65-c84a-e251bf445a2c",
        "colab": {
          "base_uri": "https://localhost:8080/",
          "height": 34
        }
      },
      "cell_type": "code",
      "source": [
        "print_accuracy()"
      ],
      "execution_count": 0,
      "outputs": [
        {
          "output_type": "stream",
          "text": [
            "Accuracy on test-set: 9.8%\n"
          ],
          "name": "stdout"
        }
      ]
    },
    {
      "metadata": {
        "id": "C2AxgG7ncpqs",
        "colab_type": "code",
        "outputId": "2f371d2c-91f4-4b2a-ca60-f6eeb156a525",
        "colab": {
          "base_uri": "https://localhost:8080/",
          "height": 262
        }
      },
      "cell_type": "code",
      "source": [
        "plot_example_errors()"
      ],
      "execution_count": 0,
      "outputs": [
        {
          "output_type": "display_data",
          "data": {
            "image/png": "[encoded data removed]",
            "text/plain": [
              "<matplotlib.figure.Figure at 0x7f30b2e76d68>"
            ]
          },
          "metadata": {
            "tags": []
          }
        }
      ]
    },
    {
      "metadata": {
        "id": "2HcGMU7lcpqx",
        "colab_type": "text"
      },
      "cell_type": "markdown",
      "source": [
        "## Performance after 1 optimization iteration\n",
        "\n",
        "Already after a single optimization iteration, the model has increased its accuracy on the test-set significantly."
      ]
    },
    {
      "metadata": {
        "id": "yLn6As9hcpqz",
        "colab_type": "code",
        "colab": {}
      },
      "cell_type": "code",
      "source": [
        "optimize(num_iterations=1)"
      ],
      "execution_count": 0,
      "outputs": []
    },
    {
      "metadata": {
        "id": "AstXkM3Rcpq7",
        "colab_type": "code",
        "outputId": "c3214220-ea5f-4822-c11c-569a9b9384be",
        "colab": {
          "base_uri": "https://localhost:8080/",
          "height": 34
        }
      },
      "cell_type": "code",
      "source": [
        "print_accuracy()"
      ],
      "execution_count": 0,
      "outputs": [
        {
          "output_type": "stream",
          "text": [
            "Accuracy on test-set: 44.8%\n"
          ],
          "name": "stdout"
        }
      ]
    },
    {
      "metadata": {
        "id": "DonzS3B0cprH",
        "colab_type": "code",
        "outputId": "34f6261b-6d79-4c2c-888a-79d64d4ffa2f",
        "colab": {
          "base_uri": "https://localhost:8080/",
          "height": 262
        }
      },
      "cell_type": "code",
      "source": [
        "plot_example_errors()"
      ],
      "execution_count": 0,
      "outputs": [
        {
          "output_type": "display_data",
          "data": {
            "image/png": "[encoded data removed]",
            "text/plain": [
              "<matplotlib.figure.Figure at 0x7f30b0284908>"
            ]
          },
          "metadata": {
            "tags": []
          }
        }
      ]
    },
    {
      "metadata": {
        "id": "_u8EYvU5cprN",
        "colab_type": "text"
      },
      "cell_type": "markdown",
      "source": [
        "The weights can also be plotted as shown below. Positive weights are red and negative weights are blue. These weights can be intuitively understood as image-filters.\n",
        "\n",
        "For example, the weights used to determine if an image shows a zero-digit have a positive reaction (red) to an image of a circle, and  have a negative reaction (blue) to images with content in the centre of the circle.\n",
        "\n",
        "Similarly, the weights used to determine if an image shows a one-digit react positively (red) to a vertical line in the centre of the image, and react negatively (blue) to images with content surrounding that line.\n",
        "\n",
        "Note that the weights mostly look like the digits they're supposed to recognize. This is because only one optimization iteration has been performed so the weights are only trained on 100 images. After training on several thousand images, the weights become more difficult to interpret because they have to recognize many variations of how digits can be written."
      ]
    },
    {
      "metadata": {
        "id": "IIVFKYWZcprO",
        "colab_type": "code",
        "outputId": "08e78141-9f37-4fc0-f26e-2bf26c96963d",
        "colab": {
          "base_uri": "https://localhost:8080/",
          "height": 262
        }
      },
      "cell_type": "code",
      "source": [
        "plot_weights()"
      ],
      "execution_count": 0,
      "outputs": [
        {
          "output_type": "display_data",
          "data": {
            "image/png": "[encoded data removed]",
            "text/plain": [
              "<matplotlib.figure.Figure at 0x7f30b3d12a20>"
            ]
          },
          "metadata": {
            "tags": []
          }
        }
      ]
    },
    {
      "metadata": {
        "id": "tUlC2U0Ycprf",
        "colab_type": "text"
      },
      "cell_type": "markdown",
      "source": [
        "## Performance after 10 optimization iterations"
      ]
    },
    {
      "metadata": {
        "id": "_skKN9jucprh",
        "colab_type": "code",
        "colab": {}
      },
      "cell_type": "code",
      "source": [
        "# We have already performed 1 iteration.\n",
        "optimize(num_iterations=9)"
      ],
      "execution_count": 0,
      "outputs": []
    },
    {
      "metadata": {
        "id": "rHeYWO6ecpr-",
        "colab_type": "code",
        "outputId": "05e46974-a750-4b06-b670-29d765478582",
        "colab": {
          "base_uri": "https://localhost:8080/",
          "height": 34
        }
      },
      "cell_type": "code",
      "source": [
        "print_accuracy()"
      ],
      "execution_count": 0,
      "outputs": [
        {
          "output_type": "stream",
          "text": [
            "Accuracy on test-set: 54.5%\n"
          ],
          "name": "stdout"
        }
      ]
    },
    {
      "metadata": {
        "id": "Nrv_l0jAcpsG",
        "colab_type": "code",
        "outputId": "41ad7e0e-3eb8-4ecc-910c-4d3abd4bcb3a",
        "colab": {
          "base_uri": "https://localhost:8080/",
          "height": 262
        }
      },
      "cell_type": "code",
      "source": [
        "plot_example_errors()"
      ],
      "execution_count": 0,
      "outputs": [
        {
          "output_type": "display_data",
          "data": {
            "image/png": "[encoded data removed]",
            "text/plain": [
              "<matplotlib.figure.Figure at 0x7f30b3738b00>"
            ]
          },
          "metadata": {
            "tags": []
          }
        }
      ]
    },
    {
      "metadata": {
        "id": "zkYzX1wlcpsM",
        "colab_type": "code",
        "outputId": "247d2a49-aabb-4609-f4ee-19ec71626cfe",
        "colab": {
          "base_uri": "https://localhost:8080/",
          "height": 262
        }
      },
      "cell_type": "code",
      "source": [
        "plot_weights()"
      ],
      "execution_count": 0,
      "outputs": [
        {
          "output_type": "display_data",
          "data": {
            "image/png": "[encoded data removed]",
            "text/plain": [
              "<matplotlib.figure.Figure at 0x7f30b2421828>"
            ]
          },
          "metadata": {
            "tags": []
          }
        }
      ]
    },
    {
      "metadata": {
        "id": "5iJhlRzPcpsR",
        "colab_type": "text"
      },
      "cell_type": "markdown",
      "source": [
        "## Performance after 1000 optimization iterations\n",
        "\n",
        "After 1000 optimization iterations, the model only mis-classifies about one in ten images. As demonstrated below, some of the mis-classifications are justified because the images are very hard to determine with certainty even for humans, while others are quite obvious and should have been classified correctly by a good model. But this simple model cannot reach much better performance and more complex models are therefore needed."
      ]
    },
    {
      "metadata": {
        "id": "qwSZtOIAcpsT",
        "colab_type": "code",
        "colab": {}
      },
      "cell_type": "code",
      "source": [
        "# We have already performed 10 iterations.\n",
        "optimize(num_iterations=990)"
      ],
      "execution_count": 0,
      "outputs": []
    },
    {
      "metadata": {
        "id": "nLA-lX_OcpsW",
        "colab_type": "code",
        "outputId": "9247813a-f106-4eb1-985a-862a45abaa12",
        "colab": {
          "base_uri": "https://localhost:8080/",
          "height": 34
        }
      },
      "cell_type": "code",
      "source": [
        "print_accuracy()"
      ],
      "execution_count": 0,
      "outputs": [
        {
          "output_type": "stream",
          "text": [
            "Accuracy on test-set: 91.6%\n"
          ],
          "name": "stdout"
        }
      ]
    },
    {
      "metadata": {
        "id": "B4an1V9gcpse",
        "colab_type": "code",
        "outputId": "068ee57e-3733-486b-e4db-efc276aec633",
        "colab": {
          "base_uri": "https://localhost:8080/",
          "height": 262
        }
      },
      "cell_type": "code",
      "source": [
        "plot_example_errors()"
      ],
      "execution_count": 0,
      "outputs": [
        {
          "output_type": "display_data",
          "data": {
            "image/png": "[encoded data removed]",
            "text/plain": [
              "<matplotlib.figure.Figure at 0x7f30b124a240>"
            ]
          },
          "metadata": {
            "tags": []
          }
        }
      ]
    },
    {
      "metadata": {
        "id": "hpPgP-mxcpsj",
        "colab_type": "text"
      },
      "cell_type": "markdown",
      "source": [
        "The model has now been trained for 1000 optimization iterations, with each iteration using 100 images from the training-set. Because of the great variety of the images, the weights have now become difficult to interpret and we may doubt whether the model truly understands how digits are composed from lines, or whether the model has just memorized many different variations of pixels."
      ]
    },
    {
      "metadata": {
        "id": "x2tpmalXcpsl",
        "colab_type": "code",
        "outputId": "32c8e503-45ce-4740-c34a-f72b371169b6",
        "colab": {
          "base_uri": "https://localhost:8080/",
          "height": 262
        }
      },
      "cell_type": "code",
      "source": [
        "plot_weights()"
      ],
      "execution_count": 0,
      "outputs": [
        {
          "output_type": "display_data",
          "data": {
            "image/png": "[encoded data removed]",
            "text/plain": [
              "<matplotlib.figure.Figure at 0x7f30b367d6a0>"
            ]
          },
          "metadata": {
            "tags": []
          }
        }
      ]
    },
    {
      "metadata": {
        "id": "0dE4dxWJcpsq",
        "colab_type": "text"
      },
      "cell_type": "markdown",
      "source": [
        "We can also print and plot the so-called confusion matrix which lets us see more details about the mis-classifications. For example, it shows that images actually depicting a 5 have sometimes been mis-classified as all other possible digits, but mostly as 6 or 8."
      ]
    },
    {
      "metadata": {
        "id": "iuanbXPWcpsr",
        "colab_type": "code",
        "outputId": "d46601eb-dd82-4c51-fcb9-d0bc7d4d1210",
        "colab": {
          "base_uri": "https://localhost:8080/",
          "height": 481
        }
      },
      "cell_type": "code",
      "source": [
        "print_confusion_matrix()"
      ],
      "execution_count": 0,
      "outputs": [
        {
          "output_type": "stream",
          "text": [
            "[[ 954    0    4    2    1    3    8    5    3    0]\n",
            " [   0 1112    5    1    1    1    4    2    9    0]\n",
            " [   4    5  948   10   15    1   15   11   20    3]\n",
            " [   2    1   33  911    1   20    2   18   17    5]\n",
            " [   1    2    4    3  935    0   12    3    8   14]\n",
            " [   9    2   13   37   19  746   21   11   30    4]\n",
            " [  11    3    5    1   10    8  916    3    1    0]\n",
            " [   1    8   27    5    6    1    0  967    1   12]\n",
            " [   7   11   19   31   12   25   13   15  839    2]\n",
            " [  10    6    2   10   61    6    0   68   10  836]]\n"
          ],
          "name": "stdout"
        },
        {
          "output_type": "display_data",
          "data": {
            "image/png": "[encoded data removed]",
            "text/plain": [
              "<matplotlib.figure.Figure at 0x7f30b3122be0>"
            ]
          },
          "metadata": {
            "tags": []
          }
        }
      ]
    },
    {
      "metadata": {
        "id": "OEbUCfCKcpsx",
        "colab_type": "text"
      },
      "cell_type": "markdown",
      "source": [
        "We are now done using TensorFlow, so we close the session to release its resources."
      ]
    },
    {
      "metadata": {
        "id": "1H2cAowcmYhQ",
        "colab_type": "code",
        "outputId": "5a26e7f8-40ec-44c3-b95e-318d1042993d",
        "colab": {
          "base_uri": "https://localhost:8080/",
          "height": 34
        }
      },
      "cell_type": "code",
      "source": [
        "session.run(tf.train.get_global_step())"
      ],
      "execution_count": 0,
      "outputs": [
        {
          "output_type": "execute_result",
          "data": {
            "text/plain": [
              "0"
            ]
          },
          "metadata": {
            "tags": []
          },
          "execution_count": 502
        }
      ]
    },
    {
      "metadata": {
        "id": "UxOiS0VRcpsy",
        "colab_type": "code",
        "colab": {}
      },
      "cell_type": "code",
      "source": [
        "# This has been commented out in case you want to modify and experiment\n",
        "# with the Notebook without having to restart it.\n",
        "# session.close()"
      ],
      "execution_count": 0,
      "outputs": []
    },
    {
      "metadata": {
        "id": "XLA5K4B2cps2",
        "colab_type": "text"
      },
      "cell_type": "markdown",
      "source": [
        "## Exercises\n",
        "\n",
        "These are a few suggestions for exercises that may help improve your skills with TensorFlow. It is important to get hands-on experience with TensorFlow in order to learn how to use it properly.\n",
        "\n",
        "You may want to backup this Notebook before making any changes.\n",
        "\n",
        "* Change the learning-rate for the optimizer.\n",
        "optimizer = tf.train.GradientDescentOptimizer(learning_rate=0.5).minimize(cost)\n",
        "* Change the optimizer to e.g. `AdagradOptimizer` or `AdamOptimizer`.\n",
        "\n",
        "* Change the batch-size to e.g. 1 or 1000.\n",
        "* How do these changes affect the performance?\n",
        "* Do you think these changes will have the same effect (if any) on other classification problems and mathematical models?\n",
        "* Do you get the exact same results if you run the Notebook multiple times without changing any parameters? Why or why not?\n",
        "* Change the function `plot_example_errors()` so it also prints the `logits` and `y_pred` values for the mis-classified examples.\n",
        "* Use `sparse_softmax_cross_entropy_with_logits` instead of `softmax_cross_entropy_with_logits`. This may require several changes to multiple places in the source-code. Discuss the advantages and disadvantages of using the two methods.\n",
        "* Remake the program yourself without looking too much at this source-code.\n",
        "* Explain to a friend how the program works."
      ]
    },
    {
      "metadata": {
        "id": "9TyhJStmcps4",
        "colab_type": "text"
      },
      "cell_type": "markdown",
      "source": [
        "## License (MIT)\n",
        "\n",
        "Copyright (c) 2016 by [Magnus Erik Hvass Pedersen](http://www.hvass-labs.org/)\n",
        "\n",
        "Permission is hereby granted, free of charge, to any person obtaining a copy of this software and associated documentation files (the \"Software\"), to deal in the Software without restriction, including without limitation the rights to use, copy, modify, merge, publish, distribute, sublicense, and/or sell copies of the Software, and to permit persons to whom the Software is furnished to do so, subject to the following conditions:\n",
        "\n",
        "The above copyright notice and this permission notice shall be included in all copies or substantial portions of the Software.\n",
        "\n",
        "THE SOFTWARE IS PROVIDED \"AS IS\", WITHOUT WARRANTY OF ANY KIND, EXPRESS OR IMPLIED, INCLUDING BUT NOT LIMITED TO THE WARRANTIES OF MERCHANTABILITY, FITNESS FOR A PARTICULAR PURPOSE AND NONINFRINGEMENT. IN NO EVENT SHALL THE AUTHORS OR COPYRIGHT HOLDERS BE LIABLE FOR ANY CLAIM, DAMAGES OR OTHER LIABILITY, WHETHER IN AN ACTION OF CONTRACT, TORT OR OTHERWISE, ARISING FROM, OUT OF OR IN CONNECTION WITH THE SOFTWARE OR THE USE OR OTHER DEALINGS IN THE SOFTWARE."
      ]
    },
    {
      "metadata": {
        "id": "WxqXs-dSdy7C",
        "colab_type": "code",
        "colab": {}
      },
      "cell_type": "code",
      "source": [
        "#\n",
        "#optimizer = tf.train.AdamOptimizer(learning_rate=0.5).minimize((cost))\n",
        "                                                                  "
      ],
      "execution_count": 0,
      "outputs": []
    },
    {
      "metadata": {
        "id": "wKBUYKJCk6tV",
        "colab_type": "code",
        "colab": {}
      },
      "cell_type": "code",
      "source": [
        " #session.run(tf.train.global_step())"
      ],
      "execution_count": 0,
      "outputs": []
    },
    {
      "metadata": {
        "id": "7K_cA2lrd6mu",
        "colab_type": "code",
        "colab": {}
      },
      "cell_type": "code",
      "source": [
        "#global_step = tf.Variable(tf.case(0,tf.int64), name='global_step',trainable=False )\n",
        "\n",
        "\n",
        "#optimize(num_iterations=990)\n",
        "#print_accuracy()\n",
        "#plot_example_errors()\n",
        "#plot_weights()"
      ],
      "execution_count": 0,
      "outputs": []
    },
    {
      "metadata": {
        "id": "H-nsAFNshED_",
        "colab_type": "code",
        "colab": {}
      },
      "cell_type": "code",
      "source": [
        ""
      ],
      "execution_count": 0,
      "outputs": []
    }
  ]
}