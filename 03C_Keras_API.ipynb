{
  "nbformat": 4,
  "nbformat_minor": 0,
  "metadata": {
    "colab": {
      "name": "03C_Keras_API.ipynb",
      "version": "0.3.2",
      "provenance": [],
      "toc_visible": true
    },
    "kernelspec": {
      "name": "python3",
      "display_name": "Python 3"
    },
    "accelerator": "GPU"
  },
  "cells": [
    {
      "metadata": {
        "id": "r_ceFuLrWfrB",
        "colab_type": "text"
      },
      "cell_type": "markdown",
      "source": [
        "# TensorFlow Tutorial #03-C\n",
        "# Keras API\n",
        "\n",
        "by [Magnus Erik Hvass Pedersen](http://www.hvass-labs.org/)\n",
        "/ [GitHub](https://github.com/Hvass-Labs/TensorFlow-Tutorials) / [Videos on YouTube](https://www.youtube.com/playlist?list=PL9Hr9sNUjfsmEu1ZniY0XpHSzl5uihcXZ)"
      ]
    },
    {
      "metadata": {
        "id": "XKeZCP2CWfrJ",
        "colab_type": "text"
      },
      "cell_type": "markdown",
      "source": [
        "## Introduction\n",
        "\n",
        "Tutorial #02 showed how to implement a Convolutional Neural Network in TensorFlow. We made a few helper-functions for creating the layers in the network. It is essential to have a good high-level API because it makes it much easier to implement complex models, and it lowers the risk of errors.\n",
        "\n",
        "There are several of these builder API's available for TensorFlow: PrettyTensor (Tutorial #03), Layers API (Tutorial #03-B), and several others. But they were never really finished and now they seem to be more or less abandoned by their developers.\n",
        "\n",
        "This tutorial is about the Keras API which is already highly developed with very good documentation - and the development continues. It seems likely that Keras will be the standard API for TensorFlow in the future so it is recommended that you use it instead of the other APIs.\n",
        "\n",
        "The author of Keras has written a [blog-post](https://blog.keras.io/user-experience-design-for-apis.html) on his API design philosophy which you should read."
      ]
    },
    {
      "metadata": {
        "id": "WIt4m3T9YCql",
        "colab_type": "code",
        "colab": {
          "base_uri": "https://localhost:8080/",
          "height": 145
        },
        "outputId": "d112ecb0-de4d-43b4-862e-be1cafa1fc72"
      },
      "cell_type": "code",
      "source": [
        "import os\n",
        "work_dir = \"/content/TensorFlow-Tutorials/\"\n",
        "if os.getcwd() != work_dir:\n",
        "  !git clone https://github.com/chlin1/TensorFlow-Tutorials.git\n",
        "os.chdir(work_dir)"
      ],
      "execution_count": 1,
      "outputs": [
        {
          "output_type": "stream",
          "text": [
            "Cloning into 'TensorFlow-Tutorials'...\n",
            "remote: Enumerating objects: 15, done.\u001b[K\n",
            "remote: Counting objects: 100% (15/15), done.\u001b[K\n",
            "remote: Compressing objects: 100% (15/15), done.\u001b[K\n",
            "remote: Total 150 (delta 6), reused 0 (delta 0), pack-reused 135\u001b[K\n",
            "Receiving objects: 100% (150/150), 48.22 MiB | 21.13 MiB/s, done.\n",
            "Resolving deltas: 100% (24/24), done.\n"
          ],
          "name": "stdout"
        }
      ]
    },
    {
      "metadata": {
        "id": "rKoDebAnWkeU",
        "colab_type": "code",
        "colab": {}
      },
      "cell_type": "code",
      "source": [
        ""
      ],
      "execution_count": 0,
      "outputs": []
    },
    {
      "metadata": {
        "id": "q0K8wb6gWfrM",
        "colab_type": "text"
      },
      "cell_type": "markdown",
      "source": [
        "## Flowchart"
      ]
    },
    {
      "metadata": {
        "id": "kXAtVFHHWfrP",
        "colab_type": "text"
      },
      "cell_type": "markdown",
      "source": [
        "The following chart shows roughly how the data flows in the Convolutional Neural Network that is implemented below. See Tutorial #02 for a more detailed description of convolution.\n",
        "\n",
        "There are two convolutional layers, each followed by a down-sampling using max-pooling (not shown in this flowchart). Then there are two fully-connected layers ending in a softmax-classifier."
      ]
    },
    {
      "metadata": {
        "id": "nwxgVNxdWfrU",
        "colab_type": "text"
      },
      "cell_type": "markdown",
      "source": [
        "![Flowchart](https://github.com/chlin1/tensorflow_tutorial/blob/master/images/02_network_flowchart.png?raw=1)"
      ]
    },
    {
      "metadata": {
        "id": "vhIkDNTQWfrW",
        "colab_type": "text"
      },
      "cell_type": "markdown",
      "source": [
        "## Imports"
      ]
    },
    {
      "metadata": {
        "id": "kJjjQLU0WfrZ",
        "colab_type": "code",
        "colab": {}
      },
      "cell_type": "code",
      "source": [
        "%matplotlib inline\n",
        "import matplotlib.pyplot as plt\n",
        "import tensorflow as tf\n",
        "import numpy as np\n",
        "import math"
      ],
      "execution_count": 0,
      "outputs": []
    },
    {
      "metadata": {
        "id": "qw08g1uhWfr0",
        "colab_type": "text"
      },
      "cell_type": "markdown",
      "source": [
        "We need to import several things from Keras. Note the long import-statements. This might be a bug. Hopefully it will be possible to write shorter and more elegant lines in the future."
      ]
    },
    {
      "metadata": {
        "id": "k1Ip5swqWfr3",
        "colab_type": "code",
        "colab": {}
      },
      "cell_type": "code",
      "source": [
        "# from tf.keras.models import Sequential  # This does not work!\n",
        "from tensorflow.python.keras.models import Sequential\n",
        "from tensorflow.python.keras.layers import InputLayer, Input\n",
        "from tensorflow.python.keras.layers import Reshape, MaxPooling2D\n",
        "from tensorflow.python.keras.layers import Conv2D, Dense, Flatten"
      ],
      "execution_count": 0,
      "outputs": []
    },
    {
      "metadata": {
        "id": "1TmEXGx1WfsA",
        "colab_type": "text"
      },
      "cell_type": "markdown",
      "source": [
        "This was developed using Python 3.6 (Anaconda) and TensorFlow version:"
      ]
    },
    {
      "metadata": {
        "scrolled": true,
        "id": "57hq4gMFWfsD",
        "colab_type": "code",
        "colab": {
          "base_uri": "https://localhost:8080/",
          "height": 35
        },
        "outputId": "3d50779b-fb48-413e-dcf7-c2c68b6eafe8"
      },
      "cell_type": "code",
      "source": [
        "tf.__version__"
      ],
      "execution_count": 4,
      "outputs": [
        {
          "output_type": "execute_result",
          "data": {
            "text/plain": [
              "'1.12.0'"
            ]
          },
          "metadata": {
            "tags": []
          },
          "execution_count": 4
        }
      ]
    },
    {
      "metadata": {
        "id": "DyaP1_FSWfsj",
        "colab_type": "text"
      },
      "cell_type": "markdown",
      "source": [
        "## Load Data"
      ]
    },
    {
      "metadata": {
        "id": "GjRgNzPgWfsl",
        "colab_type": "text"
      },
      "cell_type": "markdown",
      "source": [
        "The MNIST data-set is about 12 MB and will be downloaded automatically if it is not located in the given path."
      ]
    },
    {
      "metadata": {
        "id": "yJ2HxXs-Wfsn",
        "colab_type": "code",
        "colab": {}
      },
      "cell_type": "code",
      "source": [
        "from mnist import MNIST\n",
        "data = MNIST(data_dir=\"data/MNIST/\")"
      ],
      "execution_count": 0,
      "outputs": []
    },
    {
      "metadata": {
        "id": "nq_rqU6rWfsu",
        "colab_type": "text"
      },
      "cell_type": "markdown",
      "source": [
        "The MNIST data-set has now been loaded and consists of 70.000 images and class-numbers for the images. The data-set is split into 3 mutually exclusive sub-sets. We will only use the training and test-sets in this tutorial."
      ]
    },
    {
      "metadata": {
        "id": "vX5RtDG9Wfsw",
        "colab_type": "code",
        "colab": {
          "base_uri": "https://localhost:8080/",
          "height": 90
        },
        "outputId": "eddb1c51-13f2-44d6-dfec-0c1cb105af06"
      },
      "cell_type": "code",
      "source": [
        "print(\"Size of:\")\n",
        "print(\"- Training-set:\\t\\t{}\".format(data.num_train))\n",
        "print(\"- Validation-set:\\t{}\".format(data.num_val))\n",
        "print(\"- Test-set:\\t\\t{}\".format(data.num_test))"
      ],
      "execution_count": 6,
      "outputs": [
        {
          "output_type": "stream",
          "text": [
            "Size of:\n",
            "- Training-set:\t\t55000\n",
            "- Validation-set:\t5000\n",
            "- Test-set:\t\t10000\n"
          ],
          "name": "stdout"
        }
      ]
    },
    {
      "metadata": {
        "id": "UCNcTQ4NWfs3",
        "colab_type": "text"
      },
      "cell_type": "markdown",
      "source": [
        "Copy some of the data-dimensions for convenience."
      ]
    },
    {
      "metadata": {
        "id": "HkAz83m6Wfs5",
        "colab_type": "code",
        "colab": {}
      },
      "cell_type": "code",
      "source": [
        "# The number of pixels in each dimension of an image.\n",
        "img_size = data.img_size # 28\n",
        "\n",
        "# The images are stored in one-dimensional arrays of this length.\n",
        "img_size_flat = data.img_size_flat # 28*28=782\n",
        "\n",
        "# Tuple with height and width of images used to reshape arrays.\n",
        "img_shape = data.img_shape # (28, 28)\n",
        "\n",
        "# Tuple with height, width and depth used to reshape arrays.\n",
        "# This is used for reshaping in Keras.\n",
        "img_shape_full = data.img_shape_full # (28, 28, 1)\n",
        "\n",
        "# Number of classes, one class for each of 10 digits.\n",
        "num_classes = data.num_classes # 10\n",
        "\n",
        "# Number of colour channels for the images: 1 channel for gray-scale.\n",
        "num_channels = data.num_channels # 1"
      ],
      "execution_count": 0,
      "outputs": []
    },
    {
      "metadata": {
        "id": "SE3lrMQQge_W",
        "colab_type": "code",
        "colab": {
          "base_uri": "https://localhost:8080/",
          "height": 35
        },
        "outputId": "047efc1b-0f6b-4a20-c768-2d6730f47a45"
      },
      "cell_type": "code",
      "source": [
        "[x for x in range(1,10)]"
      ],
      "execution_count": 91,
      "outputs": [
        {
          "output_type": "execute_result",
          "data": {
            "text/plain": [
              "[1, 2, 3, 4, 5, 6, 7, 8, 9]"
            ]
          },
          "metadata": {
            "tags": []
          },
          "execution_count": 91
        }
      ]
    },
    {
      "metadata": {
        "id": "Hey-sYK3fxAt",
        "colab_type": "code",
        "colab": {
          "base_uri": "https://localhost:8080/",
          "height": 263
        },
        "outputId": "40f477a9-7550-4082-9dd8-af641c10dbeb"
      },
      "cell_type": "code",
      "source": [
        "\n",
        "plot_images(images=data.x_test[[1, 2, 3, 4, 5, 6, 7, 8, 9]],\n",
        "                cls_true=data.y_test_cls[1:10])"
      ],
      "execution_count": 92,
      "outputs": [
        {
          "output_type": "display_data",
          "data": {
            "image/png": "[encoded data removed]",
            "text/plain": [
              "<matplotlib.figure.Figure at 0x7f70d3ea1080>"
            ]
          },
          "metadata": {
            "tags": []
          }
        }
      ]
    },
    {
      "metadata": {
        "id": "_b_8kvjFWfs-",
        "colab_type": "text"
      },
      "cell_type": "markdown",
      "source": [
        "### Helper-function for plotting images"
      ]
    },
    {
      "metadata": {
        "id": "XHmFIFAhWftA",
        "colab_type": "text"
      },
      "cell_type": "markdown",
      "source": [
        "Function used to plot 9 images in a 3x3 grid, and writing the true and predicted classes below each image."
      ]
    },
    {
      "metadata": {
        "id": "v2ErPPePWftC",
        "colab_type": "code",
        "colab": {}
      },
      "cell_type": "code",
      "source": [
        "def plot_images(images, cls_true, cls_pred=None):\n",
        "    assert len(images) == len(cls_true) == 9\n",
        "    \n",
        "    # Create figure with 3x3 sub-plots.\n",
        "    fig, axes = plt.subplots(3, 3)\n",
        "    fig.subplots_adjust(hspace=0.3, wspace=0.3)\n",
        "\n",
        "    for i, ax in enumerate(axes.flat):\n",
        "        # Plot image.\n",
        "        ax.imshow(images[i].reshape(img_shape), cmap='binary')\n",
        "\n",
        "        # Show true and predicted classes.\n",
        "        if cls_pred is None:\n",
        "            xlabel = \"True: {0}\".format(cls_true[i])\n",
        "        else:\n",
        "            xlabel = \"True: {0}, Pred: {1}\".format(cls_true[i], cls_pred[i])\n",
        "\n",
        "        # Show the classes as the label on the x-axis.\n",
        "        ax.set_xlabel(xlabel)\n",
        "        \n",
        "        # Remove ticks from the plot.\n",
        "        ax.set_xticks([])\n",
        "        ax.set_yticks([])\n",
        "    \n",
        "    # Ensure the plot is shown correctly with multiple plots\n",
        "    # in a single Notebook cell.\n",
        "    plt.show()"
      ],
      "execution_count": 0,
      "outputs": []
    },
    {
      "metadata": {
        "id": "AUOA9v_2WftI",
        "colab_type": "text"
      },
      "cell_type": "markdown",
      "source": [
        "### Plot a few images to see if data is correct"
      ]
    },
    {
      "metadata": {
        "id": "5GSV35xvWftK",
        "colab_type": "code",
        "colab": {
          "base_uri": "https://localhost:8080/",
          "height": 263
        },
        "outputId": "ebe80792-3ba8-4819-893c-52952307fae1"
      },
      "cell_type": "code",
      "source": [
        "# Get the first images from the test-set.\n",
        "images = data.x_test[0:9]\n",
        "\n",
        "# Get the true classes for those images.\n",
        "cls_true = data.y_test_cls[0:9]\n",
        "\n",
        "# Plot the images and labels using our helper-function above.\n",
        "plot_images(images=images, cls_true=cls_true)"
      ],
      "execution_count": 9,
      "outputs": [
        {
          "output_type": "display_data",
          "data": {
            "image/png": "[encoded data removed]",
            "text/plain": [
              "<matplotlib.figure.Figure at 0x7f70de8407b8>"
            ]
          },
          "metadata": {
            "tags": []
          }
        }
      ]
    },
    {
      "metadata": {
        "id": "qFNqe9QAWftT",
        "colab_type": "text"
      },
      "cell_type": "markdown",
      "source": [
        "### Helper-function to plot example errors\n",
        "\n",
        "Function for plotting examples of images from the test-set that have been mis-classified."
      ]
    },
    {
      "metadata": {
        "id": "hpzsVKLiWftW",
        "colab_type": "code",
        "colab": {}
      },
      "cell_type": "code",
      "source": [
        "def plot_example_errors(cls_pred):\n",
        "    # cls_pred is an array of the predicted class-number for\n",
        "    # all images in the test-set.\n",
        "\n",
        "    # Boolean array whether the predicted class is incorrect.\n",
        "    incorrect = (cls_pred != data.y_test_cls)\n",
        "\n",
        "    # Get the images from the test-set that have been\n",
        "    # incorrectly classified.\n",
        "    images = data.x_test[incorrect]\n",
        "    \n",
        "    # Get the predicted classes for those images.\n",
        "    cls_pred = cls_pred[incorrect]\n",
        "\n",
        "    # Get the true classes for those images.\n",
        "    cls_true = data.y_test_cls[incorrect]\n",
        "    \n",
        "    # Plot the first 9 images.\n",
        "    plot_images(images=images[0:9],\n",
        "                cls_true=cls_true[0:9],\n",
        "                cls_pred=cls_pred[0:9])"
      ],
      "execution_count": 0,
      "outputs": []
    },
    {
      "metadata": {
        "id": "ZE_0eiI6Wfta",
        "colab_type": "text"
      },
      "cell_type": "markdown",
      "source": [
        "## PrettyTensor API\n",
        "\n",
        "This is how the Convolutional Neural Network was implemented in Tutorial #03 using the PrettyTensor API. It is shown here for easy comparison to the Keras implementation below."
      ]
    },
    {
      "metadata": {
        "id": "WYS4fot0Wftd",
        "colab_type": "code",
        "colab": {}
      },
      "cell_type": "code",
      "source": [
        "if False:\n",
        "    x_pretty = pt.wrap(x_image)\n",
        "\n",
        "    with pt.defaults_scope(activation_fn=tf.nn.relu):\n",
        "        y_pred, loss = x_pretty.\\\n",
        "            conv2d(kernel=5, depth=16, name='layer_conv1').\\\n",
        "            max_pool(kernel=2, stride=2).\\\n",
        "            conv2d(kernel=5, depth=36, name='layer_conv2').\\\n",
        "            max_pool(kernel=2, stride=2).\\\n",
        "            flatten().\\\n",
        "            fully_connected(size=128, name='layer_fc1').\\\n",
        "            softmax_classifier(num_classes=num_classes, labels=y_true)"
      ],
      "execution_count": 0,
      "outputs": []
    },
    {
      "metadata": {
        "id": "2vYJEA7sWftl",
        "colab_type": "text"
      },
      "cell_type": "markdown",
      "source": [
        "## Sequential Model\n",
        "\n",
        "The Keras API has two modes of constructing Neural Networks. The simplest is the Sequential Model which only allows for the layers to be added in sequence."
      ]
    },
    {
      "metadata": {
        "scrolled": true,
        "id": "9Y5fY1m1Wftp",
        "colab_type": "code",
        "colab": {}
      },
      "cell_type": "code",
      "source": [
        "# Start construction of the Keras Sequential model.\n",
        "model = Sequential()\n",
        "\n",
        "# Add an input layer which is similar to a feed_dict in TensorFlow.\n",
        "# Note that the input-shape must be a tuple containing the image-size.\n",
        "model.add(InputLayer(input_shape=(img_size_flat,)))\n",
        "\n",
        "# The input is a flattened array with 784 elements,\n",
        "# but the convolutional layers expect images with shape (28, 28, 1)\n",
        "model.add(Reshape(img_shape_full))\n",
        "\n",
        "# First convolutional layer with ReLU-activation and max-pooling.\n",
        "model.add(Conv2D(kernel_size=5, strides=1, filters=16, padding='same',\n",
        "                 activation='relu', name='layer_conv1'))\n",
        "model.add(MaxPooling2D(pool_size=2, strides=2))\n",
        "\n",
        "# Second convolutional layer with ReLU-activation and max-pooling.\n",
        "model.add(Conv2D(kernel_size=5, strides=1, filters=36, padding='same',\n",
        "                 activation='relu', name='layer_conv2'))\n",
        "model.add(MaxPooling2D(pool_size=2, strides=2))\n",
        "\n",
        "# Flatten the 4-rank output of the convolutional layers\n",
        "# to 2-rank that can be input to a fully-connected / dense layer.\n",
        "model.add(Flatten())\n",
        "\n",
        "# First fully-connected / dense layer with ReLU-activation.\n",
        "model.add(Dense(128, activation='relu'))\n",
        "\n",
        "# Last fully-connected / dense layer with softmax-activation\n",
        "# for use in classification.\n",
        "model.add(Dense(num_classes, activation='softmax'))"
      ],
      "execution_count": 0,
      "outputs": []
    },
    {
      "metadata": {
        "id": "08nLuyUUWft0",
        "colab_type": "text"
      },
      "cell_type": "markdown",
      "source": [
        "### Model Compilation\n",
        "\n",
        "The Neural Network has now been defined and must be finalized by adding a loss-function, optimizer and performance metrics. This is called model \"compilation\" in Keras.\n",
        "\n",
        "We can either define the optimizer using a string, or if we want more control of its parameters then we need to instantiate an object. For example, we can set the learning-rate."
      ]
    },
    {
      "metadata": {
        "id": "HXWXRHPLWfuW",
        "colab_type": "code",
        "colab": {}
      },
      "cell_type": "code",
      "source": [
        "from tensorflow.python.keras.optimizers import Adam\n",
        "\n",
        "optimizer = Adam(lr=1e-3)"
      ],
      "execution_count": 0,
      "outputs": []
    },
    {
      "metadata": {
        "id": "pWmZG68_Wfud",
        "colab_type": "text"
      },
      "cell_type": "markdown",
      "source": [
        "For a classification-problem such as MNIST which has 10 possible classes, we need to use the loss-function called `categorical_crossentropy`. The performance metric we are interested in is the classification accuracy."
      ]
    },
    {
      "metadata": {
        "id": "yU4nv327Wfuf",
        "colab_type": "code",
        "colab": {}
      },
      "cell_type": "code",
      "source": [
        "model.compile(optimizer=optimizer,\n",
        "              loss='categorical_crossentropy',\n",
        "              metrics=['accuracy'])"
      ],
      "execution_count": 0,
      "outputs": []
    },
    {
      "metadata": {
        "id": "ny3wfd47Wful",
        "colab_type": "text"
      },
      "cell_type": "markdown",
      "source": [
        "### Training\n",
        "\n",
        "Now that the model has been fully defined with loss-function and optimizer, we can train it. This function takes numpy-arrays and performs the given number of training epochs using the given batch-size. An epoch is one full use of the entire training-set. So for 10 epochs we would iterate randomly over the entire training-set 10 times."
      ]
    },
    {
      "metadata": {
        "id": "HKz_2jIAWfun",
        "colab_type": "code",
        "colab": {
          "base_uri": "https://localhost:8080/",
          "height": 399
        },
        "outputId": "eca6db7a-8512-41d6-e856-1a2df2fc3040"
      },
      "cell_type": "code",
      "source": [
        "model.fit(x=data.x_train,\n",
        "          y=data.y_train,\n",
        "          epochs=10, batch_size=128)"
      ],
      "execution_count": 93,
      "outputs": [
        {
          "output_type": "stream",
          "text": [
            "Epoch 1/10\n",
            "55000/55000 [==============================] - 4s 81us/step - loss: 0.0569 - acc: 0.9827\n",
            "Epoch 2/10\n",
            "55000/55000 [==============================] - 4s 81us/step - loss: 0.0406 - acc: 0.9874\n",
            "Epoch 3/10\n",
            "55000/55000 [==============================] - 5s 82us/step - loss: 0.0307 - acc: 0.9905\n",
            "Epoch 4/10\n",
            "55000/55000 [==============================] - 5s 82us/step - loss: 0.0252 - acc: 0.9921\n",
            "Epoch 5/10\n",
            "55000/55000 [==============================] - 5s 82us/step - loss: 0.0187 - acc: 0.9940\n",
            "Epoch 6/10\n",
            "55000/55000 [==============================] - 4s 81us/step - loss: 0.0155 - acc: 0.9949\n",
            "Epoch 7/10\n",
            "55000/55000 [==============================] - 4s 82us/step - loss: 0.0123 - acc: 0.9961\n",
            "Epoch 8/10\n",
            "55000/55000 [==============================] - 4s 82us/step - loss: 0.0108 - acc: 0.9964\n",
            "Epoch 9/10\n",
            "55000/55000 [==============================] - 4s 81us/step - loss: 0.0094 - acc: 0.9969\n",
            "Epoch 10/10\n",
            "55000/55000 [==============================] - 4s 82us/step - loss: 0.0087 - acc: 0.9972\n"
          ],
          "name": "stdout"
        },
        {
          "output_type": "execute_result",
          "data": {
            "text/plain": [
              "<tensorflow.python.keras.callbacks.History at 0x7f70d3ac1860>"
            ]
          },
          "metadata": {
            "tags": []
          },
          "execution_count": 93
        }
      ]
    },
    {
      "metadata": {
        "id": "Gf9bg2H-Wfut",
        "colab_type": "text"
      },
      "cell_type": "markdown",
      "source": [
        "### Evaluation\n",
        "\n",
        "Now that the model has been trained we can test its performance on the test-set. This also uses numpy-arrays as input."
      ]
    },
    {
      "metadata": {
        "id": "bSbrsN0ZWfuv",
        "colab_type": "code",
        "colab": {
          "base_uri": "https://localhost:8080/",
          "height": 35
        },
        "outputId": "bd21b499-672c-4ace-907f-3dbcd3c66307"
      },
      "cell_type": "code",
      "source": [
        "result = model.evaluate(x=data.x_test,\n",
        "                        y=data.y_test)"
      ],
      "execution_count": 94,
      "outputs": [
        {
          "output_type": "stream",
          "text": [
            "10000/10000 [==============================] - 1s 76us/step\n"
          ],
          "name": "stdout"
        }
      ]
    },
    {
      "metadata": {
        "id": "4t8d1gBaWfu7",
        "colab_type": "text"
      },
      "cell_type": "markdown",
      "source": [
        "We can print all the performance metrics for the test-set."
      ]
    },
    {
      "metadata": {
        "id": "JMKE07E6Wfu-",
        "colab_type": "code",
        "colab": {
          "base_uri": "https://localhost:8080/",
          "height": 54
        },
        "outputId": "efe5d5c9-d588-4d79-ab32-4bf70d1bd3a6"
      },
      "cell_type": "code",
      "source": [
        "for name, value in zip(model.metrics_names, result):\n",
        "    print(name, value)"
      ],
      "execution_count": 95,
      "outputs": [
        {
          "output_type": "stream",
          "text": [
            "loss 0.02766754524951166\n",
            "acc 0.9918\n"
          ],
          "name": "stdout"
        }
      ]
    },
    {
      "metadata": {
        "id": "yIvTelK9WfvD",
        "colab_type": "text"
      },
      "cell_type": "markdown",
      "source": [
        "Or we can just print the classification accuracy."
      ]
    },
    {
      "metadata": {
        "id": "2hdr4jZcWfvF",
        "colab_type": "code",
        "colab": {
          "base_uri": "https://localhost:8080/",
          "height": 35
        },
        "outputId": "bea8d1b0-e834-4589-e894-e08396b056b6"
      },
      "cell_type": "code",
      "source": [
        "print(\"{0}: {1:.2%}\".format(model.metrics_names[1], result[1]))"
      ],
      "execution_count": 96,
      "outputs": [
        {
          "output_type": "stream",
          "text": [
            "acc: 99.18%\n"
          ],
          "name": "stdout"
        }
      ]
    },
    {
      "metadata": {
        "id": "nb060yhfWfvN",
        "colab_type": "text"
      },
      "cell_type": "markdown",
      "source": [
        "### Prediction\n",
        "\n",
        "We can also predict the classification for new images. We will just use some images from the test-set but you could load your own images into numpy arrays and use those instead."
      ]
    },
    {
      "metadata": {
        "id": "A---QWPDWfvP",
        "colab_type": "code",
        "colab": {}
      },
      "cell_type": "code",
      "source": [
        "images = data.x_test[0:9]"
      ],
      "execution_count": 0,
      "outputs": []
    },
    {
      "metadata": {
        "id": "z1-OpFBqWfvW",
        "colab_type": "text"
      },
      "cell_type": "markdown",
      "source": [
        "These are the true class-number for those images. This is only used when plotting the images."
      ]
    },
    {
      "metadata": {
        "id": "Pew8f-9NWfvX",
        "colab_type": "code",
        "colab": {}
      },
      "cell_type": "code",
      "source": [
        "cls_true = data.y_test_cls[0:9]"
      ],
      "execution_count": 0,
      "outputs": []
    },
    {
      "metadata": {
        "id": "5BerqqsmWfvb",
        "colab_type": "text"
      },
      "cell_type": "markdown",
      "source": [
        "Get the predicted classes as One-Hot encoded arrays."
      ]
    },
    {
      "metadata": {
        "id": "b6VvMP2tWfvc",
        "colab_type": "code",
        "colab": {}
      },
      "cell_type": "code",
      "source": [
        "y_pred = model.predict(x=images)"
      ],
      "execution_count": 0,
      "outputs": []
    },
    {
      "metadata": {
        "id": "q7nQlCUvWfvj",
        "colab_type": "text"
      },
      "cell_type": "markdown",
      "source": [
        "Get the predicted classes as integers."
      ]
    },
    {
      "metadata": {
        "id": "VdPUeMz1Wfvl",
        "colab_type": "code",
        "colab": {}
      },
      "cell_type": "code",
      "source": [
        "cls_pred = np.argmax(y_pred, axis=1)"
      ],
      "execution_count": 0,
      "outputs": []
    },
    {
      "metadata": {
        "id": "ZeylhlhlWfvr",
        "colab_type": "code",
        "colab": {
          "base_uri": "https://localhost:8080/",
          "height": 263
        },
        "outputId": "3e7df9ee-d88f-4b5f-9825-9c2112a645d5"
      },
      "cell_type": "code",
      "source": [
        "plot_images(images=images,\n",
        "            cls_true=cls_true,\n",
        "            cls_pred=cls_pred)"
      ],
      "execution_count": 23,
      "outputs": [
        {
          "output_type": "display_data",
          "data": {
            "image/png": "[encoded data removed]",
            "text/plain": [
              "<matplotlib.figure.Figure at 0x7f70d54c87b8>"
            ]
          },
          "metadata": {
            "tags": []
          }
        }
      ]
    },
    {
      "metadata": {
        "id": "vDEgeNa_Wfvw",
        "colab_type": "text"
      },
      "cell_type": "markdown",
      "source": [
        "### Examples of Mis-Classified Images\n",
        "\n",
        "We can plot some examples of mis-classified images from the test-set.\n",
        "\n",
        "First we get the predicted classes for all the images in the test-set:"
      ]
    },
    {
      "metadata": {
        "id": "6HnSPunVWfvx",
        "colab_type": "code",
        "colab": {}
      },
      "cell_type": "code",
      "source": [
        "y_pred = model.predict(x=data.x_test)"
      ],
      "execution_count": 0,
      "outputs": []
    },
    {
      "metadata": {
        "id": "MKoWPF4BWfv0",
        "colab_type": "text"
      },
      "cell_type": "markdown",
      "source": [
        "Then we convert the predicted class-numbers from One-Hot encoded arrays to integers."
      ]
    },
    {
      "metadata": {
        "id": "6qpgqmMYWfv2",
        "colab_type": "code",
        "colab": {}
      },
      "cell_type": "code",
      "source": [
        "cls_pred = np.argmax(y_pred, axis=1)"
      ],
      "execution_count": 0,
      "outputs": []
    },
    {
      "metadata": {
        "id": "qpfqEFSVWfv6",
        "colab_type": "text"
      },
      "cell_type": "markdown",
      "source": [
        "Plot some of the mis-classified images."
      ]
    },
    {
      "metadata": {
        "id": "_BvPdyCGWfv8",
        "colab_type": "code",
        "colab": {
          "base_uri": "https://localhost:8080/",
          "height": 263
        },
        "outputId": "3c872c56-920c-4d3c-ded1-8a84450e9d1d"
      },
      "cell_type": "code",
      "source": [
        "plot_example_errors(cls_pred)"
      ],
      "execution_count": 26,
      "outputs": [
        {
          "output_type": "display_data",
          "data": {
            "image/png": "[encoded data removed]",
            "text/plain": [
              "<matplotlib.figure.Figure at 0x7f70d4b98320>"
            ]
          },
          "metadata": {
            "tags": []
          }
        }
      ]
    },
    {
      "metadata": {
        "id": "TqlqOUUCWfwB",
        "colab_type": "text"
      },
      "cell_type": "markdown",
      "source": [
        "## Functional Model\n",
        "\n",
        "The Keras API can also be used to construct more complicated networks using the Functional Model. This may look a little confusing at first, because each call to the Keras API will create and return an instance that is itself callable. It is not clear whether it is a function or an object - but we can call it as if it is a function. This allows us to build computational graphs that are more complex than the Sequential Model allows."
      ]
    },
    {
      "metadata": {
        "id": "m0GDx6OHWfwD",
        "colab_type": "code",
        "colab": {}
      },
      "cell_type": "code",
      "source": [
        "# Create an input layer which is similar to a feed_dict in TensorFlow.\n",
        "# Note that the input-shape must be a tuple containing the image-size.\n",
        "inputs = Input(shape=(img_size_flat,))\n",
        "\n",
        "# Variable used for building the Neural Network.\n",
        "net = inputs\n",
        "\n",
        "# The input is an image as a flattened array with 784 elements.\n",
        "# But the convolutional layers expect images with shape (28, 28, 1)\n",
        "net = Reshape(img_shape_full)(net)\n",
        "\n",
        "# First convolutional layer with ReLU-activation and max-pooling.\n",
        "net = Conv2D(kernel_size=5, strides=1, filters=16, padding='same',\n",
        "             activation='relu', name='layer_conv1')(net)\n",
        "net = MaxPooling2D(pool_size=2, strides=2)(net)\n",
        "\n",
        "# Second convolutional layer with ReLU-activation and max-pooling.\n",
        "net = Conv2D(kernel_size=5, strides=1, filters=36, padding='same',\n",
        "             activation='relu', name='layer_conv2')(net)\n",
        "net = MaxPooling2D(pool_size=2, strides=2)(net)\n",
        "\n",
        "# Flatten the output of the conv-layer from 4-dim to 2-dim.\n",
        "net = Flatten()(net)\n",
        "\n",
        "# First fully-connected / dense layer with ReLU-activation.\n",
        "net = Dense(128, activation='relu')(net)\n",
        "\n",
        "# Last fully-connected / dense layer with softmax-activation\n",
        "# so it can be used for classification.\n",
        "net = Dense(num_classes, activation='softmax')(net)\n",
        "\n",
        "# Output of the Neural Network.\n",
        "outputs = net"
      ],
      "execution_count": 0,
      "outputs": []
    },
    {
      "metadata": {
        "id": "tcCiOFH1WfwG",
        "colab_type": "text"
      },
      "cell_type": "markdown",
      "source": [
        "### Model Compilation\n",
        "\n",
        "We have now defined the architecture of the model with its input and output. We now have to create a Keras model and compile it with a loss-function and optimizer, so it is ready for training."
      ]
    },
    {
      "metadata": {
        "id": "quA4RlyhWfwJ",
        "colab_type": "code",
        "colab": {}
      },
      "cell_type": "code",
      "source": [
        "from tensorflow.python.keras.models import Model"
      ],
      "execution_count": 0,
      "outputs": []
    },
    {
      "metadata": {
        "id": "Y8zHNRZFWfwP",
        "colab_type": "text"
      },
      "cell_type": "markdown",
      "source": [
        "Create a new instance of the Keras Functional Model. We give it the inputs and outputs of the Convolutional Neural Network that we constructed above."
      ]
    },
    {
      "metadata": {
        "id": "iRXuWhL4WfwQ",
        "colab_type": "code",
        "colab": {}
      },
      "cell_type": "code",
      "source": [
        "model2 = Model(inputs=inputs, outputs=outputs)"
      ],
      "execution_count": 0,
      "outputs": []
    },
    {
      "metadata": {
        "id": "2wBOh2FhWfwU",
        "colab_type": "text"
      },
      "cell_type": "markdown",
      "source": [
        "Compile the Keras model using the RMSprop optimizer and with a loss-function for multiple categories. The only performance metric we are interested in is the classification accuracy, but you could use a list of metrics here."
      ]
    },
    {
      "metadata": {
        "id": "DqtIjQPGWfwY",
        "colab_type": "code",
        "colab": {}
      },
      "cell_type": "code",
      "source": [
        "model2.compile(optimizer='rmsprop',\n",
        "               loss='categorical_crossentropy',\n",
        "               metrics=['accuracy'])"
      ],
      "execution_count": 0,
      "outputs": []
    },
    {
      "metadata": {
        "id": "9Uc8BoaqWfwh",
        "colab_type": "text"
      },
      "cell_type": "markdown",
      "source": [
        "### Training\n",
        "\n",
        "The model has now been defined and compiled so it can be trained using the same `fit()` function as used in the Sequential Model above. This also takes numpy-arrays as input."
      ]
    },
    {
      "metadata": {
        "id": "lX6B0OTBWfwi",
        "colab_type": "code",
        "colab": {
          "base_uri": "https://localhost:8080/",
          "height": 72
        },
        "outputId": "a7659ec7-d006-4020-fa91-fbf99eafc52f"
      },
      "cell_type": "code",
      "source": [
        "model2.fit(x=data.x_train,\n",
        "           y=data.y_train,\n",
        "           epochs=1, batch_size=128)"
      ],
      "execution_count": 31,
      "outputs": [
        {
          "output_type": "stream",
          "text": [
            "Epoch 1/1\n",
            "55000/55000 [==============================] - 5s 85us/step - loss: 0.1959 - acc: 0.9398\n"
          ],
          "name": "stdout"
        },
        {
          "output_type": "execute_result",
          "data": {
            "text/plain": [
              "<tensorflow.python.keras.callbacks.History at 0x7f70d48acb00>"
            ]
          },
          "metadata": {
            "tags": []
          },
          "execution_count": 31
        }
      ]
    },
    {
      "metadata": {
        "id": "zA7oM25zWfwo",
        "colab_type": "text"
      },
      "cell_type": "markdown",
      "source": [
        "### Evaluation\n",
        "\n",
        "Once the model has been trained we can evaluate its performance on the test-set. This is the same syntax as for the Sequential Model."
      ]
    },
    {
      "metadata": {
        "id": "yHH_jOPcWfwp",
        "colab_type": "code",
        "colab": {
          "base_uri": "https://localhost:8080/",
          "height": 35
        },
        "outputId": "c1c71d69-5bc5-4c94-df07-5426d50d11d0"
      },
      "cell_type": "code",
      "source": [
        "result = model2.evaluate(x=data.x_test,\n",
        "                         y=data.y_test)"
      ],
      "execution_count": 32,
      "outputs": [
        {
          "output_type": "stream",
          "text": [
            "10000/10000 [==============================] - 1s 92us/step\n"
          ],
          "name": "stdout"
        }
      ]
    },
    {
      "metadata": {
        "id": "gkqBkmUMWfwu",
        "colab_type": "text"
      },
      "cell_type": "markdown",
      "source": [
        "The result is a list of values, containing the loss-value and all the metrics we defined when we compiled the model. Note that 'accuracy' is now called 'acc' which is a small inconsistency."
      ]
    },
    {
      "metadata": {
        "scrolled": true,
        "id": "o9ezixU3Wfww",
        "colab_type": "code",
        "colab": {
          "base_uri": "https://localhost:8080/",
          "height": 54
        },
        "outputId": "8a77eb07-5363-4abc-a5ac-ec0314a67b03"
      },
      "cell_type": "code",
      "source": [
        "for name, value in zip(model2.metrics_names, result):\n",
        "    print(name, value)"
      ],
      "execution_count": 33,
      "outputs": [
        {
          "output_type": "stream",
          "text": [
            "loss 0.062172116065165026\n",
            "acc 0.98\n"
          ],
          "name": "stdout"
        }
      ]
    },
    {
      "metadata": {
        "id": "zmvNKZtMWfw3",
        "colab_type": "text"
      },
      "cell_type": "markdown",
      "source": [
        "We can also print the classification accuracy as a percentage:"
      ]
    },
    {
      "metadata": {
        "id": "EOuzd9QtWfw5",
        "colab_type": "code",
        "colab": {
          "base_uri": "https://localhost:8080/",
          "height": 35
        },
        "outputId": "526ce511-5324-41e4-b2f0-da6e5fe59e9d"
      },
      "cell_type": "code",
      "source": [
        "print(\"{0}: {1:.2%}\".format(model2.metrics_names[1], result[1]))"
      ],
      "execution_count": 34,
      "outputs": [
        {
          "output_type": "stream",
          "text": [
            "acc: 98.00%\n"
          ],
          "name": "stdout"
        }
      ]
    },
    {
      "metadata": {
        "id": "IzloPHlrWfxE",
        "colab_type": "text"
      },
      "cell_type": "markdown",
      "source": [
        "### Examples of Mis-Classified Images\n",
        "\n",
        "We can plot some examples of mis-classified images from the test-set.\n",
        "\n",
        "First we get the predicted classes for all the images in the test-set:"
      ]
    },
    {
      "metadata": {
        "id": "bGWsCKSnWfxF",
        "colab_type": "code",
        "colab": {}
      },
      "cell_type": "code",
      "source": [
        "y_pred = model2.predict(x=data.x_test)"
      ],
      "execution_count": 0,
      "outputs": []
    },
    {
      "metadata": {
        "id": "nSxqmMOTWfxL",
        "colab_type": "text"
      },
      "cell_type": "markdown",
      "source": [
        "Then we convert the predicted class-numbers from One-Hot encoded arrays to integers."
      ]
    },
    {
      "metadata": {
        "id": "8Nf0V9TzWfxN",
        "colab_type": "code",
        "colab": {}
      },
      "cell_type": "code",
      "source": [
        "cls_pred = np.argmax(y_pred, axis=1)"
      ],
      "execution_count": 0,
      "outputs": []
    },
    {
      "metadata": {
        "id": "0PEX81MLWfxY",
        "colab_type": "text"
      },
      "cell_type": "markdown",
      "source": [
        "Plot some of the mis-classified images."
      ]
    },
    {
      "metadata": {
        "id": "05zpxeo_Wfxa",
        "colab_type": "code",
        "colab": {
          "base_uri": "https://localhost:8080/",
          "height": 263
        },
        "outputId": "06ad3fc6-125d-4998-ebeb-4e54a097f738"
      },
      "cell_type": "code",
      "source": [
        "plot_example_errors(cls_pred)"
      ],
      "execution_count": 37,
      "outputs": [
        {
          "output_type": "display_data",
          "data": {
            "image/png": "[encoded data removed]",
            "text/plain": [
              "<matplotlib.figure.Figure at 0x7f70d47d4e80>"
            ]
          },
          "metadata": {
            "tags": []
          }
        }
      ]
    },
    {
      "metadata": {
        "id": "JMkdOH3_Wfxg",
        "colab_type": "text"
      },
      "cell_type": "markdown",
      "source": [
        "## Save & Load Model\n",
        "\n",
        "NOTE: You need to install `h5py` for this to work!\n",
        "\n",
        "Tutorial #04 was about saving and restoring the weights of a model using native TensorFlow code. It was an absolutely horrible API! Fortunately, Keras makes this very easy.\n",
        "\n",
        "This is the file-path where we want to save the Keras model."
      ]
    },
    {
      "metadata": {
        "id": "5wUSxKjvWfxi",
        "colab_type": "code",
        "colab": {}
      },
      "cell_type": "code",
      "source": [
        "path_model = 'model.keras'"
      ],
      "execution_count": 0,
      "outputs": []
    },
    {
      "metadata": {
        "id": "nLCZMoFmWfxn",
        "colab_type": "text"
      },
      "cell_type": "markdown",
      "source": [
        "Saving a Keras model with the trained weights is then just a single function call, as it should be."
      ]
    },
    {
      "metadata": {
        "scrolled": true,
        "id": "87Xu3RGUWfxo",
        "colab_type": "code",
        "colab": {}
      },
      "cell_type": "code",
      "source": [
        "model2.save(path_model)"
      ],
      "execution_count": 0,
      "outputs": []
    },
    {
      "metadata": {
        "id": "UQhnz_DaWfxu",
        "colab_type": "text"
      },
      "cell_type": "markdown",
      "source": [
        "Delete the model from memory so we are sure it is no longer used."
      ]
    },
    {
      "metadata": {
        "id": "TFGhBUYLWfxy",
        "colab_type": "code",
        "colab": {}
      },
      "cell_type": "code",
      "source": [
        "del model2"
      ],
      "execution_count": 0,
      "outputs": []
    },
    {
      "metadata": {
        "id": "f1MPEhJhWfyC",
        "colab_type": "text"
      },
      "cell_type": "markdown",
      "source": [
        "We need to import this Keras function for loading the model."
      ]
    },
    {
      "metadata": {
        "id": "OyELaQbuWfyE",
        "colab_type": "code",
        "colab": {}
      },
      "cell_type": "code",
      "source": [
        "from tensorflow.python.keras.models import load_model"
      ],
      "execution_count": 0,
      "outputs": []
    },
    {
      "metadata": {
        "id": "qQXJjIjpWfyI",
        "colab_type": "text"
      },
      "cell_type": "markdown",
      "source": [
        "Loading the model is then just a single function-call, as it should be."
      ]
    },
    {
      "metadata": {
        "id": "poyroXEBWfyI",
        "colab_type": "code",
        "colab": {}
      },
      "cell_type": "code",
      "source": [
        "model3 = load_model(path_model)"
      ],
      "execution_count": 0,
      "outputs": []
    },
    {
      "metadata": {
        "id": "iL-sCgALWfyN",
        "colab_type": "text"
      },
      "cell_type": "markdown",
      "source": [
        "We can then use the model again e.g. to make predictions. We get the first 9 images from the test-set and their true class-numbers."
      ]
    },
    {
      "metadata": {
        "id": "ECQUiHBKWfyN",
        "colab_type": "code",
        "colab": {}
      },
      "cell_type": "code",
      "source": [
        "images = data.x_test[0:9]"
      ],
      "execution_count": 0,
      "outputs": []
    },
    {
      "metadata": {
        "id": "t7b3JovwWfyR",
        "colab_type": "code",
        "colab": {}
      },
      "cell_type": "code",
      "source": [
        "cls_true = data.y_test_cls[0:9]"
      ],
      "execution_count": 0,
      "outputs": []
    },
    {
      "metadata": {
        "id": "C_hR5FWmWfyT",
        "colab_type": "text"
      },
      "cell_type": "markdown",
      "source": [
        "We then use the restored model to predict the class-numbers for those images."
      ]
    },
    {
      "metadata": {
        "id": "dvGHugeZWfyU",
        "colab_type": "code",
        "colab": {}
      },
      "cell_type": "code",
      "source": [
        "y_pred = model3.predict(x=images)"
      ],
      "execution_count": 0,
      "outputs": []
    },
    {
      "metadata": {
        "id": "w13lpVNvWfyX",
        "colab_type": "text"
      },
      "cell_type": "markdown",
      "source": [
        "Get the class-numbers as integers."
      ]
    },
    {
      "metadata": {
        "id": "R6xcQ94nWfyY",
        "colab_type": "code",
        "colab": {}
      },
      "cell_type": "code",
      "source": [
        "cls_pred = np.argmax(y_pred, axis=1)"
      ],
      "execution_count": 0,
      "outputs": []
    },
    {
      "metadata": {
        "id": "WmaJ1HxwWfyc",
        "colab_type": "text"
      },
      "cell_type": "markdown",
      "source": [
        "Plot the images with their true and predicted class-numbers."
      ]
    },
    {
      "metadata": {
        "id": "D4hgCl2EWfye",
        "colab_type": "code",
        "colab": {
          "base_uri": "https://localhost:8080/",
          "height": 263
        },
        "outputId": "3d9b06e0-cb21-41cf-f7fc-f11eddcce43d"
      },
      "cell_type": "code",
      "source": [
        "plot_images(images=images,\n",
        "            cls_pred=cls_pred,\n",
        "            cls_true=cls_true)"
      ],
      "execution_count": 47,
      "outputs": [
        {
          "output_type": "display_data",
          "data": {
            "image/png": "[encoded data removed]",
            "text/plain": [
              "<matplotlib.figure.Figure at 0x7f70d4605668>"
            ]
          },
          "metadata": {
            "tags": []
          }
        }
      ]
    },
    {
      "metadata": {
        "id": "r4-uNbHaWfyh",
        "colab_type": "text"
      },
      "cell_type": "markdown",
      "source": [
        "## Visualization of Layer Weights and Outputs"
      ]
    },
    {
      "metadata": {
        "id": "UP6IqkMiWfyi",
        "colab_type": "text"
      },
      "cell_type": "markdown",
      "source": [
        "### Helper-function for plotting convolutional weights"
      ]
    },
    {
      "metadata": {
        "id": "6QeAlXxVWfyj",
        "colab_type": "code",
        "colab": {}
      },
      "cell_type": "code",
      "source": [
        "def plot_conv_weights(weights, input_channel=0):\n",
        "    # Get the lowest and highest values for the weights.\n",
        "    # This is used to correct the colour intensity across\n",
        "    # the images so they can be compared with each other.\n",
        "    w_min = np.min(weights)\n",
        "    w_max = np.max(weights)\n",
        "\n",
        "    # Number of filters used in the conv. layer.\n",
        "    num_filters = weights.shape[3]\n",
        "\n",
        "    # Number of grids to plot.\n",
        "    # Rounded-up, square-root of the number of filters.\n",
        "    num_grids = math.ceil(math.sqrt(num_filters))\n",
        "    \n",
        "    # Create figure with a grid of sub-plots.\n",
        "    fig, axes = plt.subplots(num_grids, num_grids)\n",
        "\n",
        "    # Plot all the filter-weights.\n",
        "    for i, ax in enumerate(axes.flat):\n",
        "        # Only plot the valid filter-weights.\n",
        "        if i<num_filters:\n",
        "            # Get the weights for the i'th filter of the input channel.\n",
        "            # See new_conv_layer() for details on the format\n",
        "            # of this 4-dim tensor.\n",
        "            img = weights[:, :, input_channel, i]\n",
        "\n",
        "            # Plot image.\n",
        "            ax.imshow(img, vmin=w_min, vmax=w_max,\n",
        "                      interpolation='nearest', cmap='seismic')\n",
        "        \n",
        "        # Remove ticks from the plot.\n",
        "        ax.set_xticks([])\n",
        "        ax.set_yticks([])\n",
        "    \n",
        "    # Ensure the plot is shown correctly with multiple plots\n",
        "    # in a single Notebook cell.\n",
        "    plt.show()"
      ],
      "execution_count": 0,
      "outputs": []
    },
    {
      "metadata": {
        "id": "PCHxGIteWfym",
        "colab_type": "text"
      },
      "cell_type": "markdown",
      "source": [
        "### Get Layers\n",
        "\n",
        "Keras has a simple way of listing the layers in the model."
      ]
    },
    {
      "metadata": {
        "id": "lUZaw3vyWfym",
        "colab_type": "code",
        "colab": {
          "base_uri": "https://localhost:8080/",
          "height": 472
        },
        "outputId": "09bd7234-8d51-4d92-83a4-d105dfa56ce0"
      },
      "cell_type": "code",
      "source": [
        "model3.summary()"
      ],
      "execution_count": 108,
      "outputs": [
        {
          "output_type": "stream",
          "text": [
            "_________________________________________________________________\n",
            "Layer (type)                 Output Shape              Param #   \n",
            "=================================================================\n",
            "input_2 (InputLayer)         (None, 784)               0         \n",
            "_________________________________________________________________\n",
            "reshape_1 (Reshape)          (None, 28, 28, 1)         0         \n",
            "_________________________________________________________________\n",
            "layer_conv1 (Conv2D)         (None, 28, 28, 16)        416       \n",
            "_________________________________________________________________\n",
            "max_pooling2d_2 (MaxPooling2 (None, 14, 14, 16)        0         \n",
            "_________________________________________________________________\n",
            "layer_conv2 (Conv2D)         (None, 14, 14, 36)        14436     \n",
            "_________________________________________________________________\n",
            "max_pooling2d_3 (MaxPooling2 (None, 7, 7, 36)          0         \n",
            "_________________________________________________________________\n",
            "flatten_1 (Flatten)          (None, 1764)              0         \n",
            "_________________________________________________________________\n",
            "dense_2 (Dense)              (None, 128)               225920    \n",
            "_________________________________________________________________\n",
            "dense_3 (Dense)              (None, 10)                1290      \n",
            "=================================================================\n",
            "Total params: 242,062\n",
            "Trainable params: 242,062\n",
            "Non-trainable params: 0\n",
            "_________________________________________________________________\n"
          ],
          "name": "stdout"
        }
      ]
    },
    {
      "metadata": {
        "id": "wkz1Jf9fWfyr",
        "colab_type": "text"
      },
      "cell_type": "markdown",
      "source": [
        "We count the indices to get the layers we want.\n",
        "\n",
        "The input-layer has index 0."
      ]
    },
    {
      "metadata": {
        "id": "RI1Qz-O7Wfys",
        "colab_type": "code",
        "colab": {}
      },
      "cell_type": "code",
      "source": [
        "layer_input = model3.layers[0]"
      ],
      "execution_count": 0,
      "outputs": []
    },
    {
      "metadata": {
        "id": "DTkyC9fHzcz8",
        "colab_type": "code",
        "colab": {
          "base_uri": "https://localhost:8080/",
          "height": 35
        },
        "outputId": "1da4fdb6-838a-4d5d-a35f-5914a5994282"
      },
      "cell_type": "code",
      "source": [
        "layer_input"
      ],
      "execution_count": 103,
      "outputs": [
        {
          "output_type": "execute_result",
          "data": {
            "text/plain": [
              "<tensorflow.python.keras.engine.input_layer.InputLayer at 0x7f70d45e0470>"
            ]
          },
          "metadata": {
            "tags": []
          },
          "execution_count": 103
        }
      ]
    },
    {
      "metadata": {
        "id": "FJkePxKEWfyu",
        "colab_type": "text"
      },
      "cell_type": "markdown",
      "source": [
        "The first convolutional layer has index 2."
      ]
    },
    {
      "metadata": {
        "scrolled": true,
        "id": "fTO1bVcqWfyv",
        "colab_type": "code",
        "colab": {
          "base_uri": "https://localhost:8080/",
          "height": 35
        },
        "outputId": "c50e3fde-2661-4a11-dace-21c8c09bf8d4"
      },
      "cell_type": "code",
      "source": [
        "layer_conv1 = model3.layers[2]\n",
        "layer_conv1"
      ],
      "execution_count": 51,
      "outputs": [
        {
          "output_type": "execute_result",
          "data": {
            "text/plain": [
              "<tensorflow.python.keras.layers.convolutional.Conv2D at 0x7f70d45e05f8>"
            ]
          },
          "metadata": {
            "tags": []
          },
          "execution_count": 51
        }
      ]
    },
    {
      "metadata": {
        "id": "WKrcmNaaWfyz",
        "colab_type": "text"
      },
      "cell_type": "markdown",
      "source": [
        "The second convolutional layer has index 4."
      ]
    },
    {
      "metadata": {
        "id": "4KPoZLTNWfy1",
        "colab_type": "code",
        "colab": {}
      },
      "cell_type": "code",
      "source": [
        "layer_conv2 = model3.layers[4]"
      ],
      "execution_count": 0,
      "outputs": []
    },
    {
      "metadata": {
        "id": "5o_Ob0fMWfy8",
        "colab_type": "text"
      },
      "cell_type": "markdown",
      "source": [
        "### Convolutional Weights\n",
        "\n",
        "Now that we have the layers we can easily get their weights."
      ]
    },
    {
      "metadata": {
        "id": "rK4pvaOYWfy9",
        "colab_type": "code",
        "colab": {}
      },
      "cell_type": "code",
      "source": [
        "weights_conv1 = layer_conv1.get_weights()[0]"
      ],
      "execution_count": 0,
      "outputs": []
    },
    {
      "metadata": {
        "id": "kUMWhudHWfzB",
        "colab_type": "text"
      },
      "cell_type": "markdown",
      "source": [
        "This gives us a 4-rank tensor."
      ]
    },
    {
      "metadata": {
        "scrolled": true,
        "id": "foqwKmkGWfzC",
        "colab_type": "code",
        "colab": {
          "base_uri": "https://localhost:8080/",
          "height": 35
        },
        "outputId": "462ea460-12c6-41a6-9631-1562291a26b6"
      },
      "cell_type": "code",
      "source": [
        "weights_conv1.shape"
      ],
      "execution_count": 54,
      "outputs": [
        {
          "output_type": "execute_result",
          "data": {
            "text/plain": [
              "(5, 5, 1, 16)"
            ]
          },
          "metadata": {
            "tags": []
          },
          "execution_count": 54
        }
      ]
    },
    {
      "metadata": {
        "id": "NgMOFQdAWfzI",
        "colab_type": "text"
      },
      "cell_type": "markdown",
      "source": [
        "Plot the weights using the helper-function from above."
      ]
    },
    {
      "metadata": {
        "scrolled": true,
        "id": "gXeVzYp4WfzI",
        "colab_type": "code",
        "colab": {
          "base_uri": "https://localhost:8080/",
          "height": 248
        },
        "outputId": "46a16133-15ab-41ce-f6de-737021bd93e9"
      },
      "cell_type": "code",
      "source": [
        "plot_conv_weights(weights=weights_conv1, input_channel=0)"
      ],
      "execution_count": 55,
      "outputs": [
        {
          "output_type": "display_data",
          "data": {
            "image/png": "[encoded data removed]",
            "text/plain": [
              "<matplotlib.figure.Figure at 0x7f70d409a710>"
            ]
          },
          "metadata": {
            "tags": []
          }
        }
      ]
    },
    {
      "metadata": {
        "id": "WISrUia7WfzN",
        "colab_type": "text"
      },
      "cell_type": "markdown",
      "source": [
        "We can also get the weights for the second convolutional layer and plot them."
      ]
    },
    {
      "metadata": {
        "id": "QYsRfqqmWfzO",
        "colab_type": "code",
        "colab": {}
      },
      "cell_type": "code",
      "source": [
        "weights_conv2 = layer_conv2.get_weights()[0]"
      ],
      "execution_count": 0,
      "outputs": []
    },
    {
      "metadata": {
        "id": "6rMHX7viWfzS",
        "colab_type": "code",
        "colab": {
          "base_uri": "https://localhost:8080/",
          "height": 248
        },
        "outputId": "5fc3e436-e14f-45d2-c44d-118dc620ae28"
      },
      "cell_type": "code",
      "source": [
        "plot_conv_weights(weights=weights_conv2, input_channel=0)"
      ],
      "execution_count": 57,
      "outputs": [
        {
          "output_type": "display_data",
          "data": {
            "image/png": "[encoded data removed]",
            "text/plain": [
              "<matplotlib.figure.Figure at 0x7f70d3ceb4a8>"
            ]
          },
          "metadata": {
            "tags": []
          }
        }
      ]
    },
    {
      "metadata": {
        "id": "9sgiZcOsWfzW",
        "colab_type": "text"
      },
      "cell_type": "markdown",
      "source": [
        "### Helper-function for plotting the output of a convolutional layer"
      ]
    },
    {
      "metadata": {
        "id": "mLcCEOwnWfzZ",
        "colab_type": "code",
        "colab": {}
      },
      "cell_type": "code",
      "source": [
        "def plot_conv_output(values):\n",
        "    # Number of filters used in the conv. layer.\n",
        "    num_filters = values.shape[3]\n",
        "\n",
        "    # Number of grids to plot.\n",
        "    # Rounded-up, square-root of the number of filters.\n",
        "    num_grids = math.ceil(math.sqrt(num_filters))\n",
        "    \n",
        "    # Create figure with a grid of sub-plots.\n",
        "    fig, axes = plt.subplots(num_grids, num_grids)\n",
        "\n",
        "    # Plot the output images of all the filters.\n",
        "    for i, ax in enumerate(axes.flat):\n",
        "        # Only plot the images for valid filters.\n",
        "        if i<num_filters:\n",
        "            # Get the output image of using the i'th filter.\n",
        "            img = values[0, :, :, i]\n",
        "\n",
        "            # Plot image.\n",
        "            ax.imshow(img, interpolation='nearest', cmap='binary')\n",
        "        \n",
        "        # Remove ticks from the plot.\n",
        "        ax.set_xticks([])\n",
        "        ax.set_yticks([])\n",
        "    \n",
        "    # Ensure the plot is shown correctly with multiple plots\n",
        "    # in a single Notebook cell.\n",
        "    plt.show()"
      ],
      "execution_count": 0,
      "outputs": []
    },
    {
      "metadata": {
        "id": "z7Mky86fWfzg",
        "colab_type": "text"
      },
      "cell_type": "markdown",
      "source": [
        "### Input Image\n",
        "\n",
        "Helper-function for plotting a single image."
      ]
    },
    {
      "metadata": {
        "id": "GvO7ZLPOWfzg",
        "colab_type": "code",
        "colab": {}
      },
      "cell_type": "code",
      "source": [
        "def plot_image(image):\n",
        "    plt.imshow(image.reshape(img_shape),\n",
        "               interpolation='nearest',\n",
        "               cmap='binary')\n",
        "\n",
        "    plt.show()"
      ],
      "execution_count": 0,
      "outputs": []
    },
    {
      "metadata": {
        "id": "JiO9uZhtWfzj",
        "colab_type": "text"
      },
      "cell_type": "markdown",
      "source": [
        "Plot an image from the test-set which will be used as an example below."
      ]
    },
    {
      "metadata": {
        "scrolled": true,
        "id": "8yTz_wvuWfzk",
        "colab_type": "code",
        "colab": {
          "base_uri": "https://localhost:8080/",
          "height": 265
        },
        "outputId": "d9f48b5c-1099-49b8-bac7-8186961d961c"
      },
      "cell_type": "code",
      "source": [
        "image1 = data.x_test[0]\n",
        "plot_image(image1)"
      ],
      "execution_count": 60,
      "outputs": [
        {
          "output_type": "display_data",
          "data": {
            "image/png": "[encoded data removed]",
            "text/plain": [
              "<matplotlib.figure.Figure at 0x7f70d478a9b0>"
            ]
          },
          "metadata": {
            "tags": []
          }
        }
      ]
    },
    {
      "metadata": {
        "id": "JZQUymYfWfzq",
        "colab_type": "text"
      },
      "cell_type": "markdown",
      "source": [
        "### Output of Convolutional Layer - Method 1\n",
        "\n",
        "There are different ways of getting the output of a layer in a Keras model. This method uses a so-called K-function which turns a part of the Keras model into a function."
      ]
    },
    {
      "metadata": {
        "id": "Wgka97FEWfzr",
        "colab_type": "code",
        "colab": {}
      },
      "cell_type": "code",
      "source": [
        "from tensorflow.python.keras import backend as K"
      ],
      "execution_count": 0,
      "outputs": []
    },
    {
      "metadata": {
        "id": "-nQBVVwGWfzu",
        "colab_type": "code",
        "colab": {}
      },
      "cell_type": "code",
      "source": [
        "output_conv1 = K.function(inputs=[layer_input.input],\n",
        "                          outputs=[max_pooling2d_2.output])"
      ],
      "execution_count": 0,
      "outputs": []
    },
    {
      "metadata": {
        "id": "x2NJSYO8Wfzw",
        "colab_type": "text"
      },
      "cell_type": "markdown",
      "source": [
        "We can then call this function with the input image. Note that the image is wrapped in two lists because the function expects an array of that dimensionality. Likewise, the function returns an array with one more dimensionality than we want so we just take the first element."
      ]
    },
    {
      "metadata": {
        "id": "XPVrnZfnWfzx",
        "colab_type": "code",
        "colab": {
          "base_uri": "https://localhost:8080/",
          "height": 35
        },
        "outputId": "61af43d6-164b-42a7-d67f-9e63d1690124"
      },
      "cell_type": "code",
      "source": [
        "layer_output1 = output_conv1([[image1]])[0]\n",
        "layer_output1.shape"
      ],
      "execution_count": 63,
      "outputs": [
        {
          "output_type": "execute_result",
          "data": {
            "text/plain": [
              "(1, 28, 28, 16)"
            ]
          },
          "metadata": {
            "tags": []
          },
          "execution_count": 63
        }
      ]
    },
    {
      "metadata": {
        "id": "frlm_wbrWfz1",
        "colab_type": "text"
      },
      "cell_type": "markdown",
      "source": [
        "We can then plot the output of all 16 channels of the convolutional layer."
      ]
    },
    {
      "metadata": {
        "scrolled": false,
        "id": "Ab_h1VwnWfz4",
        "colab_type": "code",
        "colab": {
          "base_uri": "https://localhost:8080/",
          "height": 248
        },
        "outputId": "6358e50f-5264-4a83-df3c-857b5d9f4341"
      },
      "cell_type": "code",
      "source": [
        "plot_conv_output(values=layer_output1)"
      ],
      "execution_count": 64,
      "outputs": [
        {
          "output_type": "display_data",
          "data": {
            "image/png": "[encoded data removed]",
            "text/plain": [
              "<matplotlib.figure.Figure at 0x7f70d46750b8>"
            ]
          },
          "metadata": {
            "tags": []
          }
        }
      ]
    },
    {
      "metadata": {
        "id": "VTV0dvcMWfz7",
        "colab_type": "text"
      },
      "cell_type": "markdown",
      "source": [
        "### Output of Convolutional Layer - Method 2\n",
        "\n",
        "Keras also has another method for getting the output of a layer inside the model. This creates another Functional Model using the same input as the original model, but the output is now taken from the convolutional layer that we are interested in."
      ]
    },
    {
      "metadata": {
        "scrolled": true,
        "id": "urR2jdgbWfz8",
        "colab_type": "code",
        "colab": {}
      },
      "cell_type": "code",
      "source": [
        "output_conv2 = Model(inputs=layer_input.input,\n",
        "                     outputs=layer_conv2.output)"
      ],
      "execution_count": 0,
      "outputs": []
    },
    {
      "metadata": {
        "id": "aQtiBhE_Wfz-",
        "colab_type": "text"
      },
      "cell_type": "markdown",
      "source": [
        "This creates a new model-object where we can call the typical Keras functions. To get the output of the convoloutional layer we call the `predict()` function with the input image."
      ]
    },
    {
      "metadata": {
        "id": "QLW3Wp8nWfz-",
        "colab_type": "code",
        "colab": {
          "base_uri": "https://localhost:8080/",
          "height": 35
        },
        "outputId": "3449a7cb-1cfb-4717-81a5-87aeda15133c"
      },
      "cell_type": "code",
      "source": [
        "layer_output2 = output_conv2.predict(np.array([image1]))\n",
        "layer_output2.shape"
      ],
      "execution_count": 66,
      "outputs": [
        {
          "output_type": "execute_result",
          "data": {
            "text/plain": [
              "(1, 14, 14, 36)"
            ]
          },
          "metadata": {
            "tags": []
          },
          "execution_count": 66
        }
      ]
    },
    {
      "metadata": {
        "id": "UsxpbzKgWf0B",
        "colab_type": "text"
      },
      "cell_type": "markdown",
      "source": [
        "We can then plot the images for all 36 channels."
      ]
    },
    {
      "metadata": {
        "id": "m2WU5HgWWf0C",
        "colab_type": "code",
        "colab": {
          "base_uri": "https://localhost:8080/",
          "height": 248
        },
        "outputId": "b8501d99-b977-4191-aa5f-7e6542a59896"
      },
      "cell_type": "code",
      "source": [
        "plot_conv_output(values=layer_output2)"
      ],
      "execution_count": 67,
      "outputs": [
        {
          "output_type": "display_data",
          "data": {
            "image/png": "[encoded data removed]",
            "text/plain": [
              "<matplotlib.figure.Figure at 0x7f70d3691e48>"
            ]
          },
          "metadata": {
            "tags": []
          }
        }
      ]
    },
    {
      "metadata": {
        "id": "jeF-mktrWf0F",
        "colab_type": "text"
      },
      "cell_type": "markdown",
      "source": [
        "## Conclusion\n",
        "\n",
        "This tutorial showed how to use the so-called *Keras API* for easily building Convolutional Neural Networks in TensorFlow. Keras is by far the most complete and best designed API for TensorFlow.\n",
        "\n",
        "This tutorial also showed how to use Keras to save and load a model, as well as getting the weights and outputs of convolutional layers.\n",
        "\n",
        "It seems likely that Keras will be the standard API for TensorFlow in the future, for the simple reason that is already very good and it is constantly being improved. So it is recommended that you use Keras."
      ]
    },
    {
      "metadata": {
        "id": "SGawDVKJWf0G",
        "colab_type": "text"
      },
      "cell_type": "markdown",
      "source": [
        "## Exercises\n",
        "\n",
        "These are a few suggestions for exercises that may help improve your skills with TensorFlow. It is important to get hands-on experience with TensorFlow in order to learn how to use it properly.\n",
        "\n",
        "You may want to backup this Notebook before making any changes.\n",
        "\n",
        "* Train for more epochs. Does it improve the classification accuracy?\n",
        "* Change the activation function to sigmoid for some of the layers.\n",
        "* Can you find a simple way of changing the activation function for all the layers?\n",
        "* Plot the output of the max-pooling layers instead of the conv-layers.\n",
        "* Replace the 2x2 max-pooling layers with stride=2 in the convolutional layers. Is there a difference in classification accuracy? What if you optimize it again and again? The difference is random, so how would you measure if there really is a difference? What are the pros and cons of using max-pooling vs. stride in the conv-layer?\n",
        "* Change the parameters for the layers, e.g. the kernel, depth, size, etc. What is the difference in time usage and classification accuracy?\n",
        "* Add and remove some convolutional and fully-connected layers.\n",
        "* What is the simplest network you can design that still performs well?\n",
        "* Change the Functional Model so it has another convolutional layer that connects in parallel to the existing conv-layers before going into the dense layers.\n",
        "* Change the Functional Model so it outputs the predicted class both as a One-Hot encoded array and as an integer, so we don't have to use `numpy.argmax()` afterwards.\n",
        "* Remake the program yourself without looking too much at this source-code.\n",
        "* Explain to a friend how the program works."
      ]
    },
    {
      "metadata": {
        "id": "PrFE61h-4RK3",
        "colab_type": "text"
      },
      "cell_type": "markdown",
      "source": [
        "Plot the output of the max-pooling layers instead of the conv-layers."
      ]
    },
    {
      "metadata": {
        "id": "Q9fxXhgN15VS",
        "colab_type": "code",
        "colab": {
          "base_uri": "https://localhost:8080/",
          "height": 35
        },
        "outputId": "55074b04-db75-409b-83f4-a51f1f88f74d"
      },
      "cell_type": "code",
      "source": [
        "max_pooling2d_3 = model3.layers[5]\n",
        "output_conv2 = Model(inputs=layer_input.input,\n",
        "                     outputs=max_pooling2d_3.output)\n",
        "layer_output2 = output_conv2.predict(np.array([image1]))\n",
        "layer_output2.shape"
      ],
      "execution_count": 109,
      "outputs": [
        {
          "output_type": "execute_result",
          "data": {
            "text/plain": [
              "(1, 7, 7, 36)"
            ]
          },
          "metadata": {
            "tags": []
          },
          "execution_count": 109
        }
      ]
    },
    {
      "metadata": {
        "id": "E4KnbJVJ2TU2",
        "colab_type": "code",
        "colab": {
          "base_uri": "https://localhost:8080/",
          "height": 248
        },
        "outputId": "4f81b64a-f566-40c0-d91a-12d05c0acddf"
      },
      "cell_type": "code",
      "source": [
        "plot_conv_output(values=layer_output2)"
      ],
      "execution_count": 110,
      "outputs": [
        {
          "output_type": "display_data",
          "data": {
            "image/png": "[encoded data removed]",
            "text/plain": [
              "<matplotlib.figure.Figure at 0x7f70d3aed2b0>"
            ]
          },
          "metadata": {
            "tags": []
          }
        }
      ]
    },
    {
      "metadata": {
        "id": "j2GmYpIwWf0G",
        "colab_type": "text"
      },
      "cell_type": "markdown",
      "source": [
        "## License (MIT)\n",
        "\n",
        "Copyright (c) 2016-2017 by [Magnus Erik Hvass Pedersen](http://www.hvass-labs.org/)\n",
        "\n",
        "Permission is hereby granted, free of charge, to any person obtaining a copy of this software and associated documentation files (the \"Software\"), to deal in the Software without restriction, including without limitation the rights to use, copy, modify, merge, publish, distribute, sublicense, and/or sell copies of the Software, and to permit persons to whom the Software is furnished to do so, subject to the following conditions:\n",
        "\n",
        "The above copyright notice and this permission notice shall be included in all copies or substantial portions of the Software.\n",
        "\n",
        "THE SOFTWARE IS PROVIDED \"AS IS\", WITHOUT WARRANTY OF ANY KIND, EXPRESS OR IMPLIED, INCLUDING BUT NOT LIMITED TO THE WARRANTIES OF MERCHANTABILITY, FITNESS FOR A PARTICULAR PURPOSE AND NONINFRINGEMENT. IN NO EVENT SHALL THE AUTHORS OR COPYRIGHT HOLDERS BE LIABLE FOR ANY CLAIM, DAMAGES OR OTHER LIABILITY, WHETHER IN AN ACTION OF CONTRACT, TORT OR OTHERWISE, ARISING FROM, OUT OF OR IN CONNECTION WITH THE SOFTWARE OR THE USE OR OTHER DEALINGS IN THE SOFTWARE."
      ]
    }
  ]
}