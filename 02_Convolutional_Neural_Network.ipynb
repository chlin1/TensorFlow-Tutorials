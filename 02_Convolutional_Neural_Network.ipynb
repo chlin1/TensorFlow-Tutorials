{
  "nbformat": 4,
  "nbformat_minor": 0,
  "metadata": {
    "colab": {
      "name": "02_Convolutional_Neural_Network.ipynb",
      "version": "0.3.2",
      "provenance": [],
      "collapsed_sections": [
        "eLgX1PpWADG6",
        "z1WpXKwBADHC",
        "CBuHYX3uADHL",
        "htoVT_CWADHP",
        "M0zXRkjJADHk",
        "YV3zd-_cADH1",
        "nVOxarmRADH7",
        "xB7gbtaFADID",
        "fOZUwEPGADIh",
        "fnLWMwF5ADIz",
        "vVqxzjVfADI_",
        "-CvqUuPbADJR",
        "AC7RrxlrADJm",
        "mGo2LjAvADJ1",
        "jFCNIR7AADJ_",
        "CRoFdUuiADKR",
        "dA0E-tVDADKZ",
        "kfrtcoXVADKq",
        "Vl5pG4kJADKr",
        "D5bciQicADK0",
        "rA3rErNWADLA",
        "qkk8rq1FADLT",
        "0urZDg-fADLb",
        "cRLHaDNUADLf",
        "E9miDC1vADLo",
        "0J8eTti_ADLw",
        "g8AGQrRYADL9",
        "TZOMBhQKADMI",
        "6LVgp2rAADMY",
        "O_szwbRfADMi",
        "0yJg5YppADMk",
        "mW-5DbvGADMo",
        "3H-deizSADMy",
        "yiR1dYO6ADNJ",
        "7ihDYkV1ADNi",
        "ZotfOkkKADN8",
        "LioOm0GkADN_",
        "I8editj9ADOA",
        "QncmZmSWADOB"
      ],
      "toc_visible": true,
      "include_colab_link": true
    },
    "kernelspec": {
      "name": "python3",
      "display_name": "Python 3"
    },
    "accelerator": "TPU"
  },
  "cells": [
    {
      "cell_type": "markdown",
      "metadata": {
        "id": "view-in-github",
        "colab_type": "text"
      },
      "source": [
        "<a href=\"https://colab.research.google.com/github/chlin1/tensorflow_tutorial/blob/master/02_Convolutional_Neural_Network.ipynb\" target=\"_parent\"><img src=\"https://colab.research.google.com/assets/colab-badge.svg\" alt=\"Open In Colab\"/></a>"
      ]
    },
    {
      "metadata": {
        "id": "wIR2QxI4ADFg",
        "colab_type": "text"
      },
      "cell_type": "markdown",
      "source": [
        "# TensorFlow Tutorial #02\n",
        "# Convolutional Neural Network\n",
        "\n",
        "by [Magnus Erik Hvass Pedersen](http://www.hvass-labs.org/)\n",
        "/ [GitHub](https://github.com/Hvass-Labs/TensorFlow-Tutorials) / [Videos on YouTube](https://www.youtube.com/playlist?list=PL9Hr9sNUjfsmEu1ZniY0XpHSzl5uihcXZ)"
      ]
    },
    {
      "metadata": {
        "id": "rsPFeC2aADFk",
        "colab_type": "text"
      },
      "cell_type": "markdown",
      "source": [
        "## Introduction\n",
        "\n",
        "The previous tutorial showed that a simple linear model had about 91% classification accuracy for recognizing hand-written digits in the MNIST data-set.\n",
        "\n",
        "In this tutorial we will implement a simple Convolutional Neural Network in TensorFlow which has a classification accuracy of about 99%, or more if you make some of the suggested exercises.\n",
        "\n",
        "Convolutional Networks work by moving small filters across the input image. This means the filters are re-used for recognizing patterns throughout the entire input image. This makes the Convolutional Networks much more powerful than Fully-Connected networks with the same number of variables. This in turn makes the Convolutional Networks faster to train.\n",
        "\n",
        "You should be familiar with basic linear algebra, Python and the Jupyter Notebook editor. Beginners to TensorFlow may also want to study the first tutorial before proceeding to this one."
      ]
    },
    {
      "metadata": {
        "id": "SkxwA6ESOaj3",
        "colab_type": "code",
        "colab": {
          "base_uri": "https://localhost:8080/",
          "height": 35
        },
        "outputId": "7d439b04-217e-42bb-a428-88e6f062f189"
      },
      "cell_type": "code",
      "source": [
        "import os\n",
        "work_dir = \"/content/TensorFlow-Tutorials/\"\n",
        "if os.getcwd() != work_dir:\n",
        "  !git clone https://github.com/Hvass-Labs/TensorFlow-Tutorials.git\n",
        "os.chdir(work_dir)"
      ],
      "execution_count": 155,
      "outputs": [
        {
          "output_type": "stream",
          "text": [
            "fatal: destination path 'TensorFlow-Tutorials' already exists and is not an empty directory.\n"
          ],
          "name": "stdout"
        }
      ]
    },
    {
      "metadata": {
        "id": "vjoPaLJ4ADFl",
        "colab_type": "text"
      },
      "cell_type": "markdown",
      "source": [
        "## Flowchart"
      ]
    },
    {
      "metadata": {
        "id": "GrrLKnynADFo",
        "colab_type": "text"
      },
      "cell_type": "markdown",
      "source": [
        "The following chart shows roughly how the data flows in the Convolutional Neural Network that is implemented below.\n",
        "\n",
        "![Flowchart](https://github.com/chlin1/tensorflow_tutorial/blob/master/images/02_network_flowchart.png?raw=1)"
      ]
    },
    {
      "metadata": {
        "id": "ppTWwZy_ADFq",
        "colab_type": "text"
      },
      "cell_type": "markdown",
      "source": [
        "The input image is processed in the first convolutional layer using the filter-weights. This results in 16 new images, one for each filter in the convolutional layer. The images are also down-sampled so the image resolution is decreased from 28x28 to 14x14.\n",
        "\n",
        "These 16 smaller images are then processed in the second convolutional layer. We need filter-weights for each of these 16 channels, and we need filter-weights for each output channel of this layer. There are 36 output channels so there are a total of 16 x 36 = 576 filters in the second convolutional layer. The resulting images are down-sampled again to 7x7 pixels.\n",
        "\n",
        "The output of the second convolutional layer is 36 images of 7x7 pixels each. These are then flattened to a single vector of length 7 x 7 x 36 = 1764, which is used as the input to a fully-connected layer with 128 neurons (or elements). This feeds into another fully-connected layer with 10 neurons, one for each of the classes, which is used to determine the class of the image, that is, which number is depicted in the image.\n",
        "\n",
        "The convolutional filters are initially chosen at random, so the classification is done randomly. The error between the predicted and true class of the input image is measured as the so-called cross-entropy. The optimizer then automatically propagates this error back through the Convolutional Network using the chain-rule of differentiation and updates the filter-weights so as to improve the classification error. This is done iteratively thousands of times until the classification error is sufficiently low.\n",
        "\n",
        "These particular filter-weights and intermediate images are the results of one optimization run and may look different if you re-run this Notebook.\n",
        "\n",
        "Note that the computation in TensorFlow is actually done on a batch of images instead of a single image, which makes the computation more efficient. This means the flowchart actually has one more data-dimension when implemented in TensorFlow."
      ]
    },
    {
      "metadata": {
        "id": "77lnX2BHADFr",
        "colab_type": "text"
      },
      "cell_type": "markdown",
      "source": [
        "## Convolutional Layer"
      ]
    },
    {
      "metadata": {
        "id": "hqy1U_ZrADFt",
        "colab_type": "text"
      },
      "cell_type": "markdown",
      "source": [
        "The following chart shows the basic idea of processing an image in the first convolutional layer. The input image depicts the number 7 and four copies of the image are shown here, so we can see more clearly how the filter is being moved to different positions of the image. For each position of the filter, the dot-product is being calculated between the filter and the image pixels under the filter, which results in a single pixel in the output image. So moving the filter across the entire input image results in a new image being generated.\n",
        "\n",
        "The red filter-weights means that the filter has a positive reaction to black pixels in the input image, while blue pixels means the filter has a negative reaction to black pixels.\n",
        "\n",
        "In this case it appears that the filter recognizes the horizontal line of the 7-digit, as can be seen from its stronger reaction to that line in the output image.\n",
        "\n",
        "![Convolution example](https://github.com/chlin1/tensorflow_tutorial/blob/master/images/02_convolution.png?raw=1)"
      ]
    },
    {
      "metadata": {
        "id": "y1pl556xADFy",
        "colab_type": "text"
      },
      "cell_type": "markdown",
      "source": [
        "The step-size for moving the filter across the input is called the stride. There is a stride for moving the filter horizontally (x-axis) and another stride for moving vertically (y-axis).\n",
        "\n",
        "In the source-code below, the stride is set to 1 in both directions, which means the filter starts in the upper left corner of the input image and is being moved 1 pixel to the right in each step. When the filter reaches the end of the image to the right, then the filter is moved back to the left side and 1 pixel down the image. This continues until the filter has reached the lower right corner of the input image and the entire output image has been generated.\n",
        "\n",
        "When the filter reaches the end of the right-side as well as the bottom of the input image, then it can be padded with zeroes (white pixels). This causes the output image to be of the exact same dimension as the input image.\n",
        "\n",
        "Furthermore, the output of the convolution may be passed through a so-called Rectified Linear Unit (ReLU), which merely ensures that the output is positive because negative values are set to zero. The output may also be down-sampled by so-called max-pooling, which considers small windows of 2x2 pixels and only keeps the largest of those pixels. This halves the resolution of the input image e.g. from 28x28 to 14x14 pixels.\n",
        "\n",
        "Note that the second convolutional layer is more complicated because it takes 16 input channels. We want a separate filter for each input channel, so we need 16 filters instead of just one. Furthermore, we want 36 output channels from the second convolutional layer, so in total we need 16 x 36 = 576 filters for the second convolutional layer. It can be a bit challenging to understand how this works."
      ]
    },
    {
      "metadata": {
        "id": "FmT_8kA5ADF0",
        "colab_type": "text"
      },
      "cell_type": "markdown",
      "source": [
        "## Imports"
      ]
    },
    {
      "metadata": {
        "id": "LT6GT-crADF1",
        "colab_type": "code",
        "colab": {}
      },
      "cell_type": "code",
      "source": [
        "%matplotlib inline\n",
        "import matplotlib.pyplot as plt\n",
        "import tensorflow as tf\n",
        "import numpy as np\n",
        "from sklearn.metrics import confusion_matrix\n",
        "import time\n",
        "from datetime import timedelta\n",
        "import math"
      ],
      "execution_count": 0,
      "outputs": []
    },
    {
      "metadata": {
        "id": "DPff2rBlADGJ",
        "colab_type": "text"
      },
      "cell_type": "markdown",
      "source": [
        "This was developed using Python 3.6 (Anaconda) and TensorFlow version:"
      ]
    },
    {
      "metadata": {
        "id": "vvQ7UUW7ADGM",
        "colab_type": "code",
        "outputId": "8a4e87b0-fd7f-4d0e-ab4e-a95dc03029d1",
        "colab": {
          "base_uri": "https://localhost:8080/",
          "height": 35
        }
      },
      "cell_type": "code",
      "source": [
        "tf.__version__"
      ],
      "execution_count": 157,
      "outputs": [
        {
          "output_type": "execute_result",
          "data": {
            "text/plain": [
              "'1.12.0'"
            ]
          },
          "metadata": {
            "tags": []
          },
          "execution_count": 157
        }
      ]
    },
    {
      "metadata": {
        "id": "hG1-45d_ADGU",
        "colab_type": "text"
      },
      "cell_type": "markdown",
      "source": [
        "## Configuration of Neural Network\n",
        "\n",
        "The configuration of the Convolutional Neural Network is defined here for convenience, so you can easily find and change these numbers and re-run the Notebook.\n",
        "\n",
        "\n",
        "layer i\n",
        "f[i] filter size \\\n",
        "input: n_h[i-1] \\* n_w[i] \\* n_c[i] \\\n",
        "output: n_h[i] \\* n_w[i] \\* n_c[i] \\\n",
        "each filter: f[i] \\* f[i] \\* n_c[i-1] \\\n",
        "activation: a[i]: n_h[i] \\* n_w[i] \\* n_c[i]\n",
        "weight: f[i] \\* f[i] \\* n_c[i-1] \\* n_c[i] (# filters in layer i) \\\n",
        "bias: n_c[i]"
      ]
    },
    {
      "metadata": {
        "id": "32lBMH7SADGW",
        "colab_type": "code",
        "colab": {}
      },
      "cell_type": "code",
      "source": [
        "# Convolutional Layer 1.\n",
        "filter_size1 = 5          # Convolution filters are 5 x 5 pixels.\n",
        "num_filters1 = 16         # There are 16 of these filters.\n",
        "\n",
        "# Convolutional Layer 2.\n",
        "filter_size2 = 5          # Convolution filters are 5 x 5 pixels.\n",
        "num_filters2 = 36         # There are 36 of these filters.\n",
        "\n",
        "# Fully-connected layer.\n",
        "fc_size = 128             # Number of neurons in fully-connected layer."
      ],
      "execution_count": 0,
      "outputs": []
    },
    {
      "metadata": {
        "id": "HTid70ZVADGd",
        "colab_type": "text"
      },
      "cell_type": "markdown",
      "source": [
        "## Load Data"
      ]
    },
    {
      "metadata": {
        "id": "68Td1FV_ADGe",
        "colab_type": "text"
      },
      "cell_type": "markdown",
      "source": [
        "The MNIST data-set is about 12 MB and will be downloaded automatically if it is not located in the given path."
      ]
    },
    {
      "metadata": {
        "id": "ligwrNBoADGg",
        "colab_type": "code",
        "colab": {}
      },
      "cell_type": "code",
      "source": [
        "from mnist import MNIST\n",
        "data = MNIST(data_dir=\"data/MNIST/\")"
      ],
      "execution_count": 0,
      "outputs": []
    },
    {
      "metadata": {
        "id": "nn9aaAAlADGm",
        "colab_type": "text"
      },
      "cell_type": "markdown",
      "source": [
        "The MNIST data-set has now been loaded and consists of 70.000 images and class-numbers for the images. The data-set is split into 3 mutually exclusive sub-sets. We will only use the training and test-sets in this tutorial."
      ]
    },
    {
      "metadata": {
        "scrolled": true,
        "id": "aLrpxUeMADGo",
        "colab_type": "code",
        "outputId": "73d349d9-f7ab-4497-d207-a20c714c32f0",
        "colab": {
          "base_uri": "https://localhost:8080/",
          "height": 90
        }
      },
      "cell_type": "code",
      "source": [
        "print(\"Size of:\")\n",
        "print(\"- Training-set:\\t\\t{}\".format(data.num_train))\n",
        "print(\"- Validation-set:\\t{}\".format(data.num_val))\n",
        "print(\"- Test-set:\\t\\t{}\".format(data.num_test))"
      ],
      "execution_count": 160,
      "outputs": [
        {
          "output_type": "stream",
          "text": [
            "Size of:\n",
            "- Training-set:\t\t55000\n",
            "- Validation-set:\t5000\n",
            "- Test-set:\t\t10000\n"
          ],
          "name": "stdout"
        }
      ]
    },
    {
      "metadata": {
        "id": "CeXuUCdHADGx",
        "colab_type": "text"
      },
      "cell_type": "markdown",
      "source": [
        "Copy some of the data-dimensions for convenience."
      ]
    },
    {
      "metadata": {
        "id": "X1vCDHozADGz",
        "colab_type": "code",
        "colab": {}
      },
      "cell_type": "code",
      "source": [
        "# The number of pixels in each dimension of an image.\n",
        "img_size = data.img_size\n",
        "\n",
        "# The images are stored in one-dimensional arrays of this length.\n",
        "img_size_flat = data.img_size_flat\n",
        "\n",
        "# Tuple with height and width of images used to reshape arrays.\n",
        "img_shape = data.img_shape\n",
        "\n",
        "# Number of classes, one class for each of 10 digits.\n",
        "num_classes = data.num_classes\n",
        "\n",
        "# Number of colour channels for the images: 1 channel for gray-scale.\n",
        "num_channels = data.num_channels"
      ],
      "execution_count": 0,
      "outputs": []
    },
    {
      "metadata": {
        "id": "Qy_Am3LcRDzl",
        "colab_type": "code",
        "colab": {
          "base_uri": "https://localhost:8080/",
          "height": 35
        },
        "outputId": "2387b98e-d8c3-482f-d2b1-eb0a142f03ff"
      },
      "cell_type": "code",
      "source": [
        "num_classes"
      ],
      "execution_count": 162,
      "outputs": [
        {
          "output_type": "execute_result",
          "data": {
            "text/plain": [
              "10"
            ]
          },
          "metadata": {
            "tags": []
          },
          "execution_count": 162
        }
      ]
    },
    {
      "metadata": {
        "id": "eLgX1PpWADG6",
        "colab_type": "text"
      },
      "cell_type": "markdown",
      "source": [
        "### Helper-function for plotting images"
      ]
    },
    {
      "metadata": {
        "id": "Qnm43pZUADG8",
        "colab_type": "text"
      },
      "cell_type": "markdown",
      "source": [
        "Function used to plot 9 images in a 3x3 grid, and writing the true and predicted classes below each image."
      ]
    },
    {
      "metadata": {
        "id": "FFZaTp8iADG9",
        "colab_type": "code",
        "colab": {}
      },
      "cell_type": "code",
      "source": [
        "def plot_images(images, cls_true, cls_pred=None):\n",
        "    assert len(images) == len(cls_true) == 9\n",
        "    \n",
        "    # Create figure with 3x3 sub-plots.\n",
        "    fig, axes = plt.subplots(3, 3)\n",
        "    fig.subplots_adjust(hspace=0.3, wspace=0.3)\n",
        "\n",
        "    for i, ax in enumerate(axes.flat):\n",
        "        # Plot image.\n",
        "        ax.imshow(images[i].reshape(img_shape), cmap='binary')\n",
        "\n",
        "        # Show true and predicted classes.\n",
        "        if cls_pred is None:\n",
        "            xlabel = \"True: {0}\".format(cls_true[i])\n",
        "        else:\n",
        "            xlabel = \"True: {0}, Pred: {1}\".format(cls_true[i], cls_pred[i])\n",
        "\n",
        "        # Show the classes as the label on the x-axis.\n",
        "        ax.set_xlabel(xlabel)\n",
        "        \n",
        "        # Remove ticks from the plot.\n",
        "        ax.set_xticks([])\n",
        "        ax.set_yticks([])\n",
        "    \n",
        "    # Ensure the plot is shown correctly with multiple plots\n",
        "    # in a single Notebook cell.\n",
        "    plt.show()"
      ],
      "execution_count": 0,
      "outputs": []
    },
    {
      "metadata": {
        "id": "z1WpXKwBADHC",
        "colab_type": "text"
      },
      "cell_type": "markdown",
      "source": [
        "### Plot a few images to see if data is correct"
      ]
    },
    {
      "metadata": {
        "id": "dN0vlFbGADHE",
        "colab_type": "code",
        "outputId": "0fd2491c-0130-4fec-ce13-a43de34bcd03",
        "colab": {
          "base_uri": "https://localhost:8080/",
          "height": 263
        }
      },
      "cell_type": "code",
      "source": [
        "# Get the first images from the test-set.\n",
        "images = data.x_test[0:9]\n",
        "\n",
        "# Get the true classes for those images.\n",
        "cls_true = data.y_test_cls[0:9]\n",
        "\n",
        "# Plot the images and labels using our helper-function above.\n",
        "plot_images(images=images, cls_true=cls_true)"
      ],
      "execution_count": 164,
      "outputs": [
        {
          "output_type": "display_data",
          "data": {
            "image/png": "[encoded data removed]",
            "text/plain": [
              "<matplotlib.figure.Figure at 0x7f38a881d898>"
            ]
          },
          "metadata": {
            "tags": []
          }
        }
      ]
    },
    {
      "metadata": {
        "id": "CBuHYX3uADHL",
        "colab_type": "text"
      },
      "cell_type": "markdown",
      "source": [
        "## TensorFlow Graph\n",
        "\n",
        "The entire purpose of TensorFlow is to have a so-called computational graph that can be executed much more efficiently than if the same calculations were to be performed directly in Python. TensorFlow can be more efficient than NumPy because TensorFlow knows the entire computation graph that must be executed, while NumPy only knows the computation of a single mathematical operation at a time.\n",
        "\n",
        "TensorFlow can also automatically calculate the gradients that are needed to optimize the variables of the graph so as to make the model perform better. This is because the graph is a combination of simple mathematical expressions so the gradient of the entire graph can be calculated using the chain-rule for derivatives.\n",
        "\n",
        "TensorFlow can also take advantage of multi-core CPUs as well as GPUs - and Google has even built special chips just for TensorFlow which are called TPUs (Tensor Processing Units) and are even faster than GPUs.\n",
        "\n",
        "A TensorFlow graph consists of the following parts which will be detailed below:\n",
        "\n",
        "* Placeholder variables used for inputting data to the graph.\n",
        "* Variables that are going to be optimized so as to make the convolutional network perform better.\n",
        "* The mathematical formulas for the convolutional network.\n",
        "* A cost measure that can be used to guide the optimization of the variables.\n",
        "* An optimization method which updates the variables.\n",
        "\n",
        "In addition, the TensorFlow graph may also contain various debugging statements e.g. for logging data to be displayed using TensorBoard, which is not covered in this tutorial."
      ]
    },
    {
      "metadata": {
        "id": "htoVT_CWADHP",
        "colab_type": "text"
      },
      "cell_type": "markdown",
      "source": [
        "### Helper-functions for creating new variables"
      ]
    },
    {
      "metadata": {
        "id": "FovZ6mr7ADHR",
        "colab_type": "text"
      },
      "cell_type": "markdown",
      "source": [
        "Functions for creating new TensorFlow variables in the given shape and initializing them with random values. Note that the initialization is not actually done at this point, it is merely being defined in the TensorFlow graph."
      ]
    },
    {
      "metadata": {
        "id": "DecqUho1ADHT",
        "colab_type": "code",
        "colab": {}
      },
      "cell_type": "code",
      "source": [
        "def new_weights(shape):\n",
        "    return tf.Variable(tf.truncated_normal(shape, stddev=0.05))"
      ],
      "execution_count": 0,
      "outputs": []
    },
    {
      "metadata": {
        "id": "xdz2GWazADHZ",
        "colab_type": "code",
        "colab": {}
      },
      "cell_type": "code",
      "source": [
        "def new_biases(length):\n",
        "    return tf.Variable(tf.constant(0.05, shape=[length]))"
      ],
      "execution_count": 0,
      "outputs": []
    },
    {
      "metadata": {
        "id": "M0zXRkjJADHk",
        "colab_type": "text"
      },
      "cell_type": "markdown",
      "source": [
        "### Helper-function for creating a new Convolutional Layer"
      ]
    },
    {
      "metadata": {
        "id": "FFw5TmBVADHo",
        "colab_type": "text"
      },
      "cell_type": "markdown",
      "source": [
        "This function creates a new convolutional layer in the computational graph for TensorFlow. Nothing is actually calculated here, we are just adding the mathematical formulas to the TensorFlow graph.\n",
        "\n",
        "It is assumed that the input is a 4-dim tensor with the following dimensions:\n",
        "\n",
        "1. Image number.\n",
        "2. Y-axis of each image.\n",
        "3. X-axis of each image.\n",
        "4. Channels of each image.\n",
        "\n",
        "Note that the input channels may either be colour-channels, or it may be filter-channels if the input is produced from a previous convolutional layer.\n",
        "\n",
        "The output is another 4-dim tensor with the following dimensions:\n",
        "\n",
        "1. Image number, same as input.\n",
        "2. Y-axis of each image. If 2x2 pooling is used, then the height and width of the input images is divided by 2.\n",
        "3. X-axis of each image. Ditto.\n",
        "4. Channels produced by the convolutional filters."
      ]
    },
    {
      "metadata": {
        "id": "eqfp2gBzADHt",
        "colab_type": "code",
        "colab": {}
      },
      "cell_type": "code",
      "source": [
        "def new_conv_layer(input,              # The previous layer.\n",
        "                   num_input_channels, # Num. channels in prev. layer.\n",
        "                   filter_size,        # Width and height of each filter.\n",
        "                   num_filters,        # Number of filters.\n",
        "                   use_pooling=True):  # Use 2x2 max-pooling.\n",
        "\n",
        "    # Shape of the filter-weights for the convolution.\n",
        "    # This format is determined by the TensorFlow API.\n",
        "    shape = [filter_size, filter_size, num_input_channels, num_filters]\n",
        "\n",
        "    # Create new weights aka. filters with the given shape.\n",
        "    weights = new_weights(shape=shape)\n",
        "\n",
        "    # Create new biases, one for each filter.\n",
        "    biases = new_biases(length=num_filters)\n",
        "\n",
        "    # Create the TensorFlow operation for convolution.\n",
        "    # Note the strides are set to 1 in all dimensions.\n",
        "    # The first and last stride must always be 1,\n",
        "    # because the first is for the image-number and\n",
        "    # the last is for the input-channel.\n",
        "    # But e.g. strides=[1, 2, 2, 1] would mean that the filter\n",
        "    # is moved 2 pixels across the x- and y-axis of the image.\n",
        "    # The padding is set to 'SAME' which means the input image\n",
        "    # is padded with zeroes so the size of the output is the same.\n",
        "    layer = tf.nn.conv2d(input=input,\n",
        "                         filter=weights,\n",
        "                         strides=[1, 1, 1, 1],\n",
        "                         padding='SAME')\n",
        "\n",
        "    # Add the biases to the results of the convolution.\n",
        "    # A bias-value is added to each filter-channel.\n",
        "    layer += biases\n",
        "\n",
        "    # Use pooling to down-sample the image resolution?\n",
        "    if use_pooling:\n",
        "        # This is 2x2 max-pooling, which means that we\n",
        "        # consider 2x2 windows and select the largest value\n",
        "        # in each window. Then we move 2 pixels to the next window.\n",
        "        layer = tf.nn.max_pool(value=layer,\n",
        "                               ksize=[1, 2, 2, 1],\n",
        "                               strides=[1, 2, 2, 1],\n",
        "                               padding='SAME')\n",
        "\n",
        "    # Rectified Linear Unit (ReLU).\n",
        "    # It calculates max(x, 0) for each input pixel x.\n",
        "    # This adds some non-linearity to the formula and allows us\n",
        "    # to learn more complicated functions.\n",
        "    layer = tf.nn.relu(layer)\n",
        "\n",
        "    # Note that ReLU is normally executed before the pooling,\n",
        "    # but since relu(max_pool(x)) == max_pool(relu(x)) we can\n",
        "    # save 75% of the relu-operations by max-pooling first.\n",
        "\n",
        "    # We return both the resulting layer and the filter-weights\n",
        "    # because we will plot the weights later.\n",
        "    return layer, weights"
      ],
      "execution_count": 0,
      "outputs": []
    },
    {
      "metadata": {
        "id": "YV3zd-_cADH1",
        "colab_type": "text"
      },
      "cell_type": "markdown",
      "source": [
        "### Helper-function for flattening a layer\n",
        "\n",
        "A convolutional layer produces an output tensor with 4 dimensions. We will add fully-connected layers after the convolution layers, so we need to reduce the 4-dim tensor to 2-dim which can be used as input to the fully-connected layer."
      ]
    },
    {
      "metadata": {
        "id": "ZVl_Rcn9ADH3",
        "colab_type": "code",
        "colab": {}
      },
      "cell_type": "code",
      "source": [
        "def flatten_layer(layer):\n",
        "    # Get the shape of the input layer.\n",
        "    layer_shape = layer.get_shape()\n",
        "\n",
        "    # The shape of the input layer is assumed to be:\n",
        "    # layer_shape == [num_images, img_height, img_width, num_channels]\n",
        "\n",
        "    # The number of features is: img_height * img_width * num_channels\n",
        "    # We can use a function from TensorFlow to calculate this.\n",
        "    num_features = layer_shape[1:4].num_elements()\n",
        "    \n",
        "    # Reshape the layer to [num_images, num_features].\n",
        "    # Note that we just set the size of the second dimension\n",
        "    # to num_features and the size of the first dimension to -1\n",
        "    # which means the size in that dimension is calculated\n",
        "    # so the total size of the tensor is unchanged from the reshaping.\n",
        "    layer_flat = tf.reshape(layer, [-1, num_features])\n",
        "\n",
        "    # The shape of the flattened layer is now:\n",
        "    # [num_images, img_height * img_width * num_channels]\n",
        "\n",
        "    # Return both the flattened layer and the number of features.\n",
        "    return layer_flat, num_features"
      ],
      "execution_count": 0,
      "outputs": []
    },
    {
      "metadata": {
        "id": "nVOxarmRADH7",
        "colab_type": "text"
      },
      "cell_type": "markdown",
      "source": [
        "### Helper-function for creating a new Fully-Connected Layer"
      ]
    },
    {
      "metadata": {
        "id": "Vf2w_Ew7ADH9",
        "colab_type": "text"
      },
      "cell_type": "markdown",
      "source": [
        "This function creates a new fully-connected layer in the computational graph for TensorFlow. Nothing is actually calculated here, we are just adding the mathematical formulas to the TensorFlow graph.\n",
        "\n",
        "It is assumed that the input is a 2-dim tensor of shape `[num_images, num_inputs]`. The output is a 2-dim tensor of shape `[num_images, num_outputs]`."
      ]
    },
    {
      "metadata": {
        "id": "LQUuAO9OADH_",
        "colab_type": "code",
        "colab": {}
      },
      "cell_type": "code",
      "source": [
        "def new_fc_layer(input,          # The previous layer.\n",
        "                 num_inputs,     # Num. inputs from prev. layer.\n",
        "                 num_outputs,    # Num. outputs.\n",
        "                 use_relu=True): # Use Rectified Linear Unit (ReLU)?\n",
        "\n",
        "    # Create new weights and biases.\n",
        "    weights = new_weights(shape=[num_inputs, num_outputs])\n",
        "    biases = new_biases(length=num_outputs)\n",
        "\n",
        "    # Calculate the layer as the matrix multiplication of\n",
        "    # the input and weights, and then add the bias-values.\n",
        "    layer = tf.matmul(input, weights) + biases\n",
        "\n",
        "    # Use ReLU?\n",
        "    if use_relu:\n",
        "        layer = tf.nn.relu(layer)\n",
        "\n",
        "    return layer"
      ],
      "execution_count": 0,
      "outputs": []
    },
    {
      "metadata": {
        "id": "xB7gbtaFADID",
        "colab_type": "text"
      },
      "cell_type": "markdown",
      "source": [
        "### Placeholder variables"
      ]
    },
    {
      "metadata": {
        "id": "2lXMFFuqADIF",
        "colab_type": "text"
      },
      "cell_type": "markdown",
      "source": [
        "Placeholder variables serve as the input to the TensorFlow computational graph that we may change each time we execute the graph. We call this feeding the placeholder variables and it is demonstrated further below.\n",
        "\n",
        "First we define the placeholder variable for the input images. This allows us to change the images that are input to the TensorFlow graph. This is a so-called tensor, which just means that it is a multi-dimensional vector or matrix. The data-type is set to `float32` and the shape is set to `[None, img_size_flat]`, where `None` means that the tensor may hold an arbitrary number of images with each image being a vector of length `img_size_flat`."
      ]
    },
    {
      "metadata": {
        "id": "YKiQDHPaADII",
        "colab_type": "code",
        "colab": {}
      },
      "cell_type": "code",
      "source": [
        "x = tf.placeholder(tf.float32, shape=[None, img_size_flat], name='x')"
      ],
      "execution_count": 0,
      "outputs": []
    },
    {
      "metadata": {
        "id": "B6_dfv7pADIM",
        "colab_type": "text"
      },
      "cell_type": "markdown",
      "source": [
        "The convolutional layers expect `x` to be encoded as a 4-dim tensor so we have to reshape it so its shape is instead `[num_images, img_height, img_width, num_channels]`. Note that `img_height == img_width == img_size` and `num_images` can be inferred automatically by using -1 for the size of the first dimension. So the reshape operation is:"
      ]
    },
    {
      "metadata": {
        "id": "wxyZH6DbADIN",
        "colab_type": "code",
        "colab": {}
      },
      "cell_type": "code",
      "source": [
        "x_image = tf.reshape(x, [-1, img_size, img_size, num_channels])"
      ],
      "execution_count": 0,
      "outputs": []
    },
    {
      "metadata": {
        "id": "iddauJmPddWO",
        "colab_type": "code",
        "colab": {
          "base_uri": "https://localhost:8080/",
          "height": 35
        },
        "outputId": "f104e1b2-1adc-4042-b510-177bb73b4d5a"
      },
      "cell_type": "code",
      "source": [
        "img_size"
      ],
      "execution_count": 172,
      "outputs": [
        {
          "output_type": "execute_result",
          "data": {
            "text/plain": [
              "28"
            ]
          },
          "metadata": {
            "tags": []
          },
          "execution_count": 172
        }
      ]
    },
    {
      "metadata": {
        "id": "ws4pmMHAADIS",
        "colab_type": "text"
      },
      "cell_type": "markdown",
      "source": [
        "Next we have the placeholder variable for the true labels associated with the images that were input in the placeholder variable `x`. The shape of this placeholder variable is `[None, num_classes]` which means it may hold an arbitrary number of labels and each label is a vector of length `num_classes` which is 10 in this case."
      ]
    },
    {
      "metadata": {
        "id": "I_JTM8PMADIT",
        "colab_type": "code",
        "colab": {}
      },
      "cell_type": "code",
      "source": [
        "y_true = tf.placeholder(tf.float32, shape=[None, num_classes], name='y_true')"
      ],
      "execution_count": 0,
      "outputs": []
    },
    {
      "metadata": {
        "id": "kQo1yvjOADIZ",
        "colab_type": "text"
      },
      "cell_type": "markdown",
      "source": [
        "We could also have a placeholder variable for the class-number, but we will instead calculate it using argmax. Note that this is a TensorFlow operator so nothing is calculated at this point."
      ]
    },
    {
      "metadata": {
        "id": "jDFqK_EmADIc",
        "colab_type": "code",
        "colab": {}
      },
      "cell_type": "code",
      "source": [
        "y_true_cls = tf.argmax(y_true, axis=1)"
      ],
      "execution_count": 0,
      "outputs": []
    },
    {
      "metadata": {
        "id": "fOZUwEPGADIh",
        "colab_type": "text"
      },
      "cell_type": "markdown",
      "source": [
        "### Convolutional Layer 1\n",
        "\n",
        "Create the first convolutional layer. It takes `x_image` as input and creates `num_filters1` different filters, each having width and height equal to `filter_size1`. Finally we wish to down-sample the image so it is half the size by using 2x2 max-pooling."
      ]
    },
    {
      "metadata": {
        "id": "jeR7g-vSADIi",
        "colab_type": "code",
        "colab": {}
      },
      "cell_type": "code",
      "source": [
        "layer_conv1, weights_conv1 = \\\n",
        "    new_conv_layer(input=x_image,\n",
        "                   num_input_channels=num_channels,\n",
        "                   filter_size=filter_size1,\n",
        "                   num_filters=num_filters1,\n",
        "                   use_pooling=True)"
      ],
      "execution_count": 0,
      "outputs": []
    },
    {
      "metadata": {
        "id": "4cXKO2f4ADIn",
        "colab_type": "text"
      },
      "cell_type": "markdown",
      "source": [
        "Check the shape of the tensor that will be output by the convolutional layer. It is (?, 14, 14, 16) which means that there is an arbitrary number of images (this is the ?), each image is 14 pixels wide and 14 pixels high, and there are 16 different channels, one channel for each of the filters."
      ]
    },
    {
      "metadata": {
        "id": "Qg9Ryb_pADIq",
        "colab_type": "code",
        "outputId": "e5e8f91f-7b67-40d6-c28a-22edcb1ce677",
        "colab": {
          "base_uri": "https://localhost:8080/",
          "height": 35
        }
      },
      "cell_type": "code",
      "source": [
        "layer_conv1"
      ],
      "execution_count": 176,
      "outputs": [
        {
          "output_type": "execute_result",
          "data": {
            "text/plain": [
              "<tf.Tensor 'Relu_7:0' shape=(?, 14, 14, 16) dtype=float32>"
            ]
          },
          "metadata": {
            "tags": []
          },
          "execution_count": 176
        }
      ]
    },
    {
      "metadata": {
        "id": "fnLWMwF5ADIz",
        "colab_type": "text"
      },
      "cell_type": "markdown",
      "source": [
        "### Convolutional Layer 2\n",
        "\n",
        "Create the second convolutional layer, which takes as input the output from the first convolutional layer. The number of input channels corresponds to the number of filters in the first convolutional layer."
      ]
    },
    {
      "metadata": {
        "id": "0SvzluDLADI1",
        "colab_type": "code",
        "colab": {}
      },
      "cell_type": "code",
      "source": [
        "layer_conv2, weights_conv2 = \\\n",
        "    new_conv_layer(input=layer_conv1,\n",
        "                   num_input_channels=num_filters1,\n",
        "                   filter_size=filter_size2,\n",
        "                   num_filters=num_filters2,\n",
        "                   use_pooling=True)"
      ],
      "execution_count": 0,
      "outputs": []
    },
    {
      "metadata": {
        "id": "viBrHVlRADI4",
        "colab_type": "text"
      },
      "cell_type": "markdown",
      "source": [
        "Check the shape of the tensor that will be output from this convolutional layer. The shape is (?, 7, 7, 36) where the ? again means that there is an arbitrary number of images, with each image having width and height of 7 pixels, and there are 36 channels, one for each filter."
      ]
    },
    {
      "metadata": {
        "id": "YMzbtaH-ADI5",
        "colab_type": "code",
        "outputId": "c3c5d53a-4169-4926-b948-9fb27e5ad6fd",
        "colab": {
          "base_uri": "https://localhost:8080/",
          "height": 35
        }
      },
      "cell_type": "code",
      "source": [
        "layer_conv2"
      ],
      "execution_count": 178,
      "outputs": [
        {
          "output_type": "execute_result",
          "data": {
            "text/plain": [
              "<tf.Tensor 'Relu_8:0' shape=(?, 7, 7, 36) dtype=float32>"
            ]
          },
          "metadata": {
            "tags": []
          },
          "execution_count": 178
        }
      ]
    },
    {
      "metadata": {
        "id": "vVqxzjVfADI_",
        "colab_type": "text"
      },
      "cell_type": "markdown",
      "source": [
        "### Flatten Layer\n",
        "\n",
        "The convolutional layers output 4-dim tensors. We now wish to use these as input in a fully-connected network, which requires for the tensors to be reshaped or flattened to 2-dim tensors."
      ]
    },
    {
      "metadata": {
        "id": "o8ffHxNZADJB",
        "colab_type": "code",
        "colab": {}
      },
      "cell_type": "code",
      "source": [
        "layer_flat, num_features = flatten_layer(layer_conv2)"
      ],
      "execution_count": 0,
      "outputs": []
    },
    {
      "metadata": {
        "id": "uaGnQ4ZIADJF",
        "colab_type": "text"
      },
      "cell_type": "markdown",
      "source": [
        "Check that the tensors now have shape (?, 1764) which means there's an arbitrary number of images which have been flattened to vectors of length 1764 each. Note that 1764 = 7 x 7 x 36."
      ]
    },
    {
      "metadata": {
        "id": "dnClybWiADJG",
        "colab_type": "code",
        "outputId": "535d7167-33ef-4839-9bb0-8f282a55cfd2",
        "colab": {
          "base_uri": "https://localhost:8080/",
          "height": 35
        }
      },
      "cell_type": "code",
      "source": [
        "layer_flat"
      ],
      "execution_count": 180,
      "outputs": [
        {
          "output_type": "execute_result",
          "data": {
            "text/plain": [
              "<tf.Tensor 'Reshape_5:0' shape=(?, 1764) dtype=float32>"
            ]
          },
          "metadata": {
            "tags": []
          },
          "execution_count": 180
        }
      ]
    },
    {
      "metadata": {
        "id": "GzW3XasiADJL",
        "colab_type": "code",
        "outputId": "6f50042d-e222-4130-ed59-21acf5fe8e87",
        "colab": {
          "base_uri": "https://localhost:8080/",
          "height": 35
        }
      },
      "cell_type": "code",
      "source": [
        "num_features"
      ],
      "execution_count": 181,
      "outputs": [
        {
          "output_type": "execute_result",
          "data": {
            "text/plain": [
              "1764"
            ]
          },
          "metadata": {
            "tags": []
          },
          "execution_count": 181
        }
      ]
    },
    {
      "metadata": {
        "id": "-CvqUuPbADJR",
        "colab_type": "text"
      },
      "cell_type": "markdown",
      "source": [
        "### Fully-Connected Layer 1\n",
        "\n",
        "Add a fully-connected layer to the network. The input is the flattened layer from the previous convolution. The number of neurons or nodes in the fully-connected layer is `fc_size`. ReLU is used so we can learn non-linear relations."
      ]
    },
    {
      "metadata": {
        "id": "dr1-EAdUADJT",
        "colab_type": "code",
        "colab": {}
      },
      "cell_type": "code",
      "source": [
        "layer_fc1 = new_fc_layer(input=layer_flat,\n",
        "                         num_inputs=num_features,\n",
        "                         num_outputs=fc_size,\n",
        "                         use_relu=True)"
      ],
      "execution_count": 0,
      "outputs": []
    },
    {
      "metadata": {
        "id": "gZ53wtB-ADJf",
        "colab_type": "text"
      },
      "cell_type": "markdown",
      "source": [
        "Check that the output of the fully-connected layer is a tensor with shape (?, 128) where the ? means there is an arbitrary number of images and `fc_size` == 128."
      ]
    },
    {
      "metadata": {
        "id": "dK6x2Ap5ADJh",
        "colab_type": "code",
        "outputId": "4b866901-62cd-4b4f-b6ff-ce881245561c",
        "colab": {
          "base_uri": "https://localhost:8080/",
          "height": 35
        }
      },
      "cell_type": "code",
      "source": [
        "layer_fc1"
      ],
      "execution_count": 183,
      "outputs": [
        {
          "output_type": "execute_result",
          "data": {
            "text/plain": [
              "<tf.Tensor 'Relu_9:0' shape=(?, 128) dtype=float32>"
            ]
          },
          "metadata": {
            "tags": []
          },
          "execution_count": 183
        }
      ]
    },
    {
      "metadata": {
        "id": "AC7RrxlrADJm",
        "colab_type": "text"
      },
      "cell_type": "markdown",
      "source": [
        "### Fully-Connected Layer 2\n",
        "\n",
        "Add another fully-connected layer that outputs vectors of length 10 for determining which of the 10 classes the input image belongs to. Note that ReLU is not used in this layer."
      ]
    },
    {
      "metadata": {
        "id": "JBp4OBTKADJp",
        "colab_type": "code",
        "colab": {}
      },
      "cell_type": "code",
      "source": [
        "layer_fc2 = new_fc_layer(input=layer_fc1,\n",
        "                         num_inputs=fc_size,\n",
        "                         num_outputs=num_classes,\n",
        "                         use_relu=False) "
      ],
      "execution_count": 0,
      "outputs": []
    },
    {
      "metadata": {
        "id": "cWIGMNJlADJt",
        "colab_type": "code",
        "outputId": "ab986263-ff89-482a-ae59-2d2e37e3b180",
        "colab": {
          "base_uri": "https://localhost:8080/",
          "height": 35
        }
      },
      "cell_type": "code",
      "source": [
        "layer_fc2"
      ],
      "execution_count": 185,
      "outputs": [
        {
          "output_type": "execute_result",
          "data": {
            "text/plain": [
              "<tf.Tensor 'add_11:0' shape=(?, 10) dtype=float32>"
            ]
          },
          "metadata": {
            "tags": []
          },
          "execution_count": 185
        }
      ]
    },
    {
      "metadata": {
        "id": "mGo2LjAvADJ1",
        "colab_type": "text"
      },
      "cell_type": "markdown",
      "source": [
        "### Predicted Class"
      ]
    },
    {
      "metadata": {
        "id": "RM26ZtTUADJ2",
        "colab_type": "text"
      },
      "cell_type": "markdown",
      "source": [
        "The second fully-connected layer estimates how likely it is that the input image belongs to each of the 10 classes. However, these estimates are a bit rough and difficult to interpret because the numbers may be very small or large, so we want to normalize them so that each element is limited between zero and one and the 10 elements sum to one. This is calculated using the so-called softmax function and the result is stored in `y_pred`."
      ]
    },
    {
      "metadata": {
        "id": "M4CTpSZ7ADJ3",
        "colab_type": "code",
        "colab": {}
      },
      "cell_type": "code",
      "source": [
        "y_pred = tf.nn.softmax(layer_fc2)"
      ],
      "execution_count": 0,
      "outputs": []
    },
    {
      "metadata": {
        "id": "dl6vXuB_ADJ7",
        "colab_type": "text"
      },
      "cell_type": "markdown",
      "source": [
        "The class-number is the index of the largest element."
      ]
    },
    {
      "metadata": {
        "id": "sQQ3b0Y3ADJ7",
        "colab_type": "code",
        "colab": {}
      },
      "cell_type": "code",
      "source": [
        "y_pred_cls = tf.argmax(y_pred, axis=1)"
      ],
      "execution_count": 0,
      "outputs": []
    },
    {
      "metadata": {
        "id": "jFCNIR7AADJ_",
        "colab_type": "text"
      },
      "cell_type": "markdown",
      "source": [
        "### Cost-function to be optimized"
      ]
    },
    {
      "metadata": {
        "id": "X3Qc16mSADKB",
        "colab_type": "text"
      },
      "cell_type": "markdown",
      "source": [
        "To make the model better at classifying the input images, we must somehow change the variables for all the network layers. To do this we first need to know how well the model currently performs by comparing the predicted output of the model `y_pred` to the desired output `y_true`.\n",
        "\n",
        "The cross-entropy is a performance measure used in classification. The cross-entropy is a continuous function that is always positive and if the predicted output of the model exactly matches the desired output then the cross-entropy equals zero. The goal of optimization is therefore to minimize the cross-entropy so it gets as close to zero as possible by changing the variables of the network layers.\n",
        "\n",
        "TensorFlow has a built-in function for calculating the cross-entropy. Note that the function calculates the softmax internally so we must use the output of `layer_fc2` directly rather than `y_pred` which has already had the softmax applied."
      ]
    },
    {
      "metadata": {
        "id": "0acAnobeADKC",
        "colab_type": "code",
        "colab": {}
      },
      "cell_type": "code",
      "source": [
        "cross_entropy = tf.nn.softmax_cross_entropy_with_logits(logits=layer_fc2,\n",
        "                                                        labels=y_true)"
      ],
      "execution_count": 0,
      "outputs": []
    },
    {
      "metadata": {
        "id": "h5ijv1qcADKK",
        "colab_type": "text"
      },
      "cell_type": "markdown",
      "source": [
        "We have now calculated the cross-entropy for each of the image classifications so we have a measure of how well the model performs on each image individually. But in order to use the cross-entropy to guide the optimization of the model's variables we need a single scalar value, so we simply take the average of the cross-entropy for all the image classifications."
      ]
    },
    {
      "metadata": {
        "id": "jdWB0vT2ADKN",
        "colab_type": "code",
        "colab": {}
      },
      "cell_type": "code",
      "source": [
        "cost = tf.reduce_mean(cross_entropy)"
      ],
      "execution_count": 0,
      "outputs": []
    },
    {
      "metadata": {
        "id": "CRoFdUuiADKR",
        "colab_type": "text"
      },
      "cell_type": "markdown",
      "source": [
        "### Optimization Method"
      ]
    },
    {
      "metadata": {
        "id": "E813qe1rADKS",
        "colab_type": "text"
      },
      "cell_type": "markdown",
      "source": [
        "Now that we have a cost measure that must be minimized, we can then create an optimizer. In this case it is the `AdamOptimizer` which is an advanced form of Gradient Descent.\n",
        "\n",
        "Note that optimization is not performed at this point. In fact, nothing is calculated at all, we just add the optimizer-object to the TensorFlow graph for later execution."
      ]
    },
    {
      "metadata": {
        "id": "jSOp1rfqADKT",
        "colab_type": "code",
        "colab": {}
      },
      "cell_type": "code",
      "source": [
        "optimizer = tf.train.AdamOptimizer(learning_rate=1e-4).minimize(cost)"
      ],
      "execution_count": 0,
      "outputs": []
    },
    {
      "metadata": {
        "id": "dA0E-tVDADKZ",
        "colab_type": "text"
      },
      "cell_type": "markdown",
      "source": [
        "### Performance Measures"
      ]
    },
    {
      "metadata": {
        "id": "sGOvv_TPADKa",
        "colab_type": "text"
      },
      "cell_type": "markdown",
      "source": [
        "We need a few more performance measures to display the progress to the user.\n",
        "\n",
        "This is a vector of booleans whether the predicted class equals the true class of each image."
      ]
    },
    {
      "metadata": {
        "id": "o7gADNT5ADKb",
        "colab_type": "code",
        "colab": {}
      },
      "cell_type": "code",
      "source": [
        "correct_prediction = tf.equal(y_pred_cls, y_true_cls)"
      ],
      "execution_count": 0,
      "outputs": []
    },
    {
      "metadata": {
        "id": "B4GMzEn0ADKj",
        "colab_type": "text"
      },
      "cell_type": "markdown",
      "source": [
        "This calculates the classification accuracy by first type-casting the vector of booleans to floats, so that False becomes 0 and True becomes 1, and then calculating the average of these numbers."
      ]
    },
    {
      "metadata": {
        "id": "9YWlk9J9ADKk",
        "colab_type": "code",
        "colab": {}
      },
      "cell_type": "code",
      "source": [
        "accuracy = tf.reduce_mean(tf.cast(correct_prediction, tf.float32))"
      ],
      "execution_count": 0,
      "outputs": []
    },
    {
      "metadata": {
        "id": "kfrtcoXVADKq",
        "colab_type": "text"
      },
      "cell_type": "markdown",
      "source": [
        "## TensorFlow Run"
      ]
    },
    {
      "metadata": {
        "id": "Vl5pG4kJADKr",
        "colab_type": "text"
      },
      "cell_type": "markdown",
      "source": [
        "### Create TensorFlow session\n",
        "\n",
        "Once the TensorFlow graph has been created, we have to create a TensorFlow session which is used to execute the graph."
      ]
    },
    {
      "metadata": {
        "id": "Il0jiSsiADKv",
        "colab_type": "code",
        "colab": {}
      },
      "cell_type": "code",
      "source": [
        "session = tf.Session()"
      ],
      "execution_count": 0,
      "outputs": []
    },
    {
      "metadata": {
        "id": "D5bciQicADK0",
        "colab_type": "text"
      },
      "cell_type": "markdown",
      "source": [
        "### Initialize variables\n",
        "\n",
        "The variables for `weights` and `biases` must be initialized before we start optimizing them."
      ]
    },
    {
      "metadata": {
        "id": "m8OFE6-PADK3",
        "colab_type": "code",
        "colab": {}
      },
      "cell_type": "code",
      "source": [
        "session.run(tf.global_variables_initializer())"
      ],
      "execution_count": 0,
      "outputs": []
    },
    {
      "metadata": {
        "id": "rA3rErNWADLA",
        "colab_type": "text"
      },
      "cell_type": "markdown",
      "source": [
        "### Helper-function to perform optimization iterations"
      ]
    },
    {
      "metadata": {
        "id": "Aba0X19bADLB",
        "colab_type": "text"
      },
      "cell_type": "markdown",
      "source": [
        "There are 55,000 images in the training-set. It takes a long time to calculate the gradient of the model using all these images. We therefore only use a small batch of images in each iteration of the optimizer.\n",
        "\n",
        "If your computer crashes or becomes very slow because you run out of RAM, then you may try and lower this number, but you may then need to perform more optimization iterations."
      ]
    },
    {
      "metadata": {
        "id": "F2wPGYg5ADLF",
        "colab_type": "code",
        "colab": {}
      },
      "cell_type": "code",
      "source": [
        "train_batch_size = 64"
      ],
      "execution_count": 0,
      "outputs": []
    },
    {
      "metadata": {
        "id": "G5K-Qe5SADLL",
        "colab_type": "text"
      },
      "cell_type": "markdown",
      "source": [
        "Function for performing a number of optimization iterations so as to gradually improve the variables of the network layers. In each iteration, a new batch of data is selected from the training-set and then TensorFlow executes the optimizer using those training samples.  The progress is printed every 100 iterations."
      ]
    },
    {
      "metadata": {
        "id": "a2yGZGioADLM",
        "colab_type": "code",
        "colab": {}
      },
      "cell_type": "code",
      "source": [
        "# Counter for total number of iterations performed so far.\n",
        "total_iterations = 0\n",
        "\n",
        "def optimize(num_iterations):\n",
        "    # Ensure we update the global variable rather than a local copy.\n",
        "    global total_iterations\n",
        "\n",
        "    # Start-time used for printing time-usage below.\n",
        "    start_time = time.time()\n",
        "\n",
        "    for i in range(total_iterations,\n",
        "                   total_iterations + num_iterations):\n",
        "\n",
        "        # Get a batch of training examples.\n",
        "        # x_batch now holds a batch of images and\n",
        "        # y_true_batch are the true labels for those images.\n",
        "        x_batch, y_true_batch, _ = data.random_batch(batch_size=train_batch_size)\n",
        "\n",
        "        # Put the batch into a dict with the proper names\n",
        "        # for placeholder variables in the TensorFlow graph.\n",
        "        feed_dict_train = {x: x_batch,\n",
        "                           y_true: y_true_batch}\n",
        "\n",
        "        # Run the optimizer using this batch of training data.\n",
        "        # TensorFlow assigns the variables in feed_dict_train\n",
        "        # to the placeholder variables and then runs the optimizer.\n",
        "        session.run(optimizer, feed_dict=feed_dict_train)\n",
        "\n",
        "        # Print status every 100 iterations.\n",
        "        if i % 100 == 0:\n",
        "            # Calculate the accuracy on the training-set.\n",
        "            acc = session.run(accuracy, feed_dict=feed_dict_train)\n",
        "\n",
        "            # Message for printing.\n",
        "            msg = \"Optimization Iteration: {0:>6}, Training Accuracy: {1:>6.1%}\"\n",
        "\n",
        "            # Print it.\n",
        "            print(msg.format(i + 1, acc))\n",
        "\n",
        "    # Update the total number of iterations performed.\n",
        "    total_iterations += num_iterations\n",
        "\n",
        "    # Ending time.\n",
        "    end_time = time.time()\n",
        "\n",
        "    # Difference between start and end-times.\n",
        "    time_dif = end_time - start_time\n",
        "\n",
        "    # Print the time-usage.\n",
        "    print(\"Time usage: \" + str(timedelta(seconds=int(round(time_dif)))))"
      ],
      "execution_count": 0,
      "outputs": []
    },
    {
      "metadata": {
        "id": "qkk8rq1FADLT",
        "colab_type": "text"
      },
      "cell_type": "markdown",
      "source": [
        "### Helper-function to plot example errors"
      ]
    },
    {
      "metadata": {
        "id": "MT5WQUjmADLV",
        "colab_type": "text"
      },
      "cell_type": "markdown",
      "source": [
        "Function for plotting examples of images from the test-set that have been mis-classified."
      ]
    },
    {
      "metadata": {
        "id": "nDfnE7_EADLW",
        "colab_type": "code",
        "colab": {}
      },
      "cell_type": "code",
      "source": [
        "def plot_example_errors(cls_pred, correct):\n",
        "    # This function is called from print_test_accuracy() below.\n",
        "\n",
        "    # cls_pred is an array of the predicted class-number for\n",
        "    # all images in the test-set.\n",
        "\n",
        "    # correct is a boolean array whether the predicted class\n",
        "    # is equal to the true class for each image in the test-set.\n",
        "\n",
        "    # Negate the boolean array.\n",
        "    incorrect = (correct == False)\n",
        "    \n",
        "    # Get the images from the test-set that have been\n",
        "    # incorrectly classified.\n",
        "    images = data.x_test[incorrect]\n",
        "    \n",
        "    # Get the predicted classes for those images.\n",
        "    cls_pred = cls_pred[incorrect]\n",
        "\n",
        "    # Get the true classes for those images.\n",
        "    cls_true = data.y_test_cls[incorrect]\n",
        "    \n",
        "    # Plot the first 9 images.\n",
        "    plot_images(images=images[0:9],\n",
        "                cls_true=cls_true[0:9],\n",
        "                cls_pred=cls_pred[0:9])"
      ],
      "execution_count": 0,
      "outputs": []
    },
    {
      "metadata": {
        "id": "0urZDg-fADLb",
        "colab_type": "text"
      },
      "cell_type": "markdown",
      "source": [
        "### Helper-function to plot confusion matrix"
      ]
    },
    {
      "metadata": {
        "id": "DXAlLY05ADLc",
        "colab_type": "code",
        "colab": {}
      },
      "cell_type": "code",
      "source": [
        "def plot_confusion_matrix(cls_pred):\n",
        "    # This is called from print_test_accuracy() below.\n",
        "\n",
        "    # cls_pred is an array of the predicted class-number for\n",
        "    # all images in the test-set.\n",
        "\n",
        "    # Get the true classifications for the test-set.\n",
        "    cls_true = data.y_test_cls\n",
        "    \n",
        "    # Get the confusion matrix using sklearn.\n",
        "    cm = confusion_matrix(y_true=cls_true,\n",
        "                          y_pred=cls_pred)\n",
        "\n",
        "    # Print the confusion matrix as text.\n",
        "    print(cm)\n",
        "\n",
        "    # Plot the confusion matrix as an image.\n",
        "    plt.matshow(cm)\n",
        "\n",
        "    # Make various adjustments to the plot.\n",
        "    plt.colorbar()\n",
        "    tick_marks = np.arange(num_classes)\n",
        "    plt.xticks(tick_marks, range(num_classes))\n",
        "    plt.yticks(tick_marks, range(num_classes))\n",
        "    plt.xlabel('Predicted')\n",
        "    plt.ylabel('True')\n",
        "\n",
        "    # Ensure the plot is shown correctly with multiple plots\n",
        "    # in a single Notebook cell.\n",
        "    plt.show()"
      ],
      "execution_count": 0,
      "outputs": []
    },
    {
      "metadata": {
        "id": "cRLHaDNUADLf",
        "colab_type": "text"
      },
      "cell_type": "markdown",
      "source": [
        "### Helper-function for showing the performance"
      ]
    },
    {
      "metadata": {
        "id": "IlHa3U4oADLj",
        "colab_type": "text"
      },
      "cell_type": "markdown",
      "source": [
        "Function for printing the classification accuracy on the test-set.\n",
        "\n",
        "It takes a while to compute the classification for all the images in the test-set, that's why the results are re-used by calling the above functions directly from this function, so the classifications don't have to be recalculated by each function.\n",
        "\n",
        "Note that this function can use a lot of computer memory, which is why the test-set is split into smaller batches. If you have little RAM in your computer and it crashes, then you can try and lower the batch-size."
      ]
    },
    {
      "metadata": {
        "id": "A0mHoj7TADLl",
        "colab_type": "code",
        "colab": {}
      },
      "cell_type": "code",
      "source": [
        "# Split the test-set into smaller batches of this size.\n",
        "test_batch_size = 256\n",
        "\n",
        "def print_test_accuracy(show_example_errors=False,\n",
        "                        show_confusion_matrix=False):\n",
        "\n",
        "    # Number of images in the test-set.\n",
        "    num_test = data.num_test\n",
        "\n",
        "    # Allocate an array for the predicted classes which\n",
        "    # will be calculated in batches and filled into this array.\n",
        "    cls_pred = np.zeros(shape=num_test, dtype=np.int)\n",
        "\n",
        "    # Now calculate the predicted classes for the batches.\n",
        "    # We will just iterate through all the batches.\n",
        "    # There might be a more clever and Pythonic way of doing this.\n",
        "\n",
        "    # The starting index for the next batch is denoted i.\n",
        "    i = 0\n",
        "\n",
        "    while i < num_test:\n",
        "        # The ending index for the next batch is denoted j.\n",
        "        j = min(i + test_batch_size, num_test)\n",
        "\n",
        "        # Get the images from the test-set between index i and j.\n",
        "        images = data.x_test[i:j, :]\n",
        "\n",
        "        # Get the associated labels.\n",
        "        labels = data.y_test[i:j, :]\n",
        "\n",
        "        # Create a feed-dict with these images and labels.\n",
        "        feed_dict = {x: images,\n",
        "                     y_true: labels}\n",
        "\n",
        "        # Calculate the predicted class using TensorFlow.\n",
        "        cls_pred[i:j] = session.run(y_pred_cls, feed_dict=feed_dict)\n",
        "\n",
        "        # Set the start-index for the next batch to the\n",
        "        # end-index of the current batch.\n",
        "        i = j\n",
        "\n",
        "    # Convenience variable for the true class-numbers of the test-set.\n",
        "    cls_true = data.y_test_cls\n",
        "\n",
        "    # Create a boolean array whether each image is correctly classified.\n",
        "    correct = (cls_true == cls_pred)\n",
        "\n",
        "    # Calculate the number of correctly classified images.\n",
        "    # When summing a boolean array, False means 0 and True means 1.\n",
        "    correct_sum = correct.sum()\n",
        "\n",
        "    # Classification accuracy is the number of correctly classified\n",
        "    # images divided by the total number of images in the test-set.\n",
        "    acc = float(correct_sum) / num_test\n",
        "\n",
        "    # Print the accuracy.\n",
        "    msg = \"Accuracy on Test-Set: {0:.1%} ({1} / {2})\"\n",
        "    print(msg.format(acc, correct_sum, num_test))\n",
        "\n",
        "    # Plot some examples of mis-classifications, if desired.\n",
        "    if show_example_errors:\n",
        "        print(\"Example errors:\")\n",
        "        plot_example_errors(cls_pred=cls_pred, correct=correct)\n",
        "\n",
        "    # Plot the confusion matrix, if desired.\n",
        "    if show_confusion_matrix:\n",
        "        print(\"Confusion Matrix:\")\n",
        "        plot_confusion_matrix(cls_pred=cls_pred)"
      ],
      "execution_count": 0,
      "outputs": []
    },
    {
      "metadata": {
        "id": "E9miDC1vADLo",
        "colab_type": "text"
      },
      "cell_type": "markdown",
      "source": [
        "## Performance before any optimization\n",
        "\n",
        "The accuracy on the test-set is very low because the model variables have only been initialized and not optimized at all, so it just classifies the images randomly."
      ]
    },
    {
      "metadata": {
        "id": "SJlu5P7CADLq",
        "colab_type": "code",
        "outputId": "5e892ded-9949-4e3f-ccba-673f14db4f07",
        "colab": {
          "base_uri": "https://localhost:8080/",
          "height": 35
        }
      },
      "cell_type": "code",
      "source": [
        "print_test_accuracy()"
      ],
      "execution_count": 200,
      "outputs": [
        {
          "output_type": "stream",
          "text": [
            "Accuracy on Test-Set: 9.0% (905 / 10000)\n"
          ],
          "name": "stdout"
        }
      ]
    },
    {
      "metadata": {
        "id": "0J8eTti_ADLw",
        "colab_type": "text"
      },
      "cell_type": "markdown",
      "source": [
        "## Performance after 1 optimization iteration\n",
        "\n",
        "The classification accuracy does not improve much from just 1 optimization iteration, because the learning-rate for the optimizer is set very low. \\\n",
        "\n",
        "No Relu"
      ]
    },
    {
      "metadata": {
        "id": "Z64EafD1ADLy",
        "colab_type": "code",
        "outputId": "76daf4f8-b6ac-4756-af56-e314f2bc60fd",
        "colab": {
          "base_uri": "https://localhost:8080/",
          "height": 54
        }
      },
      "cell_type": "code",
      "source": [
        "optimize(num_iterations=1)"
      ],
      "execution_count": 201,
      "outputs": [
        {
          "output_type": "stream",
          "text": [
            "Optimization Iteration:      1, Training Accuracy:  12.5%\n",
            "Time usage: 0:00:00\n"
          ],
          "name": "stdout"
        }
      ]
    },
    {
      "metadata": {
        "scrolled": true,
        "id": "p6CkGKxzADL4",
        "colab_type": "code",
        "outputId": "55919289-9c24-4cd3-d641-a09aa16bcd1b",
        "colab": {
          "base_uri": "https://localhost:8080/",
          "height": 35
        }
      },
      "cell_type": "code",
      "source": [
        "print_test_accuracy()"
      ],
      "execution_count": 202,
      "outputs": [
        {
          "output_type": "stream",
          "text": [
            "Accuracy on Test-Set: 9.7% (973 / 10000)\n"
          ],
          "name": "stdout"
        }
      ]
    },
    {
      "metadata": {
        "id": "g8AGQrRYADL9",
        "colab_type": "text"
      },
      "cell_type": "markdown",
      "source": [
        "## Performance after 100 optimization iterations\n",
        "\n",
        "After 100 optimization iterations, the model has significantly improved its classification accuracy.\n",
        "\n",
        "\n",
        "use_relu=True in FCL2 \\\n",
        "Accuracy on Test-Set: 52.6% (5261 / 10000)\n",
        "\n",
        "use_relu=False in FCL2 \\\n",
        "Accuracy on Test-Set: 64.8% (6482 / 10000)"
      ]
    },
    {
      "metadata": {
        "scrolled": true,
        "id": "psdmPTqBADL_",
        "colab_type": "code",
        "outputId": "8b384b48-81d0-4033-a009-fe1a48d5328c",
        "colab": {
          "base_uri": "https://localhost:8080/",
          "height": 35
        }
      },
      "cell_type": "code",
      "source": [
        "optimize(num_iterations=99) # We already performed 1 iteration above."
      ],
      "execution_count": 203,
      "outputs": [
        {
          "output_type": "stream",
          "text": [
            "Time usage: 0:00:08\n"
          ],
          "name": "stdout"
        }
      ]
    },
    {
      "metadata": {
        "id": "e8dcuQnPADMC",
        "colab_type": "code",
        "outputId": "dda8c0ae-571d-4c81-bde4-9c732cc90680",
        "colab": {
          "base_uri": "https://localhost:8080/",
          "height": 299
        }
      },
      "cell_type": "code",
      "source": [
        "print_test_accuracy(show_example_errors=True)"
      ],
      "execution_count": 204,
      "outputs": [
        {
          "output_type": "stream",
          "text": [
            "Accuracy on Test-Set: 64.8% (6482 / 10000)\n",
            "Example errors:\n"
          ],
          "name": "stdout"
        },
        {
          "output_type": "display_data",
          "data": {
            "image/png": "[encoded data removed]",
            "text/plain": [
              "<matplotlib.figure.Figure at 0x7f38a8a48dd8>"
            ]
          },
          "metadata": {
            "tags": []
          }
        }
      ]
    },
    {
      "metadata": {
        "id": "TZOMBhQKADMI",
        "colab_type": "text"
      },
      "cell_type": "markdown",
      "source": [
        "## Performance after 1000 optimization iterations\n",
        "\n",
        "After 1000 optimization iterations, the model has greatly increased its accuracy on the test-set to more than 90%.\n",
        "\n",
        "use_relu=True in FCL2  \\\n",
        "Optimization Iteration:    901, Training Accuracy:  60.9% \\\n",
        "Accuracy on Test-Set: 67.3% (6726 / 10000)\n",
        "\n",
        "use_relu=False in FCL2  \\\n",
        "Optimization Iteration:    901, Training Accuracy: 100.0% \\\n",
        "Accuracy on Test-Set: 93.4% (9339 / 10000)\n"
      ]
    },
    {
      "metadata": {
        "scrolled": false,
        "id": "2ypmzSJ2ADMJ",
        "colab_type": "code",
        "outputId": "7fe32b22-4842-44bf-cc1b-1bfa645a9662",
        "colab": {
          "base_uri": "https://localhost:8080/",
          "height": 199
        }
      },
      "cell_type": "code",
      "source": [
        "optimize(num_iterations=900) # We performed 100 iterations above."
      ],
      "execution_count": 205,
      "outputs": [
        {
          "output_type": "stream",
          "text": [
            "Optimization Iteration:    101, Training Accuracy:  54.7%\n",
            "Optimization Iteration:    201, Training Accuracy:  65.6%\n",
            "Optimization Iteration:    301, Training Accuracy:  92.2%\n",
            "Optimization Iteration:    401, Training Accuracy:  87.5%\n",
            "Optimization Iteration:    501, Training Accuracy:  85.9%\n",
            "Optimization Iteration:    601, Training Accuracy:  95.3%\n",
            "Optimization Iteration:    701, Training Accuracy:  89.1%\n",
            "Optimization Iteration:    801, Training Accuracy:  89.1%\n",
            "Optimization Iteration:    901, Training Accuracy: 100.0%\n",
            "Time usage: 0:01:17\n"
          ],
          "name": "stdout"
        }
      ]
    },
    {
      "metadata": {
        "scrolled": true,
        "id": "DpXUwyGrADMS",
        "colab_type": "code",
        "outputId": "4decb779-ef37-4836-dd9f-a76407dd9264",
        "colab": {
          "base_uri": "https://localhost:8080/",
          "height": 299
        }
      },
      "cell_type": "code",
      "source": [
        "print_test_accuracy(show_example_errors=True)"
      ],
      "execution_count": 206,
      "outputs": [
        {
          "output_type": "stream",
          "text": [
            "Accuracy on Test-Set: 93.4% (9339 / 10000)\n",
            "Example errors:\n"
          ],
          "name": "stdout"
        },
        {
          "output_type": "display_data",
          "data": {
            "image/png": "[encoded data removed]",
            "text/plain": [
              "<matplotlib.figure.Figure at 0x7f38a8e00278>"
            ]
          },
          "metadata": {
            "tags": []
          }
        }
      ]
    },
    {
      "metadata": {
        "id": "6LVgp2rAADMY",
        "colab_type": "text"
      },
      "cell_type": "markdown",
      "source": [
        "## Performance after 10,000 optimization iterations\n",
        "\n",
        "After 10,000 optimization iterations, the model has a classification accuracy on the test-set of about 99%.\n",
        "\n",
        "use_relu=True in FCL2 \\\n",
        "Optimization Iteration:   9901, Training Accuracy:  62.5% \\\n",
        "Accuracy on Test-Set: 69.4% (6942 / 10000)\n",
        "\n",
        "use_relu=False in FCL2 \\\n",
        "Optimization Iteration:   9901, Training Accuracy:  98.4%\n",
        "Accuracy on Test-Set: 98.6% (9863 / 10000)\n"
      ]
    },
    {
      "metadata": {
        "scrolled": true,
        "id": "FgpzvB9rADMa",
        "colab_type": "code",
        "outputId": "9b7fb45a-a4ae-4b6f-a529-1af73561b18b",
        "colab": {
          "base_uri": "https://localhost:8080/",
          "height": 1672
        }
      },
      "cell_type": "code",
      "source": [
        "optimize(num_iterations=9000) # We performed 1000 iterations above."
      ],
      "execution_count": 207,
      "outputs": [
        {
          "output_type": "stream",
          "text": [
            "Optimization Iteration:   1001, Training Accuracy:  96.9%\n",
            "Optimization Iteration:   1101, Training Accuracy:  96.9%\n",
            "Optimization Iteration:   1201, Training Accuracy:  95.3%\n",
            "Optimization Iteration:   1301, Training Accuracy:  92.2%\n",
            "Optimization Iteration:   1401, Training Accuracy:  95.3%\n",
            "Optimization Iteration:   1501, Training Accuracy:  96.9%\n",
            "Optimization Iteration:   1601, Training Accuracy:  93.8%\n",
            "Optimization Iteration:   1701, Training Accuracy:  95.3%\n",
            "Optimization Iteration:   1801, Training Accuracy:  98.4%\n",
            "Optimization Iteration:   1901, Training Accuracy:  96.9%\n",
            "Optimization Iteration:   2001, Training Accuracy:  96.9%\n",
            "Optimization Iteration:   2101, Training Accuracy:  96.9%\n",
            "Optimization Iteration:   2201, Training Accuracy:  92.2%\n",
            "Optimization Iteration:   2301, Training Accuracy:  95.3%\n",
            "Optimization Iteration:   2401, Training Accuracy:  96.9%\n",
            "Optimization Iteration:   2501, Training Accuracy:  93.8%\n",
            "Optimization Iteration:   2601, Training Accuracy:  96.9%\n",
            "Optimization Iteration:   2701, Training Accuracy: 100.0%\n",
            "Optimization Iteration:   2801, Training Accuracy:  98.4%\n",
            "Optimization Iteration:   2901, Training Accuracy:  98.4%\n",
            "Optimization Iteration:   3001, Training Accuracy: 100.0%\n",
            "Optimization Iteration:   3101, Training Accuracy:  95.3%\n",
            "Optimization Iteration:   3201, Training Accuracy:  98.4%\n",
            "Optimization Iteration:   3301, Training Accuracy:  96.9%\n",
            "Optimization Iteration:   3401, Training Accuracy:  96.9%\n",
            "Optimization Iteration:   3501, Training Accuracy:  98.4%\n",
            "Optimization Iteration:   3601, Training Accuracy: 100.0%\n",
            "Optimization Iteration:   3701, Training Accuracy: 100.0%\n",
            "Optimization Iteration:   3801, Training Accuracy:  96.9%\n",
            "Optimization Iteration:   3901, Training Accuracy:  98.4%\n",
            "Optimization Iteration:   4001, Training Accuracy:  96.9%\n",
            "Optimization Iteration:   4101, Training Accuracy:  96.9%\n",
            "Optimization Iteration:   4201, Training Accuracy:  98.4%\n",
            "Optimization Iteration:   4301, Training Accuracy:  96.9%\n",
            "Optimization Iteration:   4401, Training Accuracy:  96.9%\n",
            "Optimization Iteration:   4501, Training Accuracy: 100.0%\n",
            "Optimization Iteration:   4601, Training Accuracy: 100.0%\n",
            "Optimization Iteration:   4701, Training Accuracy: 100.0%\n",
            "Optimization Iteration:   4801, Training Accuracy:  96.9%\n",
            "Optimization Iteration:   4901, Training Accuracy:  98.4%\n",
            "Optimization Iteration:   5001, Training Accuracy:  95.3%\n",
            "Optimization Iteration:   5101, Training Accuracy: 100.0%\n",
            "Optimization Iteration:   5201, Training Accuracy:  98.4%\n",
            "Optimization Iteration:   5301, Training Accuracy:  98.4%\n",
            "Optimization Iteration:   5401, Training Accuracy:  93.8%\n",
            "Optimization Iteration:   5501, Training Accuracy:  96.9%\n",
            "Optimization Iteration:   5601, Training Accuracy:  98.4%\n",
            "Optimization Iteration:   5701, Training Accuracy:  95.3%\n",
            "Optimization Iteration:   5801, Training Accuracy:  96.9%\n",
            "Optimization Iteration:   5901, Training Accuracy:  98.4%\n",
            "Optimization Iteration:   6001, Training Accuracy: 100.0%\n",
            "Optimization Iteration:   6101, Training Accuracy: 100.0%\n",
            "Optimization Iteration:   6201, Training Accuracy: 100.0%\n",
            "Optimization Iteration:   6301, Training Accuracy:  98.4%\n",
            "Optimization Iteration:   6401, Training Accuracy:  98.4%\n",
            "Optimization Iteration:   6501, Training Accuracy:  98.4%\n",
            "Optimization Iteration:   6601, Training Accuracy:  96.9%\n",
            "Optimization Iteration:   6701, Training Accuracy:  96.9%\n",
            "Optimization Iteration:   6801, Training Accuracy: 100.0%\n",
            "Optimization Iteration:   6901, Training Accuracy:  96.9%\n",
            "Optimization Iteration:   7001, Training Accuracy: 100.0%\n",
            "Optimization Iteration:   7101, Training Accuracy: 100.0%\n",
            "Optimization Iteration:   7201, Training Accuracy: 100.0%\n",
            "Optimization Iteration:   7301, Training Accuracy:  98.4%\n",
            "Optimization Iteration:   7401, Training Accuracy: 100.0%\n",
            "Optimization Iteration:   7501, Training Accuracy: 100.0%\n",
            "Optimization Iteration:   7601, Training Accuracy:  96.9%\n",
            "Optimization Iteration:   7701, Training Accuracy: 100.0%\n",
            "Optimization Iteration:   7801, Training Accuracy: 100.0%\n",
            "Optimization Iteration:   7901, Training Accuracy:  98.4%\n",
            "Optimization Iteration:   8001, Training Accuracy:  98.4%\n",
            "Optimization Iteration:   8101, Training Accuracy:  98.4%\n",
            "Optimization Iteration:   8201, Training Accuracy: 100.0%\n",
            "Optimization Iteration:   8301, Training Accuracy: 100.0%\n",
            "Optimization Iteration:   8401, Training Accuracy:  98.4%\n",
            "Optimization Iteration:   8501, Training Accuracy: 100.0%\n",
            "Optimization Iteration:   8601, Training Accuracy:  96.9%\n",
            "Optimization Iteration:   8701, Training Accuracy: 100.0%\n",
            "Optimization Iteration:   8801, Training Accuracy: 100.0%\n",
            "Optimization Iteration:   8901, Training Accuracy:  96.9%\n",
            "Optimization Iteration:   9001, Training Accuracy:  98.4%\n",
            "Optimization Iteration:   9101, Training Accuracy: 100.0%\n",
            "Optimization Iteration:   9201, Training Accuracy: 100.0%\n",
            "Optimization Iteration:   9301, Training Accuracy:  98.4%\n",
            "Optimization Iteration:   9401, Training Accuracy: 100.0%\n",
            "Optimization Iteration:   9501, Training Accuracy:  98.4%\n",
            "Optimization Iteration:   9601, Training Accuracy: 100.0%\n",
            "Optimization Iteration:   9701, Training Accuracy:  98.4%\n",
            "Optimization Iteration:   9801, Training Accuracy:  96.9%\n",
            "Optimization Iteration:   9901, Training Accuracy:  98.4%\n",
            "Time usage: 0:12:38\n"
          ],
          "name": "stdout"
        }
      ]
    },
    {
      "metadata": {
        "scrolled": true,
        "id": "srW9pAgEADMe",
        "colab_type": "code",
        "outputId": "7af9806c-739c-4a23-99d4-80fdaaa839da",
        "colab": {
          "base_uri": "https://localhost:8080/",
          "height": 742
        }
      },
      "cell_type": "code",
      "source": [
        "print_test_accuracy(show_example_errors=True,\n",
        "                    show_confusion_matrix=True)"
      ],
      "execution_count": 208,
      "outputs": [
        {
          "output_type": "stream",
          "text": [
            "Accuracy on Test-Set: 98.6% (9863 / 10000)\n",
            "Example errors:\n"
          ],
          "name": "stdout"
        },
        {
          "output_type": "display_data",
          "data": {
            "image/png": "[encoded data removed]",
            "text/plain": [
              "<matplotlib.figure.Figure at 0x7f38af5287f0>"
            ]
          },
          "metadata": {
            "tags": []
          }
        },
        {
          "output_type": "stream",
          "text": [
            "Confusion Matrix:\n",
            "[[ 973    1    1    0    0    0    2    1    2    0]\n",
            " [   0 1128    2    0    1    0    3    1    0    0]\n",
            " [   4    2 1016    0    1    0    0    4    5    0]\n",
            " [   2    0    5  994    0    4    0    2    3    0]\n",
            " [   0    0    0    0  982    0    0    0    0    0]\n",
            " [   2    0    0    2    0  881    4    1    2    0]\n",
            " [   4    3    0    0    3    3  945    0    0    0]\n",
            " [   0    1   10    2    0    0    0 1012    1    2]\n",
            " [   5    2    3    3    1    0    2    2  954    2]\n",
            " [   4    7    0    2    9    2    0    7    0  978]]\n"
          ],
          "name": "stdout"
        },
        {
          "output_type": "display_data",
          "data": {
            "image/png": "[encoded data removed]",
            "text/plain": [
              "<matplotlib.figure.Figure at 0x7f38a8db0b38>"
            ]
          },
          "metadata": {
            "tags": []
          }
        }
      ]
    },
    {
      "metadata": {
        "id": "O_szwbRfADMi",
        "colab_type": "text"
      },
      "cell_type": "markdown",
      "source": [
        "## Visualization of Weights and Layers\n",
        "\n",
        "In trying to understand why the convolutional neural network can recognize handwritten digits, we will now visualize the weights of the convolutional filters and the resulting output images."
      ]
    },
    {
      "metadata": {
        "id": "0yJg5YppADMk",
        "colab_type": "text"
      },
      "cell_type": "markdown",
      "source": [
        "### Helper-function for plotting convolutional weights"
      ]
    },
    {
      "metadata": {
        "id": "82OfcgLVADMl",
        "colab_type": "code",
        "colab": {}
      },
      "cell_type": "code",
      "source": [
        "def plot_conv_weights(weights, input_channel=0):\n",
        "    # Assume weights are TensorFlow ops for 4-dim variables\n",
        "    # e.g. weights_conv1 or weights_conv2.\n",
        "    \n",
        "    # Retrieve the values of the weight-variables from TensorFlow.\n",
        "    # A feed-dict is not necessary because nothing is calculated.\n",
        "    w = session.run(weights)\n",
        "\n",
        "    # Get the lowest and highest values for the weights.\n",
        "    # This is used to correct the colour intensity across\n",
        "    # the images so they can be compared with each other.\n",
        "    w_min = np.min(w)\n",
        "    w_max = np.max(w)\n",
        "\n",
        "    # Number of filters used in the conv. layer.\n",
        "    num_filters = w.shape[3]\n",
        "\n",
        "    # Number of grids to plot.\n",
        "    # Rounded-up, square-root of the number of filters.\n",
        "    num_grids = math.ceil(math.sqrt(num_filters))\n",
        "    \n",
        "    # Create figure with a grid of sub-plots.\n",
        "    fig, axes = plt.subplots(num_grids, num_grids)\n",
        "\n",
        "    # Plot all the filter-weights.\n",
        "    for i, ax in enumerate(axes.flat):\n",
        "        # Only plot the valid filter-weights.\n",
        "        if i<num_filters:\n",
        "            # Get the weights for the i'th filter of the input channel.\n",
        "            # See new_conv_layer() for details on the format\n",
        "            # of this 4-dim tensor.\n",
        "            img = w[:, :, input_channel, i]\n",
        "\n",
        "            # Plot image.\n",
        "            ax.imshow(img, vmin=w_min, vmax=w_max,\n",
        "                      interpolation='nearest', cmap='seismic')\n",
        "        \n",
        "        # Remove ticks from the plot.\n",
        "        ax.set_xticks([])\n",
        "        ax.set_yticks([])\n",
        "    \n",
        "    # Ensure the plot is shown correctly with multiple plots\n",
        "    # in a single Notebook cell.\n",
        "    plt.show()"
      ],
      "execution_count": 0,
      "outputs": []
    },
    {
      "metadata": {
        "id": "mW-5DbvGADMo",
        "colab_type": "text"
      },
      "cell_type": "markdown",
      "source": [
        "### Helper-function for plotting the output of a convolutional layer"
      ]
    },
    {
      "metadata": {
        "id": "SknGztx1ADMr",
        "colab_type": "code",
        "colab": {}
      },
      "cell_type": "code",
      "source": [
        "def plot_conv_layer(layer, image):\n",
        "    # Assume layer is a TensorFlow op that outputs a 4-dim tensor\n",
        "    # which is the output of a convolutional layer,\n",
        "    # e.g. layer_conv1 or layer_conv2.\n",
        "\n",
        "    # Create a feed-dict containing just one image.\n",
        "    # Note that we don't need to feed y_true because it is\n",
        "    # not used in this calculation.\n",
        "    feed_dict = {x: [image]}\n",
        "\n",
        "    # Calculate and retrieve the output values of the layer\n",
        "    # when inputting that image.\n",
        "    values = session.run(layer, feed_dict=feed_dict)\n",
        "\n",
        "    # Number of filters used in the conv. layer.\n",
        "    num_filters = values.shape[3]\n",
        "\n",
        "    # Number of grids to plot.\n",
        "    # Rounded-up, square-root of the number of filters.\n",
        "    num_grids = math.ceil(math.sqrt(num_filters))\n",
        "    \n",
        "    # Create figure with a grid of sub-plots.\n",
        "    fig, axes = plt.subplots(num_grids, num_grids)\n",
        "\n",
        "    # Plot the output images of all the filters.\n",
        "    for i, ax in enumerate(axes.flat):\n",
        "        # Only plot the images for valid filters.\n",
        "        if i<num_filters:\n",
        "            # Get the output image of using the i'th filter.\n",
        "            # See new_conv_layer() for details on the format\n",
        "            # of this 4-dim tensor.\n",
        "            img = values[0, :, :, i]\n",
        "\n",
        "            # Plot image.\n",
        "            ax.imshow(img, interpolation='nearest', cmap='binary')\n",
        "        \n",
        "        # Remove ticks from the plot.\n",
        "        ax.set_xticks([])\n",
        "        ax.set_yticks([])\n",
        "    \n",
        "    # Ensure the plot is shown correctly with multiple plots\n",
        "    # in a single Notebook cell.\n",
        "    plt.show()"
      ],
      "execution_count": 0,
      "outputs": []
    },
    {
      "metadata": {
        "id": "3H-deizSADMy",
        "colab_type": "text"
      },
      "cell_type": "markdown",
      "source": [
        "### Input Images"
      ]
    },
    {
      "metadata": {
        "id": "tfNT1_x9ADMz",
        "colab_type": "text"
      },
      "cell_type": "markdown",
      "source": [
        "Helper-function for plotting an image."
      ]
    },
    {
      "metadata": {
        "id": "elzojo1tADM3",
        "colab_type": "code",
        "colab": {}
      },
      "cell_type": "code",
      "source": [
        "def plot_image(image):\n",
        "    plt.imshow(image.reshape(img_shape),\n",
        "               interpolation='nearest',\n",
        "               cmap='binary')\n",
        "\n",
        "    plt.show()"
      ],
      "execution_count": 0,
      "outputs": []
    },
    {
      "metadata": {
        "id": "f8em3c_gADM6",
        "colab_type": "text"
      },
      "cell_type": "markdown",
      "source": [
        "Plot an image from the test-set which will be used as an example below."
      ]
    },
    {
      "metadata": {
        "id": "dpXejPvoADM7",
        "colab_type": "code",
        "outputId": "a2766683-d406-41f2-bbc3-553088da54e1",
        "colab": {
          "base_uri": "https://localhost:8080/",
          "height": 265
        }
      },
      "cell_type": "code",
      "source": [
        "image1 = data.x_test[0]\n",
        "plot_image(image1)"
      ],
      "execution_count": 212,
      "outputs": [
        {
          "output_type": "display_data",
          "data": {
            "image/png": "[encoded data removed]",
            "text/plain": [
              "<matplotlib.figure.Figure at 0x7f38af4865f8>"
            ]
          },
          "metadata": {
            "tags": []
          }
        }
      ]
    },
    {
      "metadata": {
        "id": "MSCA46osADNA",
        "colab_type": "text"
      },
      "cell_type": "markdown",
      "source": [
        "Plot another example image from the test-set."
      ]
    },
    {
      "metadata": {
        "id": "vcSvc2aIADNA",
        "colab_type": "code",
        "outputId": "bce0356b-a848-4d49-a451-983f17415029",
        "colab": {
          "base_uri": "https://localhost:8080/",
          "height": 265
        }
      },
      "cell_type": "code",
      "source": [
        "image2 = data.x_test[13]\n",
        "plot_image(image2)"
      ],
      "execution_count": 213,
      "outputs": [
        {
          "output_type": "display_data",
          "data": {
            "image/png": "[encoded data removed]",
            "text/plain": [
              "<matplotlib.figure.Figure at 0x7f38af65d828>"
            ]
          },
          "metadata": {
            "tags": []
          }
        }
      ]
    },
    {
      "metadata": {
        "id": "yiR1dYO6ADNJ",
        "colab_type": "text"
      },
      "cell_type": "markdown",
      "source": [
        "### Convolution Layer 1"
      ]
    },
    {
      "metadata": {
        "id": "MZJdkTQZADNL",
        "colab_type": "text"
      },
      "cell_type": "markdown",
      "source": [
        "Now plot the filter-weights for the first convolutional layer.\n",
        "\n",
        "Note that positive weights are red and negative weights are blue."
      ]
    },
    {
      "metadata": {
        "scrolled": false,
        "id": "XvOJ-2tfADNL",
        "colab_type": "code",
        "outputId": "3ea5e27c-7a98-405d-affb-babf2670311c",
        "colab": {
          "base_uri": "https://localhost:8080/",
          "height": 248
        }
      },
      "cell_type": "code",
      "source": [
        "plot_conv_weights(weights=weights_conv1)"
      ],
      "execution_count": 214,
      "outputs": [
        {
          "output_type": "display_data",
          "data": {
            "image/png": "[encoded data removed]",
            "text/plain": [
              "<matplotlib.figure.Figure at 0x7f38af65d518>"
            ]
          },
          "metadata": {
            "tags": []
          }
        }
      ]
    },
    {
      "metadata": {
        "id": "ifS75uccADNT",
        "colab_type": "text"
      },
      "cell_type": "markdown",
      "source": [
        "Applying each of these convolutional filters to the first input image gives the following output images, which are then used as input to the second convolutional layer. Note that these images are down-sampled to 14 x 14 pixels which is half the resolution of the original input image."
      ]
    },
    {
      "metadata": {
        "scrolled": true,
        "id": "oQQzFHKIADNW",
        "colab_type": "code",
        "outputId": "ae7ee943-1254-43bc-c839-80fb525004b4",
        "colab": {
          "base_uri": "https://localhost:8080/",
          "height": 248
        }
      },
      "cell_type": "code",
      "source": [
        "plot_conv_layer(layer=layer_conv1, image=image1)"
      ],
      "execution_count": 215,
      "outputs": [
        {
          "output_type": "display_data",
          "data": {
            "image/png": "[encoded data removed]",
            "text/plain": [
              "<matplotlib.figure.Figure at 0x7f38af65dd30>"
            ]
          },
          "metadata": {
            "tags": []
          }
        }
      ]
    },
    {
      "metadata": {
        "id": "8KNt4GZiADNd",
        "colab_type": "text"
      },
      "cell_type": "markdown",
      "source": [
        "The following images are the results of applying the convolutional filters to the second image."
      ]
    },
    {
      "metadata": {
        "scrolled": false,
        "id": "Pv3x1oVrADNf",
        "colab_type": "code",
        "outputId": "ef7945f7-e007-4804-a4bd-8b85f698900f",
        "colab": {
          "base_uri": "https://localhost:8080/",
          "height": 248
        }
      },
      "cell_type": "code",
      "source": [
        "plot_conv_layer(layer=layer_conv1, image=image2)"
      ],
      "execution_count": 216,
      "outputs": [
        {
          "output_type": "display_data",
          "data": {
            "image/png": "[encoded data removed]",
            "text/plain": [
              "<matplotlib.figure.Figure at 0x7f38af65d978>"
            ]
          },
          "metadata": {
            "tags": []
          }
        }
      ]
    },
    {
      "metadata": {
        "id": "VFfrGoSMADNi",
        "colab_type": "text"
      },
      "cell_type": "markdown",
      "source": [
        "It is difficult to see from these images what the purpose of the convolutional filters might be. It appears that they have merely created several variations of the input image, as if light was shining from different angles and casting shadows in the image."
      ]
    },
    {
      "metadata": {
        "id": "7ihDYkV1ADNi",
        "colab_type": "text"
      },
      "cell_type": "markdown",
      "source": [
        "### Convolution Layer 2"
      ]
    },
    {
      "metadata": {
        "id": "hrkGYm6DADNk",
        "colab_type": "text"
      },
      "cell_type": "markdown",
      "source": [
        "Now plot the filter-weights for the second convolutional layer.\n",
        "\n",
        "There are 16 output channels from the first conv-layer, which means there are 16 input channels to the second conv-layer. The second conv-layer has a set of filter-weights for each of its input channels. We start by plotting the filter-weigths for the first channel.\n",
        "\n",
        "Note again that positive weights are red and negative weights are blue."
      ]
    },
    {
      "metadata": {
        "scrolled": false,
        "id": "vtOVpPJCADNk",
        "colab_type": "code",
        "outputId": "7f84d7c6-b4ff-4e8c-942f-46aa3b6f34d4",
        "colab": {
          "base_uri": "https://localhost:8080/",
          "height": 248
        }
      },
      "cell_type": "code",
      "source": [
        "plot_conv_weights(weights=weights_conv2, input_channel=0)"
      ],
      "execution_count": 217,
      "outputs": [
        {
          "output_type": "display_data",
          "data": {
            "image/png": "[encoded data removed]",
            "text/plain": [
              "<matplotlib.figure.Figure at 0x7f38a83df748>"
            ]
          },
          "metadata": {
            "tags": []
          }
        }
      ]
    },
    {
      "metadata": {
        "id": "Q6nOfh8MADNn",
        "colab_type": "text"
      },
      "cell_type": "markdown",
      "source": [
        "There are 16 input channels to the second convolutional layer, so we can make another 15 plots of filter-weights like this. We just make one more with the filter-weights for the second channel. "
      ]
    },
    {
      "metadata": {
        "id": "s6OJdVHFADNp",
        "colab_type": "code",
        "outputId": "6e0e1459-02d2-4d08-bb94-991934faf312",
        "colab": {
          "base_uri": "https://localhost:8080/",
          "height": 248
        }
      },
      "cell_type": "code",
      "source": [
        "plot_conv_weights(weights=weights_conv2, input_channel=1)"
      ],
      "execution_count": 218,
      "outputs": [
        {
          "output_type": "display_data",
          "data": {
            "image/png": "[encoded data removed]",
            "text/plain": [
              "<matplotlib.figure.Figure at 0x7f38a8db0b38>"
            ]
          },
          "metadata": {
            "tags": []
          }
        }
      ]
    },
    {
      "metadata": {
        "id": "xzrTTJMuADNs",
        "colab_type": "text"
      },
      "cell_type": "markdown",
      "source": [
        "It can be difficult to understand and keep track of how these filters are applied because of the high dimensionality.\n",
        "\n",
        "Applying these convolutional filters to the images that were ouput from the first conv-layer gives the following images.\n",
        "\n",
        "Note that these are down-sampled yet again to 7 x 7 pixels which is half the resolution of the images from the first conv-layer."
      ]
    },
    {
      "metadata": {
        "scrolled": false,
        "id": "LUGnmnyJADNs",
        "colab_type": "code",
        "outputId": "42bb9735-280b-4615-8002-31e5f33e86a2",
        "colab": {
          "base_uri": "https://localhost:8080/",
          "height": 248
        }
      },
      "cell_type": "code",
      "source": [
        "plot_conv_layer(layer=layer_conv2, image=image1)"
      ],
      "execution_count": 219,
      "outputs": [
        {
          "output_type": "display_data",
          "data": {
            "image/png": "[encoded data removed]",
            "text/plain": [
              "<matplotlib.figure.Figure at 0x7f38a7ee3128>"
            ]
          },
          "metadata": {
            "tags": []
          }
        }
      ]
    },
    {
      "metadata": {
        "id": "0TcfW4g5ADNy",
        "colab_type": "text"
      },
      "cell_type": "markdown",
      "source": [
        "And these are the results of applying the filter-weights to the second image."
      ]
    },
    {
      "metadata": {
        "scrolled": false,
        "id": "RhgzycyFADN0",
        "colab_type": "code",
        "outputId": "c50e8599-1ccf-4332-9c04-47f6c566b120",
        "colab": {
          "base_uri": "https://localhost:8080/",
          "height": 248
        }
      },
      "cell_type": "code",
      "source": [
        "plot_conv_layer(layer=layer_conv2, image=image2)"
      ],
      "execution_count": 220,
      "outputs": [
        {
          "output_type": "display_data",
          "data": {
            "image/png": "[encoded data removed]",
            "text/plain": [
              "<matplotlib.figure.Figure at 0x7f38a7eef2e8>"
            ]
          },
          "metadata": {
            "tags": []
          }
        }
      ]
    },
    {
      "metadata": {
        "id": "7eiyStRUADN7",
        "colab_type": "text"
      },
      "cell_type": "markdown",
      "source": [
        "From these images, it looks like the second convolutional layer might detect lines and patterns in the input images, which are less sensitive to local variations in the original input images.\n",
        "\n",
        "These images are then flattened and input to the fully-connected layer, but that is not shown here."
      ]
    },
    {
      "metadata": {
        "id": "ZotfOkkKADN8",
        "colab_type": "text"
      },
      "cell_type": "markdown",
      "source": [
        "### Close TensorFlow Session"
      ]
    },
    {
      "metadata": {
        "id": "r3p2HFTUADN8",
        "colab_type": "text"
      },
      "cell_type": "markdown",
      "source": [
        "We are now done using TensorFlow, so we close the session to release its resources."
      ]
    },
    {
      "metadata": {
        "id": "wJM82efbADN9",
        "colab_type": "code",
        "colab": {}
      },
      "cell_type": "code",
      "source": [
        "# This has been commented out in case you want to modify and experiment\n",
        "# with the Notebook without having to restart it.\n",
        "# session.close()"
      ],
      "execution_count": 0,
      "outputs": []
    },
    {
      "metadata": {
        "id": "LioOm0GkADN_",
        "colab_type": "text"
      },
      "cell_type": "markdown",
      "source": [
        "## Conclusion\n",
        "\n",
        "We have seen that a Convolutional Neural Network works much better at recognizing hand-written digits than the simple linear model in Tutorial #01. The Convolutional Network gets a classification accuracy of about 99%, or even more if you make some adjustments, compared to only 91% for the simple linear model.\n",
        "\n",
        "However, the Convolutional Network is also much more complicated to implement, and it is not obvious from looking at the filter-weights why it works and why it sometimes fails.\n",
        "\n",
        "So we would like an easier way to program Convolutional Neural Networks and we would also like a better way of visualizing their inner workings."
      ]
    },
    {
      "metadata": {
        "id": "I8editj9ADOA",
        "colab_type": "text"
      },
      "cell_type": "markdown",
      "source": [
        "## Exercises\n",
        "\n",
        "These are a few suggestions for exercises that may help improve your skills with TensorFlow. It is important to get hands-on experience with TensorFlow in order to learn how to use it properly.\n",
        "\n",
        "You may want to backup this Notebook before making any changes.\n",
        "\n",
        "* Do you get the exact same results if you run the Notebook multiple times without changing any parameters? What are the sources of randomness?\n",
        "* Run another 10,000 optimization iterations. Are the results better?\n",
        "* Change the learning-rate for the optimizer.\n",
        "* Change the configuration of the layers, such as the number of convolutional filters, the size of those filters, the number of neurons in the fully-connected layer, etc.\n",
        "* Add a so-called drop-out layer after the fully-connected layer. Note that the drop-out probability should be zero when calculating the classification accuracy, so you will need a placeholder variable for this probability.\n",
        "* Change the order of ReLU and max-pooling in the convolutional layer. Does it calculate the same thing? What is the fastest way of computing it? How many calculations are saved? Does it also work for Sigmoid-functions and average-pooling?\n",
        "* Add one or more convolutional and fully-connected layers. Does it help performance?\n",
        "* What is the smallest possible configuration that still gives good results?\n",
        "* Try using ReLU in the last fully-connected layer. Does the performance change? Why? \n",
        "\n",
        "performance gets worse. \n",
        "For hidden layers you should almost always use ReLUs. They are fast, fairly accurate, and have lots of desirable mathematical and numerical properties that make NN optimization very efficient.\n",
        "\n",
        "For the final output layer, the choice will come down to what sort of problem you are solving. Here computations are usually not as complex and demanding as for the hidden layers. ReLUs can be used for single-label problems, while softmax output is ideally suited for multiclass problems.\n",
        "\n",
        "* Try not using pooling in the convolutional layers. Does it change the classification accuracy and training time?\n",
        "* Try using a 2x2 stride in the convolution instead of max-pooling? What is the difference?\n",
        "* Remake the program yourself without looking too much at this source-code.\n",
        "* Explain to a friend how the program works."
      ]
    },
    {
      "metadata": {
        "id": "QncmZmSWADOB",
        "colab_type": "text"
      },
      "cell_type": "markdown",
      "source": [
        "## License (MIT)\n",
        "\n",
        "Copyright (c) 2016 by [Magnus Erik Hvass Pedersen](http://www.hvass-labs.org/)\n",
        "\n",
        "Permission is hereby granted, free of charge, to any person obtaining a copy of this software and associated documentation files (the \"Software\"), to deal in the Software without restriction, including without limitation the rights to use, copy, modify, merge, publish, distribute, sublicense, and/or sell copies of the Software, and to permit persons to whom the Software is furnished to do so, subject to the following conditions:\n",
        "\n",
        "The above copyright notice and this permission notice shall be included in all copies or substantial portions of the Software.\n",
        "\n",
        "THE SOFTWARE IS PROVIDED \"AS IS\", WITHOUT WARRANTY OF ANY KIND, EXPRESS OR IMPLIED, INCLUDING BUT NOT LIMITED TO THE WARRANTIES OF MERCHANTABILITY, FITNESS FOR A PARTICULAR PURPOSE AND NONINFRINGEMENT. IN NO EVENT SHALL THE AUTHORS OR COPYRIGHT HOLDERS BE LIABLE FOR ANY CLAIM, DAMAGES OR OTHER LIABILITY, WHETHER IN AN ACTION OF CONTRACT, TORT OR OTHERWISE, ARISING FROM, OUT OF OR IN CONNECTION WITH THE SOFTWARE OR THE USE OR OTHER DEALINGS IN THE SOFTWARE."
      ]
    }
  ]
}